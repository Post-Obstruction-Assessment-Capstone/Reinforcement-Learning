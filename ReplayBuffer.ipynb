{
 "cells": [
  {
   "cell_type": "code",
   "execution_count": 1,
   "id": "f8a7e49a",
   "metadata": {},
   "outputs": [
    {
     "data": {
      "text/html": [
       "<style>.container { width:85% !important; }</style>"
      ],
      "text/plain": [
       "<IPython.core.display.HTML object>"
      ]
     },
     "metadata": {},
     "output_type": "display_data"
    }
   ],
   "source": [
    "# Makes the display take up more of the screen\n",
    "from IPython.core.display import display, HTML\n",
    "display(HTML(\"<style>.container { width:85% !important; }</style>\"))"
   ]
  },
  {
   "cell_type": "code",
   "execution_count": 2,
   "id": "7a00740f",
   "metadata": {},
   "outputs": [],
   "source": [
    "# Export\n",
    "import numpy as np"
   ]
  },
  {
   "cell_type": "code",
   "execution_count": 3,
   "id": "05417949",
   "metadata": {},
   "outputs": [],
   "source": [
    "# Export\n",
    "class ReplayBuffer(object):\n",
    "    def __init__(self, max_size, input_shape, n_actions):\n",
    "        self.memory_size = max_size\n",
    "        self.memory_counter = 0\n",
    "        self.state_memory = np.zeros((self.memory_size, *input_shape),\n",
    "                                     dtype=np.float32)\n",
    "        self.new_state_memory = np.zeros((self.memory_size, *input_shape),\n",
    "                                         dtype=np.float32)\n",
    "\n",
    "        self.action_memory = np.zeros(self.memory_size, dtype=np.int64)\n",
    "        self.reward_memory = np.zeros(self.memory_size, dtype=np.float32)\n",
    "        self.terminal_memory = np.zeros(self.memory_size, dtype=np.bool)\n",
    "\n",
    "    def store_transition(self, state, action, reward, state_next, done):\n",
    "        index = self.memory_counter % self.memory_size\n",
    "        self.state_memory[index] = state\n",
    "        self.new_state_memory[index] = state_next\n",
    "        self.action_memory[index] = action\n",
    "        self.reward_memory[index] = reward\n",
    "        self.terminal_memory[index] = done\n",
    "        self.memory_counter += 1\n",
    "\n",
    "    def sample_buffer(self, batch_size):\n",
    "        max_memory = min(self.memory_counter, self.memory_size)\n",
    "        batch = np.random.choice(max_memory, batch_size, replace=False)\n",
    "\n",
    "        states = self.state_memory[batch]\n",
    "        actions = self.action_memory[batch]\n",
    "        rewards = self.reward_memory[batch]\n",
    "        states_next = self.new_state_memory[batch]\n",
    "        terminal = self.terminal_memory[batch]\n",
    "\n",
    "        return states, actions, rewards, states_next, terminal"
   ]
  },
  {
   "cell_type": "code",
   "execution_count": null,
   "id": "4469c742",
   "metadata": {},
   "outputs": [],
   "source": []
  },
  {
   "cell_type": "code",
   "execution_count": 1,
   "id": "7c09ede4",
   "metadata": {},
   "outputs": [
    {
     "name": "stdout",
     "output_type": "stream",
     "text": [
      "Converted ReplayBuffer.ipynb to nbdev/nb_ReplayBuffer.py\r\n"
     ]
    }
   ],
   "source": [
    "!python notebook2script.py ReplayBuffer.ipynb"
   ]
  },
  {
   "cell_type": "code",
   "execution_count": 2,
   "id": "d94dccc3",
   "metadata": {},
   "outputs": [
    {
     "name": "stdout",
     "output_type": "stream",
     "text": [
      "Finished: Sunday February 20, 2022 at 10:15\n"
     ]
    }
   ],
   "source": [
    "import datetime as dt\n",
    "end=dt.datetime.now()\n",
    "print(f'Finished: {end.strftime(\"%A %B %d, %Y\")} at {end.strftime(\"%H:%M\")}')"
   ]
  }
 ],
 "metadata": {
  "kernelspec": {
   "display_name": "Python 3 (ipykernel)",
   "language": "python",
   "name": "python3"
  },
  "language_info": {
   "codemirror_mode": {
    "name": "ipython",
    "version": 3
   },
   "file_extension": ".py",
   "mimetype": "text/x-python",
   "name": "python",
   "nbconvert_exporter": "python",
   "pygments_lexer": "ipython3",
   "version": "3.7.11"
  }
 },
 "nbformat": 4,
 "nbformat_minor": 5
}
