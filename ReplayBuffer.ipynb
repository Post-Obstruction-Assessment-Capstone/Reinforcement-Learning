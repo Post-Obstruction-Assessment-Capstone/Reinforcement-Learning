{
 "cells": [
  {
   "cell_type": "code",
   "execution_count": 1,
   "id": "2fe60309",
   "metadata": {},
   "outputs": [
    {
     "data": {
      "text/html": [
       "<style>.container { width:85% !important; }</style>"
      ],
      "text/plain": [
       "<IPython.core.display.HTML object>"
      ]
     },
     "metadata": {},
     "output_type": "display_data"
    }
   ],
   "source": [
    "# Makes the display take up more of the screen\n",
    "from IPython.core.display import display, HTML\n",
    "display(HTML(\"<style>.container { width:85% !important; }</style>\"))"
   ]
  },
  {
   "cell_type": "code",
   "execution_count": 2,
   "id": "57e2fe8b",
   "metadata": {},
   "outputs": [],
   "source": [
    "# Export\n",
    "import numpy as np"
   ]
  },
  {
   "cell_type": "code",
   "execution_count": 3,
   "id": "452d4757",
   "metadata": {},
   "outputs": [],
   "source": [
    "# Export\n",
    "class ReplayBuffer(object):\n",
    "    def __init__(self, max_size, input_shape, n_actions, algo='_', env_name='_'):\n",
    "        self.memory_size = max_size\n",
    "        self.name=env_name+'_'+algo\n",
    "        self.memory_counter = 0\n",
    "        self.state_memory = np.zeros((self.memory_size, *input_shape),\n",
    "                                     dtype=np.float32)\n",
    "        self.new_state_memory = np.zeros((self.memory_size, *input_shape),\n",
    "                                         dtype=np.float32)\n",
    "\n",
    "        self.action_memory = np.zeros(self.memory_size, dtype=np.int64)\n",
    "        self.reward_memory = np.zeros(self.memory_size, dtype=np.float32)\n",
    "        self.terminal_memory = np.zeros(self.memory_size, dtype=bool)\n",
    "\n",
    "    def store_transition(self, state, action, reward, state_next, done):\n",
    "        index = self.memory_counter % self.memory_size\n",
    "        self.state_memory[index] = state\n",
    "        self.new_state_memory[index] = state_next\n",
    "        self.action_memory[index] = action\n",
    "        self.reward_memory[index] = reward\n",
    "        self.terminal_memory[index] = done\n",
    "        self.memory_counter += 1\n",
    "\n",
    "    def sample_buffer(self, batch_size):\n",
    "        max_memory = min(self.memory_counter, self.memory_size)\n",
    "        batch = np.random.choice(max_memory, batch_size, replace=False)\n",
    "\n",
    "        states = self.state_memory[batch]\n",
    "        actions = self.action_memory[batch]\n",
    "        rewards = self.reward_memory[batch]\n",
    "        states_next = self.new_state_memory[batch]\n",
    "        terminal = self.terminal_memory[batch]\n",
    "\n",
    "        return states, actions, rewards, states_next, terminal\n",
    "    \n",
    "    def save_memory_buffer(self): # this is ~5GB\n",
    "        np.save(f'data/{self.name}_state', self.state_memory)\n",
    "        np.save(f'data/{self.name}_next_state', self.new_state_memory)\n",
    "        np.save(f'data/{self.name}_action', self.action_memory)\n",
    "        np.save(f'data/{self.name}_reward', self.reward_memory)\n",
    "        np.save(f'data/{self.name}_done', self.terminal_memory)\n",
    "        np.save(f'data/{self.name}_memory_counter', [self.memory_counter])\n",
    "        \n",
    "    def load_memory_buffer(self, filename):        \n",
    "        self.state_memory = np.load(f'data/{filename}_state.npy')\n",
    "        self.new_state_memory = np.load(f'data/{filename}_next_state.npy')\n",
    "        self.action_memory = np.load(f'data/{filename}_action.npy')\n",
    "        self.reward_memory = np.load(f'data/{filename}_reward.npy')\n",
    "        self.terminal_memory = np.load(f'data/{filename}_done.npy')\n",
    "        self.memory_counter = np.load(f'data/{filename}_memory_counter.npy')[0]"
   ]
  },
  {
   "cell_type": "code",
   "execution_count": 4,
   "id": "a95cd28b",
   "metadata": {},
   "outputs": [],
   "source": [
    "sz=(224,224)\n",
    "memory = ReplayBuffer(max_size=200, input_shape=((5,)+sz), n_actions=7, algo='TestData', env_name='ReplayBuffer')"
   ]
  },
  {
   "cell_type": "code",
   "execution_count": 5,
   "id": "f827b32e",
   "metadata": {},
   "outputs": [],
   "source": [
    "# Make Fake Data\n",
    "state = np.random.random_sample((5,)+sz)\n",
    "p = 0.1\n",
    "for i in range(301):\n",
    "    next_state = np.random.random_sample((5,)+sz)\n",
    "    action = np.random.randint(0, high=7, size=1, dtype=int)[0]\n",
    "    reward = np.random.normal(-30430.12, 23254.63805, 1)[0]\n",
    "    done = np.random.choice(a=[False, True], size=1, p=[p, 1-p])[0]\n",
    "    memory.store_transition(state, action, reward, next_state, done)\n",
    "    \n",
    "    state = next_state"
   ]
  },
  {
   "cell_type": "code",
   "execution_count": 6,
   "id": "262f8098",
   "metadata": {
    "scrolled": true
   },
   "outputs": [
    {
     "data": {
      "text/plain": [
       "(301, 101, 'ReplayBuffer_TestData')"
      ]
     },
     "execution_count": 6,
     "metadata": {},
     "output_type": "execute_result"
    }
   ],
   "source": [
    "memory.memory_counter,memory.memory_counter % memory.memory_size, memory.name"
   ]
  },
  {
   "cell_type": "code",
   "execution_count": 7,
   "id": "69d364ae",
   "metadata": {},
   "outputs": [
    {
     "data": {
      "text/plain": [
       "(200, 5, 224, 224)"
      ]
     },
     "execution_count": 7,
     "metadata": {},
     "output_type": "execute_result"
    }
   ],
   "source": [
    "memory.state_memory.shape"
   ]
  },
  {
   "cell_type": "code",
   "execution_count": 8,
   "id": "fb4d4269",
   "metadata": {},
   "outputs": [],
   "source": [
    "#memory.sample_buffer(32)"
   ]
  },
  {
   "cell_type": "code",
   "execution_count": 9,
   "id": "0589f613",
   "metadata": {},
   "outputs": [],
   "source": [
    "#memory.save_memory_buffer()"
   ]
  },
  {
   "cell_type": "code",
   "execution_count": 19,
   "id": "e964c2f4",
   "metadata": {},
   "outputs": [],
   "source": [
    "memory.load_memory_buffer('Neighborhood_DDQNAgent__Z-Reward_&_Road_Follow')"
   ]
  },
  {
   "cell_type": "code",
   "execution_count": 20,
   "id": "4e119dc9",
   "metadata": {},
   "outputs": [
    {
     "data": {
      "text/plain": [
       "(504, 104, 'ReplayBuffer_TestData')"
      ]
     },
     "execution_count": 20,
     "metadata": {},
     "output_type": "execute_result"
    }
   ],
   "source": [
    "memory.memory_counter, memory.memory_counter % memory.memory_size, memory.name"
   ]
  },
  {
   "cell_type": "code",
   "execution_count": 21,
   "id": "351395fd",
   "metadata": {},
   "outputs": [
    {
     "data": {
      "text/plain": [
       "504"
      ]
     },
     "execution_count": 21,
     "metadata": {},
     "output_type": "execute_result"
    }
   ],
   "source": [
    "memory.memory_counter"
   ]
  },
  {
   "cell_type": "code",
   "execution_count": 22,
   "id": "7e1a352e",
   "metadata": {},
   "outputs": [
    {
     "data": {
      "text/plain": [
       "(2500, 5, 224, 224)"
      ]
     },
     "execution_count": 22,
     "metadata": {},
     "output_type": "execute_result"
    }
   ],
   "source": [
    "memory.state_memory.shape"
   ]
  },
  {
   "cell_type": "code",
   "execution_count": 23,
   "id": "7855d7c1",
   "metadata": {},
   "outputs": [],
   "source": [
    "states, actions, rewards, states_next, terminal=memory.sample_buffer(32)"
   ]
  },
  {
   "cell_type": "code",
   "execution_count": 24,
   "id": "6d6801c4",
   "metadata": {},
   "outputs": [
    {
     "data": {
      "text/plain": [
       "(5, True)"
      ]
     },
     "execution_count": 24,
     "metadata": {},
     "output_type": "execute_result"
    }
   ],
   "source": [
    "i=31\n",
    "state=states[i]\n",
    "next_state = states_next[i]\n",
    "actions[i], terminal[i]"
   ]
  },
  {
   "cell_type": "code",
   "execution_count": 25,
   "id": "79427baa",
   "metadata": {},
   "outputs": [],
   "source": [
    "import matplotlib\n",
    "import matplotlib.pyplot as plt\n",
    "import matplotlib.patches as patches\n",
    "%matplotlib inline"
   ]
  },
  {
   "cell_type": "code",
   "execution_count": 26,
   "id": "655bc451",
   "metadata": {},
   "outputs": [
    {
     "name": "stdout",
     "output_type": "stream",
     "text": [
      "[[1.         1.         1.         1.         1.         1.\n",
      "  1.         1.         1.         1.         1.         1.\n",
      "  1.         1.         1.        ]\n",
      " [1.         1.         1.         1.         1.         1.\n",
      "  1.         1.         1.         1.         1.         1.\n",
      "  1.         1.         1.        ]\n",
      " [1.         1.         0.99215686 1.         1.         1.\n",
      "  1.         1.         1.         1.         1.         1.\n",
      "  1.         1.         1.        ]\n",
      " [1.         1.         1.         0.4509804  0.56078434 0.56078434\n",
      "  0.56078434 0.56078434 0.56078434 0.56078434 0.56078434 0.56078434\n",
      "  0.56078434 0.56078434 0.56078434]\n",
      " [1.         1.         1.         0.56078434 0.7019608  0.7019608\n",
      "  0.7019608  0.7019608  0.7019608  0.7019608  0.7019608  0.7019608\n",
      "  0.7019608  0.7019608  0.7019608 ]]\n",
      "[[0. 0. 0. 0. 0. 0. 0. 0. 0. 0. 0. 0. 0. 0. 0.]\n",
      " [0. 0. 0. 0. 0. 0. 0. 0. 0. 0. 0. 0. 0. 0. 0.]\n",
      " [0. 0. 0. 0. 0. 0. 0. 0. 0. 0. 0. 0. 0. 0. 0.]\n",
      " [0. 0. 0. 0. 0. 0. 0. 0. 0. 0. 0. 0. 0. 0. 0.]\n",
      " [0. 0. 0. 0. 0. 0. 0. 0. 0. 0. 0. 0. 0. 0. 0.]]\n",
      "[[0. 0. 0. 0. 0. 0. 0. 0. 0. 0. 0. 0. 0. 0. 0.]\n",
      " [0. 0. 0. 0. 0. 0. 0. 0. 0. 0. 0. 0. 0. 0. 0.]\n",
      " [0. 0. 0. 0. 0. 0. 0. 0. 0. 0. 0. 0. 0. 0. 0.]\n",
      " [0. 0. 0. 0. 0. 0. 0. 0. 0. 0. 0. 0. 0. 0. 0.]\n",
      " [0. 0. 0. 0. 0. 0. 0. 0. 0. 0. 0. 0. 0. 0. 0.]]\n",
      "[[0. 0. 0. 0. 0. 0. 0. 0. 0. 0. 0. 0. 0. 0. 0.]\n",
      " [0. 0. 0. 0. 0. 0. 0. 0. 0. 0. 0. 0. 0. 0. 0.]\n",
      " [0. 0. 0. 0. 0. 0. 0. 0. 0. 0. 0. 0. 0. 0. 0.]\n",
      " [0. 0. 0. 0. 0. 0. 0. 0. 0. 0. 0. 0. 0. 0. 0.]\n",
      " [0. 0. 0. 0. 0. 0. 0. 0. 0. 0. 0. 0. 0. 0. 0.]]\n",
      "[[1.         1.         1.         1.         1.         1.\n",
      "  1.         1.         1.         1.         1.         1.\n",
      "  1.         1.         1.        ]\n",
      " [1.         1.         1.         1.         1.         1.\n",
      "  1.         1.         1.         1.         1.         1.\n",
      "  1.         1.         1.        ]\n",
      " [1.         1.         0.99215686 1.         1.         1.\n",
      "  1.         1.         1.         1.         1.         1.\n",
      "  1.         1.         1.        ]\n",
      " [1.         1.         1.         0.4509804  0.56078434 0.56078434\n",
      "  0.56078434 0.56078434 0.56078434 0.56078434 0.56078434 0.56078434\n",
      "  0.56078434 0.56078434 0.56078434]\n",
      " [1.         1.         1.         0.56078434 0.7019608  0.7019608\n",
      "  0.7019608  0.7019608  0.7019608  0.7019608  0.7019608  0.7019608\n",
      "  0.7019608  0.7019608  0.7019608 ]]\n"
     ]
    },
    {
     "data": {
      "image/png": "[encoded data removed]",
      "text/plain": [
       "<Figure size 1440x504 with 10 Axes>"
      ]
     },
     "metadata": {
      "needs_background": "light"
     },
     "output_type": "display_data"
    }
   ],
   "source": [
    "n_col=5\n",
    "fig, ax = plt.subplots(2, n_col, figsize=(20,7))\n",
    "for c in range(n_col):\n",
    "    print(state[c][:5,:15]*0.5+0.5)\n",
    "    ax[0,c].imshow(state[c]*0.5+0.5, cmap='Greys_r')\n",
    "    ax[1,c].imshow(next_state[c]*0.5+0.5, cmap='Greys_r')\n",
    "\n",
    "\n",
    "plt.show()"
   ]
  },
  {
   "cell_type": "code",
   "execution_count": 23,
   "id": "a8c6dbd8",
   "metadata": {},
   "outputs": [
    {
     "data": {
      "text/plain": [
       "array([[ 1.        ,  1.        ,  1.        ,  1.        ,  1.        ],\n",
       "       [ 1.        ,  1.        ,  1.        ,  1.        ,  1.        ],\n",
       "       [ 1.        ,  1.        ,  0.9843137 ,  1.        ,  1.        ],\n",
       "       [ 1.        ,  1.        ,  1.        , -0.09803922,  0.12156863],\n",
       "       [ 1.        ,  1.        ,  1.        ,  0.12156863,  0.40392157]],\n",
       "      dtype=float32)"
      ]
     },
     "execution_count": 23,
     "metadata": {},
     "output_type": "execute_result"
    }
   ],
   "source": []
  },
  {
   "cell_type": "code",
   "execution_count": 43,
   "id": "995853bf",
   "metadata": {},
   "outputs": [
    {
     "data": {
      "text/plain": [
       "array([[ 1.        ,  1.        ,  1.        , ...,  1.        ,\n",
       "         1.        ,  1.        ],\n",
       "       [ 1.        ,  1.        ,  1.        , ...,  1.        ,\n",
       "         1.        ,  1.        ],\n",
       "       [ 1.        ,  1.        ,  0.9843137 , ...,  1.        ,\n",
       "         1.        ,  1.        ],\n",
       "       ...,\n",
       "       [ 1.        ,  1.        ,  1.        , ..., -0.52156866,\n",
       "         1.        ,  1.        ],\n",
       "       [ 1.        ,  1.        ,  1.        , ...,  1.        ,\n",
       "         1.        ,  1.        ],\n",
       "       [ 1.        ,  1.        ,  1.        , ...,  1.        ,\n",
       "         1.        ,  1.        ]], dtype=float32)"
      ]
     },
     "execution_count": 43,
     "metadata": {},
     "output_type": "execute_result"
    }
   ],
   "source": [
    "state[0]"
   ]
  },
  {
   "cell_type": "code",
   "execution_count": 33,
   "id": "62881985",
   "metadata": {},
   "outputs": [
    {
     "data": {
      "text/plain": [
       "array([[-1., -1., -1., ..., -1., -1., -1.],\n",
       "       [-1., -1., -1., ..., -1., -1., -1.],\n",
       "       [-1., -1., -1., ..., -1., -1., -1.],\n",
       "       ...,\n",
       "       [ 1.,  1.,  1., ..., -1., -1., -1.],\n",
       "       [ 1.,  1.,  1., ..., -1., -1., -1.],\n",
       "       [ 1.,  1.,  1., ..., -1., -1., -1.]], dtype=float32)"
      ]
     },
     "execution_count": 33,
     "metadata": {},
     "output_type": "execute_result"
    }
   ],
   "source": [
    "state[1]"
   ]
  },
  {
   "cell_type": "code",
   "execution_count": null,
   "id": "89c38d0f",
   "metadata": {},
   "outputs": [],
   "source": []
  },
  {
   "cell_type": "code",
   "execution_count": 20,
   "id": "82b93268",
   "metadata": {},
   "outputs": [
    {
     "data": {
      "text/plain": [
       "(224, 224)"
      ]
     },
     "execution_count": 20,
     "metadata": {},
     "output_type": "execute_result"
    }
   ],
   "source": [
    "state[0].shape"
   ]
  },
  {
   "cell_type": "code",
   "execution_count": 30,
   "id": "4f0da30f",
   "metadata": {},
   "outputs": [
    {
     "name": "stdout",
     "output_type": "stream",
     "text": [
      "1\n"
     ]
    }
   ],
   "source": [
    "dist=3\n",
    "if dist<5: print(1)"
   ]
  },
  {
   "cell_type": "code",
   "execution_count": 27,
   "id": "0bd1795f",
   "metadata": {},
   "outputs": [
    {
     "name": "stdout",
     "output_type": "stream",
     "text": [
      "Total Steps: 1, Time 1.0(min) Score 0.2 Wednesday March 23, 2022 at 15:34\n"
     ]
    }
   ],
   "source": [
    "end=dt.datetime.now()\n",
    "n_steps=1; score=0.22\n",
    "print(f'Total Steps: {n_steps}, Time {61/60:0.1f}(min) Score {score:0.1f} {end.strftime(\"%A %B %d, %Y\")} at {end.strftime(\"%H:%M\")}')"
   ]
  },
  {
   "cell_type": "code",
   "execution_count": 1,
   "id": "b15a0532",
   "metadata": {},
   "outputs": [
    {
     "name": "stdout",
     "output_type": "stream",
     "text": [
      "Converted ReplayBuffer.ipynb to nb_files/nb_ReplayBuffer.py\r\n"
     ]
    }
   ],
   "source": [
    "!python notebook2script.py ReplayBuffer.ipynb"
   ]
  },
  {
   "cell_type": "code",
   "execution_count": 24,
   "id": "01684d52",
   "metadata": {},
   "outputs": [
    {
     "name": "stdout",
     "output_type": "stream",
     "text": [
      "Finished: Wednesday March 23, 2022 at 15:33\n"
     ]
    }
   ],
   "source": [
    "import datetime as dt\n",
    "end=dt.datetime.now()\n",
    "print(f'Finished: {end.strftime(\"%A %B %d, %Y\")} at {end.strftime(\"%H:%M\")}')"
   ]
  }
 ],
 "metadata": {
  "kernelspec": {
   "display_name": "Python 3 (ipykernel)",
   "language": "python",
   "name": "python3"
  },
  "language_info": {
   "codemirror_mode": {
    "name": "ipython",
    "version": 3
   },
   "file_extension": ".py",
   "mimetype": "text/x-python",
   "name": "python",
   "nbconvert_exporter": "python",
   "pygments_lexer": "ipython3",
   "version": "3.7.11"
  }
 },
 "nbformat": 4,
 "nbformat_minor": 5
}
