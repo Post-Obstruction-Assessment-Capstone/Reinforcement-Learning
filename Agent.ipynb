{
 "cells": [
  {
   "cell_type": "code",
   "execution_count": 1,
   "id": "15d8867c",
   "metadata": {},
   "outputs": [
    {
     "data": {
      "text/html": [
       "<style>.container { width:90% !important; }</style>"
      ],
      "text/plain": [
       "<IPython.core.display.HTML object>"
      ]
     },
     "metadata": {},
     "output_type": "display_data"
    }
   ],
   "source": [
    "# Makes the display take up more of the screen\n",
    "from IPython.core.display import display, HTML\n",
    "display(HTML(\"<style>.container { width:90% !important; }</style>\"))"
   ]
  },
  {
   "cell_type": "code",
   "execution_count": 2,
   "id": "3a60afb7",
   "metadata": {
    "scrolled": true
   },
   "outputs": [],
   "source": [
    "# Export\n",
    "import numpy as np\n",
    "import torch as T\n",
    "\n",
    "from nb_files.nb_ReplayBuffer import ReplayBuffer\n",
    "from nb_files.nb_DQN import DQN"
   ]
  },
  {
   "cell_type": "code",
   "execution_count": null,
   "id": "f7d78c83",
   "metadata": {},
   "outputs": [],
   "source": []
  },
  {
   "cell_type": "code",
   "execution_count": 3,
   "id": "f7a9be00",
   "metadata": {},
   "outputs": [],
   "source": [
    "# Export\n",
    "class DDQN(object):\n",
    "    def __init__(self, gamma, epsilon, lr, n_actions, input_dims,\n",
    "                 mem_size, batch_size, eps_min=0.01, eps_dec=5e-7,\n",
    "                 replace=1000, algo=None, env_name=None, chkpt_dir='tmp/ddqn'):\n",
    "        self.gamma = gamma\n",
    "        self.epsilon = epsilon\n",
    "        self.lr = lr\n",
    "        self.n_actions = n_actions\n",
    "        self.input_dims = input_dims\n",
    "        self.batch_size = batch_size\n",
    "        self.eps_min = eps_min\n",
    "        self.eps_dec = eps_dec\n",
    "        self.replace_target_cnt = replace\n",
    "        self.algo = algo\n",
    "        self.env_name = env_name\n",
    "        self.chkpt_dir = chkpt_dir\n",
    "        self.action_space = [i for i in range(n_actions)]\n",
    "        self.learn_step_counter = 0\n",
    "        \n",
    "        self.dropout = 0.001\n",
    "        self.dropout_max = 0.2\n",
    "\n",
    "        self.memory = ReplayBuffer(mem_size, input_dims, n_actions, algo, env_name)\n",
    "\n",
    "        self.q_eval = DQN(self.lr, self.n_actions,\n",
    "                                    input_dims=self.input_dims,\n",
    "                                    name=self.env_name+'_'+self.algo+'_q_eval',\n",
    "                                    chkpt_dir=self.chkpt_dir, dropout =self.dropout)\n",
    "        self.q_next = DQN(self.lr, self.n_actions,\n",
    "                                    input_dims=self.input_dims,\n",
    "                                    name=self.env_name+'_'+self.algo+'_q_next',\n",
    "                                    chkpt_dir=self.chkpt_dir, dropout =self.dropout)\n",
    "\n",
    "    def store_transition(self, state, action, reward, state_, done):\n",
    "        self.memory.store_transition(state, action, reward, state_, done)\n",
    "\n",
    "    def sample_memory(self):\n",
    "        state, action, reward, new_state, done = self.memory.sample_buffer(self.batch_size)\n",
    "\n",
    "        states = T.tensor(state).to(self.q_eval.device)\n",
    "        rewards = T.tensor(reward).to(self.q_eval.device)\n",
    "        dones = T.tensor(done).to(self.q_eval.device)\n",
    "        actions = T.tensor(action).to(self.q_eval.device)\n",
    "        next_states = T.tensor(new_state).to(self.q_eval.device)\n",
    "\n",
    "        return states, actions, rewards, next_states, dones\n",
    "\n",
    "    def choose_action(self, state):\n",
    "        if np.random.random() > self.epsilon:\n",
    "            state = T.tensor([state],dtype=T.float).to(self.q_eval.device)\n",
    "            # need to turn off batch norm and dropout for network evaluation (batch size = 1)\n",
    "            self.q_eval.eval() \n",
    "            actions = self.q_eval.forward(state)\n",
    "            # need to turn on batch norm and dropout for network training\n",
    "            self.q_eval.train()\n",
    "            action = T.argmax(actions).item()\n",
    "        else:\n",
    "            action = np.random.choice(self.action_space)\n",
    "\n",
    "        return action\n",
    "\n",
    "    def replace_target_network(self):\n",
    "        if self.replace_target_cnt is not None and \\\n",
    "           self.learn_step_counter % self.replace_target_cnt == 0:\n",
    "            self.q_next.load_state_dict(self.q_eval.state_dict())\n",
    "    \n",
    "    def set_epsilon(self, epsilon): self.epsilon=epsilon\n",
    "\n",
    "    def decrement_epsilon(self):\n",
    "        if self.epsilon > self.eps_min:\n",
    "            self.epsilon = self.epsilon - self.eps_dec \n",
    "        else: self.eps_min\n",
    "    \n",
    "    def update_dropout(self, model):\n",
    "        for name, child in model.named_children():\n",
    "            if isinstance(child, T.nn.Dropout):\n",
    "                child.p=self.dropout\n",
    "    \n",
    "    def increase_dropout(self):\n",
    "        if self.epsilon <= self.eps_min and self.dropout<=self.dropout_max:            \n",
    "            self.dropout *= 1.001\n",
    "        else: self.dropout\n",
    "            \n",
    "    def save_models(self):\n",
    "        self.q_eval.save_checkpoint()\n",
    "        self.q_next.save_checkpoint()\n",
    "\n",
    "    def load_models(self):\n",
    "        self.q_eval.load_checkpoint()\n",
    "        self.q_next.load_checkpoint()\n",
    "\n",
    "    def learn(self):\n",
    "        if self.memory.memory_counter < self.batch_size:\n",
    "            return\n",
    "\n",
    "        self.q_eval.optimizer.zero_grad()\n",
    "\n",
    "        self.replace_target_network()\n",
    "\n",
    "        states, actions, rewards, next_states, dones = self.sample_memory()\n",
    "\n",
    "        indices = np.arange(self.batch_size)\n",
    "\n",
    "        q_pred = self.q_eval.forward(states)[indices, actions]\n",
    "        q_next = self.q_next.forward(next_states)\n",
    "        q_eval = self.q_eval.forward(next_states)\n",
    "\n",
    "        max_actions = T.argmax(q_eval, dim=1)\n",
    "        q_next[dones] = 0.0\n",
    "\n",
    "        q_target = rewards + self.gamma*q_next[indices, max_actions]\n",
    "        loss = self.q_eval.loss(q_target, q_pred).to(self.q_eval.device)\n",
    "        loss.backward()\n",
    "\n",
    "        self.q_eval.optimizer.step()\n",
    "        self.learn_step_counter += 1\n",
    "\n",
    "        self.decrement_epsilon()\n",
    "\n",
    "    "
   ]
  },
  {
   "cell_type": "markdown",
   "id": "a65c6847",
   "metadata": {},
   "source": [
    "## Testing"
   ]
  },
  {
   "cell_type": "code",
   "execution_count": 9,
   "id": "d6fb4685",
   "metadata": {},
   "outputs": [],
   "source": [
    "agent=DDQN(gamma=0.99, epsilon=1.0, lr=0.0001,\n",
    "                     input_dims=(4, 224, 224),\n",
    "                     n_actions=7, mem_size=1000, eps_min=0.1,\n",
    "                     batch_size=32, replace=10000, eps_dec=1e-4,\n",
    "                     chkpt_dir='models/', algo='DDQN',\n",
    "                     env_name='Test')"
   ]
  },
  {
   "cell_type": "code",
   "execution_count": 10,
   "id": "981a259c",
   "metadata": {},
   "outputs": [
    {
     "data": {
      "text/plain": [
       "'models/'"
      ]
     },
     "execution_count": 10,
     "metadata": {},
     "output_type": "execute_result"
    }
   ],
   "source": [
    "agent.chkpt_dir"
   ]
  },
  {
   "cell_type": "code",
   "execution_count": 11,
   "id": "acb36eed",
   "metadata": {},
   "outputs": [],
   "source": [
    "# check is increasing dropout and epsilon  decrease"
   ]
  },
  {
   "cell_type": "code",
   "execution_count": 14,
   "id": "5bb305ad",
   "metadata": {},
   "outputs": [],
   "source": [
    "eps_lst, dropout_lst, i_lst = [] ,[], []\n",
    "for i in range(10000):\n",
    "    agent.decrement_epsilon()\n",
    "    eps_lst.append(agent.epsilon)\n",
    "    \n",
    "    agent.increase_dropout()\n",
    "    dropout_lst.append(agent.dropout)\n",
    "    \n",
    "    i_lst.append(i)"
   ]
  },
  {
   "cell_type": "code",
   "execution_count": 15,
   "id": "28badc76",
   "metadata": {},
   "outputs": [
    {
     "data": {
      "image/png": "[encoded data removed]",
      "text/plain": [
       "<Figure size 432x288 with 1 Axes>"
      ]
     },
     "metadata": {
      "needs_background": "light"
     },
     "output_type": "display_data"
    }
   ],
   "source": [
    "import matplotlib.pyplot as plt\n",
    "\n",
    "plt.plot(i_lst, eps_lst)\n",
    "plt.plot(i_lst, dropout_lst)\n",
    "plt.show()"
   ]
  },
  {
   "cell_type": "code",
   "execution_count": null,
   "id": "8937a6d0",
   "metadata": {},
   "outputs": [],
   "source": []
  },
  {
   "cell_type": "code",
   "execution_count": null,
   "id": "b2a75ed6",
   "metadata": {},
   "outputs": [],
   "source": []
  },
  {
   "cell_type": "code",
   "execution_count": null,
   "id": "90fcd83c",
   "metadata": {},
   "outputs": [],
   "source": []
  },
  {
   "cell_type": "code",
   "execution_count": null,
   "id": "6ee50075",
   "metadata": {},
   "outputs": [],
   "source": []
  },
  {
   "cell_type": "code",
   "execution_count": 3,
   "id": "66ab9c0d",
   "metadata": {},
   "outputs": [
    {
     "name": "stdout",
     "output_type": "stream",
     "text": [
      "Converted Agent.ipynb to nb_files/nb_Agent.py\r\n"
     ]
    }
   ],
   "source": [
    "!python notebook2script.py Agent.ipynb"
   ]
  },
  {
   "cell_type": "code",
   "execution_count": 4,
   "id": "f6c3b269",
   "metadata": {},
   "outputs": [
    {
     "name": "stdout",
     "output_type": "stream",
     "text": [
      "Finished: Friday March 18, 2022 at 19:31\n"
     ]
    }
   ],
   "source": [
    "import datetime as dt\n",
    "end=dt.datetime.now()\n",
    "print(f'Finished: {end.strftime(\"%A %B %d, %Y\")} at {end.strftime(\"%H:%M\")}')"
   ]
  },
  {
   "cell_type": "code",
   "execution_count": null,
   "id": "1dc3c0a7",
   "metadata": {},
   "outputs": [],
   "source": []
  }
 ],
 "metadata": {
  "kernelspec": {
   "display_name": "Python 3 (ipykernel)",
   "language": "python",
   "name": "python3"
  },
  "language_info": {
   "codemirror_mode": {
    "name": "ipython",
    "version": 3
   },
   "file_extension": ".py",
   "mimetype": "text/x-python",
   "name": "python",
   "nbconvert_exporter": "python",
   "pygments_lexer": "ipython3",
   "version": "3.7.11"
  }
 },
 "nbformat": 4,
 "nbformat_minor": 5
}
