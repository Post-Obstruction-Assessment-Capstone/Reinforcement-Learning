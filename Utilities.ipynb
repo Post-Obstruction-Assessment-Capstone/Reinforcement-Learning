{
 "cells": [
  {
   "cell_type": "code",
   "execution_count": 1,
   "id": "9769e38f",
   "metadata": {},
   "outputs": [
    {
     "data": {
      "text/html": [
       "<style>.container { width:85% !important; }</style>"
      ],
      "text/plain": [
       "<IPython.core.display.HTML object>"
      ]
     },
     "metadata": {},
     "output_type": "display_data"
    }
   ],
   "source": [
    "# Makes the display take up more of the screen\n",
    "from IPython.core.display import display, HTML\n",
    "display(HTML(\"<style>.container { width:85% !important; }</style>\"))"
   ]
  },
  {
   "cell_type": "code",
   "execution_count": 2,
   "id": "f4da916c",
   "metadata": {},
   "outputs": [],
   "source": [
    "# export\n",
    "import os\n",
    "import torch as T\n",
    "import numpy as np\n",
    "import math\n",
    "import pandas as pd\n",
    "import cv2\n",
    "import math\n",
    "import matplotlib\n",
    "import matplotlib.pyplot as plt\n",
    "import matplotlib.patches as patches\n",
    "import itertools"
   ]
  },
  {
   "cell_type": "code",
   "execution_count": 3,
   "id": "54d116b0",
   "metadata": {},
   "outputs": [],
   "source": [
    "%matplotlib inline"
   ]
  },
  {
   "cell_type": "code",
   "execution_count": 4,
   "id": "740c6c52",
   "metadata": {},
   "outputs": [],
   "source": [
    "def draw_outline(o, lw, foreground='black'):\n",
    "    import matplotlib.patheffects as patheffects\n",
    "    o.set_path_effects([patheffects.Stroke(\n",
    "        linewidth=lw, foreground=foreground), patheffects.Normal()])"
   ]
  },
  {
   "cell_type": "code",
   "execution_count": 5,
   "id": "20407dd7",
   "metadata": {},
   "outputs": [],
   "source": [
    "# export\n",
    "class imagenetStats:\n",
    "    def __init__(self, UseInception=True):\n",
    "        self.UseInception=UseInception\n",
    "        self.IMAGENET_DEFAULT_MEAN = (0.485, 0.456, 0.406)\n",
    "        self.IMAGENET_DEFAULT_STD = (0.229, 0.224, 0.225)\n",
    "        self.IMAGENET_INCEPTION_MEAN = (0.5, 0.5, 0.5)\n",
    "        self.IMAGENET_INCEPTION_STD = (0.5, 0.5, 0.5)\n",
    "    def getMean(self):\n",
    "        if self.UseInception: return self.IMAGENET_INCEPTION_MEAN[0]\n",
    "        \n",
    "    def getSTD(self):\n",
    "        if self.UseInception: return self.IMAGENET_INCEPTION_STD[0]\n",
    "        "
   ]
  },
  {
   "cell_type": "code",
   "execution_count": 6,
   "id": "453f0f70",
   "metadata": {},
   "outputs": [
    {
     "data": {
      "text/plain": [
       "(0.5, 0.5)"
      ]
     },
     "execution_count": 6,
     "metadata": {},
     "output_type": "execute_result"
    }
   ],
   "source": [
    "transform=imagenetStats(UseInception=True)\n",
    "\n",
    "transform.getMean(),transform.getSTD()"
   ]
  },
  {
   "cell_type": "code",
   "execution_count": 7,
   "id": "d4187bc2",
   "metadata": {},
   "outputs": [],
   "source": [
    "# export\n",
    "def set_seed(x): \n",
    "    #random.seed(x)\n",
    "    np.random.seed(x)\n",
    "    T.manual_seed(x)\n",
    "    T.backends.cudnn.deterministic = True\n",
    "    T.backends.cudnn.benchmark = False\n",
    "    if T.cuda.is_available(): \n",
    "        T.cuda.manual_seed_all(x)"
   ]
  },
  {
   "cell_type": "code",
   "execution_count": 8,
   "id": "89ab350f",
   "metadata": {},
   "outputs": [],
   "source": [
    "set_seed(42)"
   ]
  },
  {
   "cell_type": "code",
   "execution_count": 21,
   "id": "982a603a",
   "metadata": {},
   "outputs": [],
   "source": [
    "# export \n",
    "def byte2np_RGB(response, Save=False, path='data', filename='Test', ClrFirst=True):\n",
    "    img1d = np.fromstring(response.image_data_uint8, dtype=np.uint8)\n",
    "    # reshape array to 4 channel image array H X W X 4\n",
    "    if ClrFirst: img_rgb = img1d.reshape(3, response.height, response.width)\n",
    "    else: img_rgb = img1d.reshape(response.height, response.width, 3)\n",
    "    if Save: \n",
    "        filename = os.path.join(path, filename)\n",
    "        np.save(filename, img_rgb)\n",
    "    return img_rgb"
   ]
  },
  {
   "cell_type": "code",
   "execution_count": 22,
   "id": "f8394e34",
   "metadata": {},
   "outputs": [],
   "source": [
    "# export \n",
    "def byte2np_Depth(response, Save=False, path='data', filename='Test', Normalize=True):\n",
    "    img1d = np.array(response.image_data_float, dtype=np.float)\n",
    "    if Normalize:\n",
    "        img1d = img1d * 3.5 + 30\n",
    "        img1d[img1d > 255] = 255\n",
    "        img1d=img1d/255\n",
    "    depth = np.reshape(img1d, (response.height, response.width))\n",
    "    if Save: \n",
    "        filename = os.path.join(path, filename)\n",
    "        np.save(filename, depth)\n",
    "    return depth"
   ]
  },
  {
   "cell_type": "code",
   "execution_count": 23,
   "id": "85c79039",
   "metadata": {},
   "outputs": [],
   "source": [
    "# export\n",
    "def ChangeColor(img, clr_og, clr_new):\n",
    "    r1, g1, b1 = clr_og # Original value\n",
    "    r2, g2, b2 = clr_new # Value that we want to replace it with\n",
    "\n",
    "    blue, green, red = img[:,:,0], img[:,:,1], img[:,:,2]\n",
    "    mask = (red == r1) & (green == g1) & (blue == b1)\n",
    "    img[:,:,:3][mask] = [b2, g2, r2]\n",
    "    return img"
   ]
  },
  {
   "cell_type": "code",
   "execution_count": 97,
   "id": "bc561c51",
   "metadata": {},
   "outputs": [],
   "source": [
    "# export\n",
    "def byte2np_Seg(response, Save=False, path='data', filename=f'Test', JustRoad=False):\n",
    "    img1d = np.fromstring(response.image_data_uint8, dtype=np.uint8)\n",
    "    img = img1d.reshape(response.height, response.width, 3)\n",
    "    # Change sky and road color\n",
    "    road = [177, 172, 224] # RGB road \n",
    "    sky = [128, 219, 130] # RGB Sky \n",
    "\n",
    "    img=ChangeColor(img, clr_og=road, clr_new=[255,255,255])\n",
    "    img=ChangeColor(img, clr_og=sky, clr_new=[0,0,0])\n",
    "    # convert to greyscale\n",
    "    img=cv2.cvtColor(img, cv2.COLOR_BGR2GRAY)/255\n",
    "    if JustRoad: img=np.ma.masked_where(img == 1, img).mask.astype(int)\n",
    "    if Save: \n",
    "        filename = os.path.join(path, filename)\n",
    "        np.save(filename, img)\n",
    "    return img"
   ]
  },
  {
   "cell_type": "code",
   "execution_count": 25,
   "id": "db31f419",
   "metadata": {},
   "outputs": [],
   "source": [
    "#print(self.df_gps.df.head())\n",
    "#img_depth=util.byte2np_Depth(self.responses[0], Save=False, path='data', filename='Front_center_DepthPlanarS')\n",
    "#img_rgb=util.byte2np_RGB(self.responses[1], Save=True, path='data', filename='Front_center_RGBS')\n",
    "#img_seg=util.byte2np_Seg(self.responses[2], Save=False, path='data', filename=f'Front_center_Seg_{self.episode}_{int(self.deltaTime*1000)}')\n",
    "#img_gps=self.df_gps.GPS2image(Save=False, path='data', filename='GPS')"
   ]
  },
  {
   "cell_type": "code",
   "execution_count": 26,
   "id": "1195eb2a",
   "metadata": {},
   "outputs": [],
   "source": [
    "sz=(224,224)"
   ]
  },
  {
   "cell_type": "code",
   "execution_count": 27,
   "id": "884e17b2",
   "metadata": {},
   "outputs": [],
   "source": [
    "#depth=np.load('data/Front_center_DepthPlanarS.npy')\n",
    "#plt.imshow(depth, interpolation='nearest', cmap='gray')\n",
    "#plt.show()"
   ]
  },
  {
   "cell_type": "code",
   "execution_count": 28,
   "id": "5103a876",
   "metadata": {},
   "outputs": [],
   "source": [
    "#depth=np.load('data/Bottom_center_DepthPlanarS.npy')"
   ]
  },
  {
   "cell_type": "code",
   "execution_count": 29,
   "id": "a70e7c64",
   "metadata": {},
   "outputs": [],
   "source": [
    "#plt.imshow(depth, interpolation='nearest', cmap='gray')\n",
    "#plt.show()"
   ]
  },
  {
   "cell_type": "code",
   "execution_count": 30,
   "id": "25f65dcf",
   "metadata": {},
   "outputs": [],
   "source": [
    "# export\n",
    "def Distance2Grnd(img, sz, rng=10):\n",
    "    x,y=sz\n",
    "    x=int(x/2)\n",
    "    y=int(y/2)\n",
    "    return np.mean(img[x-rng:x+rng,y-rng:y+rng])"
   ]
  },
  {
   "cell_type": "code",
   "execution_count": 31,
   "id": "ee1b237c",
   "metadata": {},
   "outputs": [],
   "source": [
    "#Distance2Grnd(depth, sz, rng=10)"
   ]
  },
  {
   "cell_type": "code",
   "execution_count": 32,
   "id": "9521b1f2",
   "metadata": {},
   "outputs": [],
   "source": [
    "def plot_3hgtwdth(img, ClrChng=True):\n",
    "    img=img.reshape(img.shape[1], img.shape[2],3)\n",
    "    if ClrChng: img=cv2.cvtColor(img, cv2.COLOR_BGR2RGB)\n",
    "    plt.imshow(img, interpolation='nearest')\n",
    "    plt.show()"
   ]
  },
  {
   "cell_type": "code",
   "execution_count": 33,
   "id": "898e7a14",
   "metadata": {},
   "outputs": [],
   "source": [
    "#img=np.load('data/Front_center_RGBS.npy')\n",
    "#plot_3hgtwdth(img)"
   ]
  },
  {
   "cell_type": "code",
   "execution_count": null,
   "id": "b5631473",
   "metadata": {},
   "outputs": [],
   "source": []
  },
  {
   "cell_type": "code",
   "execution_count": 34,
   "id": "c1579507",
   "metadata": {},
   "outputs": [],
   "source": [
    "#img=np.load('data/GPS.npy')\n",
    "#plot_3hgtwdth(img, ClrChng=False)"
   ]
  },
  {
   "cell_type": "code",
   "execution_count": 35,
   "id": "aaac99ac",
   "metadata": {},
   "outputs": [],
   "source": [
    "#img=np.load('data/Front_center_SegS.npy')\n",
    "#img_=cv2.cvtColor(img, cv2.COLOR_BGR2RGB)\n",
    "#plt.imshow(img_, interpolation='nearest')\n",
    "#plt.show()"
   ]
  },
  {
   "cell_type": "code",
   "execution_count": 36,
   "id": "0e0abd81",
   "metadata": {},
   "outputs": [
    {
     "data": {
      "image/png": "[encoded data removed]",
      "text/plain": [
       "<Figure size 432x288 with 1 Axes>"
      ]
     },
     "metadata": {
      "needs_background": "light"
     },
     "output_type": "display_data"
    }
   ],
   "source": [
    "fn = [o.name for o in os.scandir('data') if o.name.find('Seg_')!=-1][0]\n",
    "img=np.load(f'data/{fn}')\n",
    "plt.imshow(img, cmap='Greys')\n",
    "plt.show()"
   ]
  },
  {
   "cell_type": "code",
   "execution_count": 37,
   "id": "608ffdf4",
   "metadata": {},
   "outputs": [],
   "source": [
    "sz=(224,224)"
   ]
  },
  {
   "cell_type": "code",
   "execution_count": 38,
   "id": "c64e56d4",
   "metadata": {},
   "outputs": [],
   "source": [
    "# export\n",
    "def isRoadBelow(img, sz, rng=10):\n",
    "    x,y=sz\n",
    "    x=int(x/2)\n",
    "    y=int(y/2)\n",
    "    med=np.median(img[x-rng:x+rng,y-rng:y+rng])\n",
    "    if med >0.98: return True\n",
    "    else: return False"
   ]
  },
  {
   "cell_type": "code",
   "execution_count": 39,
   "id": "08ca59c1",
   "metadata": {},
   "outputs": [
    {
     "data": {
      "text/plain": [
       "True"
      ]
     },
     "execution_count": 39,
     "metadata": {},
     "output_type": "execute_result"
    }
   ],
   "source": [
    "isRoadBelow(img, sz, rng=10)"
   ]
  },
  {
   "cell_type": "code",
   "execution_count": 40,
   "id": "ae4719ed",
   "metadata": {},
   "outputs": [],
   "source": [
    "df_mesh=pd.read_csv('data/meshes.csv', index_col=0)\n",
    "#df_mesh['0'].unique()"
   ]
  },
  {
   "cell_type": "code",
   "execution_count": 41,
   "id": "d40a5074",
   "metadata": {},
   "outputs": [],
   "source": [
    "#df_mesh['0'].unique()"
   ]
  },
  {
   "cell_type": "code",
   "execution_count": null,
   "id": "6402c8e8",
   "metadata": {},
   "outputs": [],
   "source": []
  },
  {
   "cell_type": "code",
   "execution_count": 12,
   "id": "55103300",
   "metadata": {},
   "outputs": [],
   "source": [
    "# export\n",
    "def Value2Color(val, vmin=0, vmax=1, palette='YlOrRd', zerocolor='#e3e3e3'):    \n",
    "    \"\"\"Input value from vmin to vmax returns hex color based on value and palette\"\"\"\n",
    "    import matplotlib as mpl\n",
    "    import matplotlib.cm as cm\n",
    "    try:\n",
    "        if np.isnan(val):\n",
    "            clr='#e3e3e3' # grey\n",
    "        elif val==0: clr=zerocolor# green if zero\n",
    "        else:\n",
    "            norm = mpl.colors.Normalize(vmin=vmin, vmax=vmax)\n",
    "            cmap = cm.get_cmap(palette)   \n",
    "            m = cm.ScalarMappable(norm=norm, cmap=cmap)\n",
    "            rgba=m.to_rgba(val)\n",
    "            clr=mpl.colors.to_hex(rgba)\n",
    "    except: clr='#e3e3e3' # grey\n",
    "    return clr"
   ]
  },
  {
   "cell_type": "code",
   "execution_count": 13,
   "id": "a7b98b1c",
   "metadata": {},
   "outputs": [],
   "source": [
    "# export\n",
    "def plotcolorline(x, y, z, cmap='YlOrRd', norm=plt.Normalize(0.0, 1.0), \n",
    "              linewidth=3, alpha=1.0):\n",
    "    #breaks lines into segments and plots segment color as z value in colormap\n",
    "    import matplotlib.collections as mcoll\n",
    "    points = np.array([x, y]).T.reshape(-1, 1, 2)\n",
    "    segments = np.concatenate([points[:-1], points[1:]], axis=1)\n",
    "    lc = mcoll.LineCollection(segments, array=z, cmap=cmap, norm=norm,\n",
    "                              linewidth=linewidth, alpha=alpha)\n",
    "    ax = plt.gca()\n",
    "    ax.add_collection(lc)\n",
    "\n",
    "    return lc"
   ]
  },
  {
   "cell_type": "code",
   "execution_count": 14,
   "id": "9363c540",
   "metadata": {},
   "outputs": [],
   "source": [
    "#function to convert x, y , z vector to gps coordinates needed\n",
    "# c++\n",
    "_='''static GeoPoint nedToGeodetic(const Vector3r& v, const HomeGeoPoint& home_geo_point)\n",
    "        {\n",
    "            double x_rad = v.x() / EARTH_RADIUS;\n",
    "            double y_rad = v.y() / EARTH_RADIUS;\n",
    "            double c = sqrt(x_rad * x_rad + y_rad * y_rad);\n",
    "            double sin_c = sin(c), cos_c = cos(c);\n",
    "            double lat_rad, lon_rad;\n",
    "            if (!Utils::isApproximatelyZero(c)) { //avoids large changes?\n",
    "                lat_rad = asin(cos_c * home_geo_point.sin_lat + (x_rad * sin_c * home_geo_point.cos_lat) / c);\n",
    "                lon_rad = (home_geo_point.lon_rad +\n",
    "                           atan2(y_rad * sin_c, c * home_geo_point.cos_lat * cos_c - x_rad * home_geo_point.sin_lat * sin_c));\n",
    "\n",
    "                return GeoPoint(Utils::radiansToDegrees(lat_rad), Utils::radiansToDegrees(lon_rad), home_geo_point.home_geo_point.altitude - v.z());\n",
    "            }\n",
    "            else\n",
    "                return GeoPoint(home_geo_point.home_geo_point.latitude, home_geo_point.home_geo_point.longitude, home_geo_point.home_geo_point.altitude - v.z());\n",
    "        }'''\n",
    "\n",
    "# this is the print statement from self.client.getGpsData():\n",
    "_='''<GpsData> {   'gnss': <GnssReport> {   'eph': 0.3000044822692871,\n",
    "    'epv': 0.40000447630882263,\n",
    "    'fix_type': 3,\n",
    "    'geo_point': <GeoPoint> {   'altitude': 132.32289123535156,\n",
    "    'latitude': 47.6416150728889,\n",
    "    'longitude': -122.14040436968116},\n",
    "    'time_utc': 1645971445395087,\n",
    "    'velocity': <Vector3r> {   'x_val': -0.24463589489459991,\n",
    "    'y_val': 0.05023214593529701,\n",
    "    'z_val': -0.6591682434082031}},\n",
    "    'is_valid': True,\n",
    "    'time_stamp': 1645971445395087360} <Vector3r> {   'x_val': 14.724202156066895,\n",
    "    'y_val': -2.943709135055542,\n",
    "    'z_val': -9.155741691589355}\n",
    "'''"
   ]
  },
  {
   "cell_type": "code",
   "execution_count": null,
   "id": "6a03edb1",
   "metadata": {},
   "outputs": [],
   "source": []
  },
  {
   "cell_type": "code",
   "execution_count": 24,
   "id": "9afbcf8d",
   "metadata": {},
   "outputs": [],
   "source": [
    "# export\n",
    "class GPShistory:\n",
    "    def __init__(self, position, velocity, reward, time_stamp, vehicle_name, image_size, maxspeed, info=''):\n",
    "        self.columns=['x_position', 'y_position', 'z_position',\n",
    "                     'x_velocity', 'y_velocity', 'z_velocity', \n",
    "                     'Reward', 'time_stamp', 'vehicle_name', 'info']\n",
    "        self.sz=image_size\n",
    "        self.vehicle_name=vehicle_name\n",
    "        self.maxspeed= maxspeed\n",
    "        self.df=pd.DataFrame([[position.x_val, position.y_val, position.z_val,\n",
    "                               velocity.x_val, velocity.y_val, velocity.z_val,\n",
    "                              reward, time_stamp,vehicle_name, info]], columns=self.columns)\n",
    "        \n",
    "    def appendGPShistory(self, position, velocity, reward, time_stamp, vehicle_name, info):\n",
    "        self.df.loc[len(self.df)]= [position.x_val, position.y_val, position.z_val,\n",
    "                                    velocity.x_val, velocity.y_val, velocity.z_val,\n",
    "                                    reward, time_stamp,vehicle_name, info]\n",
    "        \n",
    "    def saveGPS2csv(self, filename):\n",
    "        self.df.to_csv(filename, index=False)\n",
    "        \n",
    "    def loadGPScsv(self, filename):\n",
    "        self.df=pd.read_csv(filename)\n",
    "        \n",
    "    def getDataframe(self): return self.df\n",
    "        \n",
    "    def GPS2image(self, x_cntr, y_cntr, df_nofly=None):\n",
    "        df=self.df.copy()\n",
    "        maxspeed=self.maxspeed\n",
    "        vehicle_name=self.vehicle_name\n",
    "        sz=self.sz\n",
    "        rad=100 # meters                \n",
    "        # ensures the current vehicle is plotted last\n",
    "        vehicle_lst=list(df[df['vehicle_name']!=vehicle_name]['vehicle_name'].dropna().unique())+[vehicle_name]\n",
    "        \n",
    "        #################################### Plotting #########################################################\n",
    "        fig, ax = plt.subplots(figsize=(5,5))\n",
    "        ax=plt.gca(); ax.set_axis_off()\n",
    "        ax.add_patch(patches.Rectangle((x_cntr-rad,y_cntr-rad+1), width=rad*2-1, height=rad*2-1, ec='k', facecolor='#b3b3b3'))\n",
    "        ax.add_patch(plt.Circle((x_cntr,y_cntr), rad, ec='k', facecolor='white'))\n",
    "        plt.xlim(x_cntr-rad,x_cntr+rad); plt.ylim(y_cntr-rad,y_cntr+rad) \n",
    "        if df_nofly is not None: # plot the no fly zone\n",
    "            for idx in df_nofly.index:\n",
    "                ax.add_patch(plt.Circle((df_nofly.loc[idx,'x'], df_nofly.loc[idx,'y']), df_nofly.loc[idx,'radius'],\n",
    "                                    hatch='xxx',facecolor='grey'))\n",
    "\n",
    "        # Plot reward and history of drones\n",
    "        for v_name in vehicle_lst:\n",
    "            frame=df[df['vehicle_name']==v_name].copy()   \n",
    "            # set the most recent position to the center of plot and shows 100 meters in all directions                  \n",
    "            lc = plotcolorline(frame['x_position'], frame['y_position'],frame['Reward'],\n",
    "                               cmap='Greys_r', norm=plt.Normalize(-100, 20), linewidth=4,alpha=1.0)           \n",
    "\n",
    "        # ensure current locations are on top\n",
    "        for v_name in vehicle_lst:\n",
    "            frame=df[df['vehicle_name']==v_name].copy()\n",
    "            if v_name==vehicle_name:\n",
    "                #honey I'm home\n",
    "                plt.plot(frame.loc[frame.index[0],'x_position'], frame.loc[frame.index[0],'y_position']\n",
    "                         , marker='o', color=\"gray\", ms=8, markeredgecolor='black',linestyle='None')\n",
    "                # Current Location\n",
    "                plt.plot(x_cntr, y_cntr ,marker='P', color='k', lw=6, ms=16, markeredgecolor='white',linestyle='None',markeredgewidth=2)\n",
    "\n",
    "            else:\n",
    "                #Last Location of other drones\n",
    "                plt.plot(frame.loc[frame.index[-1],'x_position'], frame.loc[frame.index[-1],'y_position']\n",
    "                         , marker='*', color=\"white\", ms=14, markeredgecolor='k', linestyle='None', markeredgewidth=2)\n",
    "        \n",
    "        #ax.text(-85,85, f'{int(abs(z_cntr))}',  fontsize = 18)  \n",
    "        plt.tight_layout()\n",
    "        fig.canvas.draw()\n",
    "\n",
    "        # plot to image array\n",
    "        arr = np.frombuffer(fig.canvas.tostring_rgb(), dtype=np.uint8)\n",
    "        arr = arr.reshape(fig.canvas.get_width_height()[::-1] + (3,))\n",
    "        arr = cv2.cvtColor(arr, cv2.COLOR_RGB2GRAY)\n",
    "        # this padding only works for 224x224 images\n",
    "        arr=cv2.resize(arr[9:-11, 9:-11], (sz), interpolation=cv2.INTER_CUBIC)\n",
    "        # close the figure\n",
    "        plt.close(fig)\n",
    "        plt.figure().clear()\n",
    "        plt.close()\n",
    "        plt.cla()\n",
    "        plt.clf()\n",
    "\n",
    "        return arr/255\n",
    "       "
   ]
  },
  {
   "cell_type": "code",
   "execution_count": 25,
   "id": "027c0816",
   "metadata": {},
   "outputs": [],
   "source": [
    "# test data\n",
    "import time\n",
    "\n",
    "class mimic:\n",
    "    def __init__(self, dct):\n",
    "        self.x_val=dct.get('x_val')\n",
    "        self.y_val=dct.get('y_val')\n",
    "        self.z_val=dct.get('z_val')\n",
    "        \n",
    "        \n",
    "position=mimic({   'x_val': 14.724202156066895,\n",
    "    'y_val': -2.943709135055542,\n",
    "    'z_val': -9.155741691589355})\n",
    "velocity=mimic({   'x_val': 1.724202156066895,\n",
    "    'y_val': -2.542,\n",
    "    'z_val': -1.55})\n",
    "\n",
    "vehicle_name='Drone0'\n",
    "maxspeed=8.33\n",
    "sz=(224,224)\n",
    "time_stamp=time.time_ns()\n",
    "reward=0\n"
   ]
  },
  {
   "cell_type": "code",
   "execution_count": 26,
   "id": "187e021e",
   "metadata": {},
   "outputs": [],
   "source": [
    "df_gps=GPShistory(position, velocity, reward, time_stamp, vehicle_name, sz, maxspeed)"
   ]
  },
  {
   "cell_type": "code",
   "execution_count": 27,
   "id": "df3bebcf",
   "metadata": {},
   "outputs": [
    {
     "data": {
      "text/html": [
       "<div>\n",
       "<style scoped>\n",
       "    .dataframe tbody tr th:only-of-type {\n",
       "        vertical-align: middle;\n",
       "    }\n",
       "\n",
       "    .dataframe tbody tr th {\n",
       "        vertical-align: top;\n",
       "    }\n",
       "\n",
       "    .dataframe thead th {\n",
       "        text-align: right;\n",
       "    }\n",
       "</style>\n",
       "<table border=\"1\" class=\"dataframe\">\n",
       "  <thead>\n",
       "    <tr style=\"text-align: right;\">\n",
       "      <th></th>\n",
       "      <th>x_position</th>\n",
       "      <th>y_position</th>\n",
       "      <th>z_position</th>\n",
       "      <th>x_velocity</th>\n",
       "      <th>y_velocity</th>\n",
       "      <th>z_velocity</th>\n",
       "      <th>Reward</th>\n",
       "      <th>time_stamp</th>\n",
       "      <th>vehicle_name</th>\n",
       "    </tr>\n",
       "  </thead>\n",
       "  <tbody>\n",
       "    <tr>\n",
       "      <th>0</th>\n",
       "      <td>14.724202</td>\n",
       "      <td>-2.943709</td>\n",
       "      <td>-9.155742</td>\n",
       "      <td>1.724202</td>\n",
       "      <td>-2.542</td>\n",
       "      <td>-1.55</td>\n",
       "      <td>0</td>\n",
       "      <td>1648290909756371672</td>\n",
       "      <td>Drone0</td>\n",
       "    </tr>\n",
       "  </tbody>\n",
       "</table>\n",
       "</div>"
      ],
      "text/plain": [
       "   x_position  y_position  z_position  x_velocity  y_velocity  z_velocity  \\\n",
       "0   14.724202   -2.943709   -9.155742    1.724202      -2.542       -1.55   \n",
       "\n",
       "   Reward           time_stamp vehicle_name  \n",
       "0       0  1648290909756371672       Drone0  "
      ]
     },
     "execution_count": 27,
     "metadata": {},
     "output_type": "execute_result"
    }
   ],
   "source": [
    "df_gps.df"
   ]
  },
  {
   "cell_type": "code",
   "execution_count": 28,
   "id": "21644266",
   "metadata": {},
   "outputs": [],
   "source": [
    "df_gps.loadGPScsv('data/gps_data_Drone0_episode28_Neighborhood_600s_DDQNAgent_2022-03-23.csv')"
   ]
  },
  {
   "cell_type": "code",
   "execution_count": 29,
   "id": "61998892",
   "metadata": {},
   "outputs": [
    {
     "data": {
      "text/html": [
       "<div>\n",
       "<style scoped>\n",
       "    .dataframe tbody tr th:only-of-type {\n",
       "        vertical-align: middle;\n",
       "    }\n",
       "\n",
       "    .dataframe tbody tr th {\n",
       "        vertical-align: top;\n",
       "    }\n",
       "\n",
       "    .dataframe thead th {\n",
       "        text-align: right;\n",
       "    }\n",
       "</style>\n",
       "<table border=\"1\" class=\"dataframe\">\n",
       "  <thead>\n",
       "    <tr style=\"text-align: right;\">\n",
       "      <th></th>\n",
       "      <th>x_position</th>\n",
       "      <th>y_position</th>\n",
       "      <th>z_position</th>\n",
       "      <th>x_velocity</th>\n",
       "      <th>y_velocity</th>\n",
       "      <th>z_velocity</th>\n",
       "      <th>Reward</th>\n",
       "      <th>time_stamp</th>\n",
       "      <th>vehicle_name</th>\n",
       "    </tr>\n",
       "  </thead>\n",
       "  <tbody>\n",
       "    <tr>\n",
       "      <th>0</th>\n",
       "      <td>15.093781</td>\n",
       "      <td>-3.021013</td>\n",
       "      <td>-30.150606</td>\n",
       "      <td>2.339865</td>\n",
       "      <td>-0.468487</td>\n",
       "      <td>-3.469950</td>\n",
       "      <td>0</td>\n",
       "      <td>1648083796011759211</td>\n",
       "      <td>Drone0</td>\n",
       "    </tr>\n",
       "    <tr>\n",
       "      <th>1</th>\n",
       "      <td>15.514317</td>\n",
       "      <td>-3.116030</td>\n",
       "      <td>-25.102081</td>\n",
       "      <td>-1.278549</td>\n",
       "      <td>0.286990</td>\n",
       "      <td>1.458919</td>\n",
       "      <td>0</td>\n",
       "      <td>1648083798648924330</td>\n",
       "      <td>Drone0</td>\n",
       "    </tr>\n",
       "    <tr>\n",
       "      <th>2</th>\n",
       "      <td>16.022137</td>\n",
       "      <td>-3.231725</td>\n",
       "      <td>-31.580023</td>\n",
       "      <td>0.024561</td>\n",
       "      <td>-0.008456</td>\n",
       "      <td>-2.654022</td>\n",
       "      <td>0</td>\n",
       "      <td>1648083803272434706</td>\n",
       "      <td>Drone0</td>\n",
       "    </tr>\n",
       "    <tr>\n",
       "      <th>3</th>\n",
       "      <td>10.318042</td>\n",
       "      <td>-3.227493</td>\n",
       "      <td>-30.880627</td>\n",
       "      <td>-2.110800</td>\n",
       "      <td>-0.001803</td>\n",
       "      <td>-0.412890</td>\n",
       "      <td>0</td>\n",
       "      <td>1648083809806096253</td>\n",
       "      <td>Drone0</td>\n",
       "    </tr>\n",
       "    <tr>\n",
       "      <th>4</th>\n",
       "      <td>11.312179</td>\n",
       "      <td>-8.914058</td>\n",
       "      <td>-30.849033</td>\n",
       "      <td>-0.164260</td>\n",
       "      <td>-2.095289</td>\n",
       "      <td>-0.412246</td>\n",
       "      <td>0</td>\n",
       "      <td>1648083816279331768</td>\n",
       "      <td>Drone0</td>\n",
       "    </tr>\n",
       "    <tr>\n",
       "      <th>...</th>\n",
       "      <td>...</td>\n",
       "      <td>...</td>\n",
       "      <td>...</td>\n",
       "      <td>...</td>\n",
       "      <td>...</td>\n",
       "      <td>...</td>\n",
       "      <td>...</td>\n",
       "      <td>...</td>\n",
       "      <td>...</td>\n",
       "    </tr>\n",
       "    <tr>\n",
       "      <th>119</th>\n",
       "      <td>-15.880645</td>\n",
       "      <td>-4.259162</td>\n",
       "      <td>-5.173505</td>\n",
       "      <td>0.003027</td>\n",
       "      <td>-0.003128</td>\n",
       "      <td>0.000066</td>\n",
       "      <td>-10</td>\n",
       "      <td>1648084382037780983</td>\n",
       "      <td>Drone0</td>\n",
       "    </tr>\n",
       "    <tr>\n",
       "      <th>120</th>\n",
       "      <td>-15.873504</td>\n",
       "      <td>-4.259099</td>\n",
       "      <td>-5.173505</td>\n",
       "      <td>-0.002032</td>\n",
       "      <td>0.000326</td>\n",
       "      <td>0.000065</td>\n",
       "      <td>-20</td>\n",
       "      <td>1648084385228212991</td>\n",
       "      <td>Drone0</td>\n",
       "    </tr>\n",
       "    <tr>\n",
       "      <th>121</th>\n",
       "      <td>-15.873998</td>\n",
       "      <td>-4.259724</td>\n",
       "      <td>-5.173505</td>\n",
       "      <td>0.000243</td>\n",
       "      <td>0.000163</td>\n",
       "      <td>0.000065</td>\n",
       "      <td>-10</td>\n",
       "      <td>1648084388486115091</td>\n",
       "      <td>Drone0</td>\n",
       "    </tr>\n",
       "    <tr>\n",
       "      <th>122</th>\n",
       "      <td>-21.851782</td>\n",
       "      <td>-4.260490</td>\n",
       "      <td>-5.179359</td>\n",
       "      <td>-2.771314</td>\n",
       "      <td>-0.001631</td>\n",
       "      <td>-0.913714</td>\n",
       "      <td>-10</td>\n",
       "      <td>1648084393975727584</td>\n",
       "      <td>Drone0</td>\n",
       "    </tr>\n",
       "    <tr>\n",
       "      <th>123</th>\n",
       "      <td>-20.537432</td>\n",
       "      <td>-4.279192</td>\n",
       "      <td>-5.030304</td>\n",
       "      <td>0.037999</td>\n",
       "      <td>0.066882</td>\n",
       "      <td>0.073979</td>\n",
       "      <td>-10</td>\n",
       "      <td>1648084397182458595</td>\n",
       "      <td>Drone0</td>\n",
       "    </tr>\n",
       "  </tbody>\n",
       "</table>\n",
       "<p>124 rows × 9 columns</p>\n",
       "</div>"
      ],
      "text/plain": [
       "     x_position  y_position  z_position  x_velocity  y_velocity  z_velocity  \\\n",
       "0     15.093781   -3.021013  -30.150606    2.339865   -0.468487   -3.469950   \n",
       "1     15.514317   -3.116030  -25.102081   -1.278549    0.286990    1.458919   \n",
       "2     16.022137   -3.231725  -31.580023    0.024561   -0.008456   -2.654022   \n",
       "3     10.318042   -3.227493  -30.880627   -2.110800   -0.001803   -0.412890   \n",
       "4     11.312179   -8.914058  -30.849033   -0.164260   -2.095289   -0.412246   \n",
       "..          ...         ...         ...         ...         ...         ...   \n",
       "119  -15.880645   -4.259162   -5.173505    0.003027   -0.003128    0.000066   \n",
       "120  -15.873504   -4.259099   -5.173505   -0.002032    0.000326    0.000065   \n",
       "121  -15.873998   -4.259724   -5.173505    0.000243    0.000163    0.000065   \n",
       "122  -21.851782   -4.260490   -5.179359   -2.771314   -0.001631   -0.913714   \n",
       "123  -20.537432   -4.279192   -5.030304    0.037999    0.066882    0.073979   \n",
       "\n",
       "     Reward           time_stamp vehicle_name  \n",
       "0         0  1648083796011759211       Drone0  \n",
       "1         0  1648083798648924330       Drone0  \n",
       "2         0  1648083803272434706       Drone0  \n",
       "3         0  1648083809806096253       Drone0  \n",
       "4         0  1648083816279331768       Drone0  \n",
       "..      ...                  ...          ...  \n",
       "119     -10  1648084382037780983       Drone0  \n",
       "120     -20  1648084385228212991       Drone0  \n",
       "121     -10  1648084388486115091       Drone0  \n",
       "122     -10  1648084393975727584       Drone0  \n",
       "123     -10  1648084397182458595       Drone0  \n",
       "\n",
       "[124 rows x 9 columns]"
      ]
     },
     "execution_count": 29,
     "metadata": {},
     "output_type": "execute_result"
    }
   ],
   "source": [
    "df_gps.df"
   ]
  },
  {
   "cell_type": "code",
   "execution_count": 30,
   "id": "5544134e",
   "metadata": {},
   "outputs": [
    {
     "data": {
      "text/plain": [
       "<Figure size 432x288 with 0 Axes>"
      ]
     },
     "metadata": {},
     "output_type": "display_data"
    }
   ],
   "source": [
    "arr=df_gps.GPS2image(20.,-4)"
   ]
  },
  {
   "cell_type": "code",
   "execution_count": 32,
   "id": "a9251e4b",
   "metadata": {},
   "outputs": [
    {
     "data": {
      "image/png": "[encoded data removed]",
      "text/plain": [
       "<Figure size 432x288 with 1 Axes>"
      ]
     },
     "metadata": {
      "needs_background": "light"
     },
     "output_type": "display_data"
    }
   ],
   "source": [
    "plt.imshow(arr, cmap='gray')\n",
    "plt.show()"
   ]
  },
  {
   "cell_type": "code",
   "execution_count": 60,
   "id": "c63c3dad",
   "metadata": {},
   "outputs": [],
   "source": [
    "drone_pos_dict={'Drone0': mimic({   'x_val': 14.724202156066895,\n",
    "                    'y_val': -2.943709135055542,\n",
    "                    'z_val': -9.155741691589355}),\n",
    "'Drone1': mimic({   'x_val': 14.724202156066895,\n",
    "    'y_val': -2.943709135055542,\n",
    "    'z_val': -9.155741691589355}),\n",
    "'Drone3': mimic({   'x_val': 14.724202156066895,\n",
    "    'y_val': -2.943709135055542,\n",
    "    'z_val': -9.155741691589355})}\n"
   ]
  },
  {
   "cell_type": "code",
   "execution_count": 61,
   "id": "0cc2ef8d",
   "metadata": {},
   "outputs": [],
   "source": [
    "# export\n",
    "def Penalty4Backtrack(df_gps, x,y, dist=20, penalty=-3, drone_dict=None):\n",
    "    ''' given gps dataframe x,y on most recent index\n",
    "        calcuates the distance to previous x,y positions\n",
    "        returns the reward for every position within dist\n",
    "    '''\n",
    "    df_tmp=df_gps.copy()\n",
    "    if drone_dict is not None:\n",
    "        idx2ignore=list(itertools.chain(*[list(df_tmp[df_tmp['vehicle_name']==vehicle_name].index[-4:]) \n",
    "                       for vehicle_name in drone_dict.keys()]))\n",
    "    else: idx2ignore= list(df_tmp.index[-4:])\n",
    "        \n",
    "    df_tmp['Distance2Drone']=np.sqrt((x-df_tmp['x_position'])**2+ (y-df_tmp['y_position'])**2)\n",
    "    return len(df_tmp[(df_tmp['Distance2Drone']<dist)&(~df_tmp.index.isin(idx2ignore))]) * penalty\n"
   ]
  },
  {
   "cell_type": "code",
   "execution_count": null,
   "id": "a660ef58",
   "metadata": {},
   "outputs": [],
   "source": []
  },
  {
   "cell_type": "code",
   "execution_count": 62,
   "id": "93a51510",
   "metadata": {},
   "outputs": [],
   "source": [
    "# export\n",
    "def DroneDistanceReward(d):\n",
    "    if d>=50:\n",
    "        return  -math.exp(10-(-d+100)**0.5)/100\n",
    "    else: \n",
    "        return (-math.exp(-d**0.5+9))/100\n"
   ]
  },
  {
   "cell_type": "code",
   "execution_count": 63,
   "id": "c6df7ee9",
   "metadata": {},
   "outputs": [
    {
     "name": "stdout",
     "output_type": "stream",
     "text": [
      "-81.03083927575385\n",
      "-81.03083927575385\n"
     ]
    }
   ],
   "source": [
    "# reward for distance between drones\n",
    "if drone_pos_dict is not None:\n",
    "    for other_drone in drone_pos_dict.keys():\n",
    "        if other_drone == vehicle_name: continue\n",
    "        x_pos=(drone_pos_dict[vehicle_name].x_val-drone_pos_dict[other_drone].x_val)\n",
    "        y_pos=(drone_pos_dict[vehicle_name].y_val-drone_pos_dict[other_drone].y_val)\n",
    "        z_pos=(drone_pos_dict[vehicle_name].z_val-drone_pos_dict[other_drone].z_val)\n",
    "\n",
    "        rss=math.sqrt(x_pos*x_pos+y_pos*y_pos+z_pos*z_pos)\n",
    "        print(DroneDistanceReward(rss))"
   ]
  },
  {
   "cell_type": "code",
   "execution_count": 77,
   "id": "2fc3f78e",
   "metadata": {},
   "outputs": [
    {
     "data": {
      "image/png": "[encoded data removed]",
      "text/plain": [
       "<Figure size 720x360 with 1 Axes>"
      ]
     },
     "metadata": {
      "needs_background": "light"
     },
     "output_type": "display_data"
    }
   ],
   "source": [
    "plt.figure(figsize=(10,5))\n",
    "D=np.arange(0,101,1)\n",
    "reward=[DroneDistanceReward(d) for d in D]\n",
    "plt.plot(D, reward, color='k')\n",
    "plt.vlines(50,10,-200, color='grey',linestyles=':', lw=2)\n",
    "ax=plt.gca()\n",
    "draw_outline(ax.text(20, -50 , r'$\\frac{e^{9-\\sqrt{d}}}{100}$', color='Black', \n",
    "                                fontsize=28,  ha='center'),5, foreground='white')\n",
    "\n",
    "draw_outline(ax.text(80, -50 , r'$\\frac{e^{10 - \\sqrt{100 - d}}}{100}$', color='Black', \n",
    "                                fontsize=28,  ha='center'),5, foreground='white')\n",
    "\n",
    "#reward=[(-math.exp(-(d)**0.5+10))/100+100 for d in D]\n",
    "#plt.plot(D, reward)\n",
    "\n",
    "plt.ylabel('Reward')\n",
    "plt.xlabel('Distance (xyz) Between Drones (meters)')\n",
    "plt.ylim(-200,10)\n",
    "plt.savefig('plots/Drone_Distance-Reward.png', bbox_inches='tight')\n",
    "plt.show()"
   ]
  },
  {
   "cell_type": "code",
   "execution_count": 65,
   "id": "71dac8f1",
   "metadata": {},
   "outputs": [],
   "source": [
    "# export\n",
    "def NoFlyZoneReward(d):\n",
    "    if d<0: return -4000\n",
    "    else: return max((-math.exp(-d**0.7+10))/60, -4000)"
   ]
  },
  {
   "cell_type": "code",
   "execution_count": 76,
   "id": "3cf61b87",
   "metadata": {},
   "outputs": [
    {
     "data": {
      "image/png": "[encoded data removed]",
      "text/plain": [
       "<Figure size 432x288 with 1 Axes>"
      ]
     },
     "metadata": {
      "needs_background": "light"
     },
     "output_type": "display_data"
    }
   ],
   "source": [
    "D=np.arange(0,20,1)\n",
    "reward=[NoFlyZoneReward(d) for d in D]\n",
    "plt.plot(D, reward, color='k')\n",
    "\n",
    "ax=plt.gca()\n",
    "draw_outline(ax.text(5, -150 , r'$\\frac{e^{10 - d^{0.7}}}{60}$', color='Black', \n",
    "                                fontsize=28,  ha='center'),5, foreground='white')\n",
    "#plt.grid()\n",
    "plt.ylabel('Reward')\n",
    "plt.xlabel('Distance (xy) to No Fly Zone (meters)')\n",
    "plt.savefig('plots/No_Fly_Zone-Reward.png', bbox_inches='tight')\n",
    "plt.show()\n"
   ]
  },
  {
   "cell_type": "code",
   "execution_count": 67,
   "id": "66ccd226",
   "metadata": {},
   "outputs": [],
   "source": [
    "df_nofly=pd.DataFrame([[37.2, 50.9, 15], [175,60,20]], columns=['x','y','radius']) "
   ]
  },
  {
   "cell_type": "code",
   "execution_count": 68,
   "id": "8fc9f8ef",
   "metadata": {},
   "outputs": [
    {
     "name": "stdout",
     "output_type": "stream",
     "text": [
      "-0.0005216921368116883\n",
      "-1.7988002495815841e-13\n"
     ]
    }
   ],
   "source": [
    "x_crnt=0\n",
    "y_crnt=9\n",
    "if len(df_nofly)>0:\n",
    "    for idx in df_nofly.index:\n",
    "        x_pos=x_crnt-df_nofly.loc[idx,'x']\n",
    "        y_pos=y_crnt-df_nofly.loc[idx,'y']\n",
    "        rss=math.sqrt(x_pos*x_pos+y_pos*y_pos)\n",
    "        print(NoFlyZoneReward(rss-df_nofly.loc[idx,'radius']))"
   ]
  },
  {
   "cell_type": "code",
   "execution_count": null,
   "id": "7758f3bb",
   "metadata": {},
   "outputs": [],
   "source": []
  },
  {
   "cell_type": "code",
   "execution_count": 69,
   "id": "5499580d",
   "metadata": {},
   "outputs": [],
   "source": [
    "# export\n",
    "def HghtReward(z):\n",
    "    if z>=31:\n",
    "        return -math.exp(z**0.5)/300\n",
    "    else: \n",
    "        return -1/math.exp(z**0.5-10)/100\n"
   ]
  },
  {
   "cell_type": "code",
   "execution_count": 74,
   "id": "8e0523ed",
   "metadata": {},
   "outputs": [
    {
     "data": {
      "image/png": "[encoded data removed]",
      "text/plain": [
       "<Figure size 720x360 with 1 Axes>"
      ]
     },
     "metadata": {
      "needs_background": "light"
     },
     "output_type": "display_data"
    }
   ],
   "source": [
    "plt.figure(figsize=(10,5))\n",
    "ax=plt.gca()\n",
    "Z=np.arange(0,121,1)\n",
    "reward=[HghtReward(z) for z in Z]\n",
    "plt.plot(reward, Z, color='k')\n",
    "plt.hlines(31,10,-200, color='grey',linestyles=':', lw=2)\n",
    "plt.xlabel('Reward')\n",
    "plt.ylabel('Z height (meters)')\n",
    "\n",
    "draw_outline(ax.text(-25,90 , r'$\\frac{e^{\\sqrt{z}}}{300}$', color='Black', \n",
    "                                fontsize=24,  ha='center'),5, foreground='white')\n",
    "\n",
    "draw_outline(ax.text( -150, 8 , r'$\\frac{e^{10 - \\sqrt{z}}}{100}$', color='Black', \n",
    "                                fontsize=24,  ha='center'),5, foreground='white')\n",
    "\n",
    "plt.xlim(-200,10)\n",
    "plt.savefig('plots/Z-Reward.png', bbox_inches='tight')\n",
    "plt.show()"
   ]
  },
  {
   "cell_type": "code",
   "execution_count": 75,
   "id": "d955655d",
   "metadata": {},
   "outputs": [
    {
     "data": {
      "text/plain": [
       "40.0"
      ]
     },
     "execution_count": 75,
     "metadata": {},
     "output_type": "execute_result"
    }
   ],
   "source": [
    "60/1.5"
   ]
  },
  {
   "cell_type": "code",
   "execution_count": 72,
   "id": "cd201b0f",
   "metadata": {},
   "outputs": [],
   "source": [
    "# export\n",
    "def plot_Reward(df_summary, path, filename, show=False):\n",
    "    fig=plt.figure(figsize=(20, 12), dpi=80, facecolor='w', edgecolor='k')\n",
    "    filename = os.path.join(path, f'{filename}.png')\n",
    "    plt.scatter(df_summary['Episode'], df_summary['Score'], alpha=0.5, label='Episode Score')\n",
    "    plt.plot(df_summary['Episode'], df_summary['Average Score'], color='orange', label='Running Average')\n",
    "    plt.ylabel('Reward')\n",
    "    plt.xlabel('Episodes')\n",
    "    plt.legend(loc=2)\n",
    "\n",
    "    #plt.ylim(-1000,10)\n",
    "    plt.grid()\n",
    "    \n",
    "    \n",
    "    plt.savefig(filename)\n",
    "    if show: plt.show()\n",
    "    \n",
    "    plt.close(fig)\n",
    "    plt.figure().clear()\n",
    "    plt.close()\n",
    "    plt.cla()\n",
    "    plt.clf()\n",
    "\n"
   ]
  },
  {
   "cell_type": "code",
   "execution_count": 76,
   "id": "2f9923b5",
   "metadata": {},
   "outputs": [],
   "source": [
    "pd.set_option('display.max_rows', 500)"
   ]
  },
  {
   "cell_type": "code",
   "execution_count": 79,
   "id": "683b5d0c",
   "metadata": {},
   "outputs": [],
   "source": [
    "df_summary=pd.read_csv('data/Neighborhood_600s_DDQNAgent_2022-03-23.csv')"
   ]
  },
  {
   "cell_type": "code",
   "execution_count": 80,
   "id": "795f150b",
   "metadata": {},
   "outputs": [],
   "source": [
    "#df_summary['Average Score']=[np.mean(df_summary.loc[df_summary.index[idx:-50], 'Score']) for idx in df_summary.index]"
   ]
  },
  {
   "cell_type": "code",
   "execution_count": 81,
   "id": "3692ff28",
   "metadata": {
    "scrolled": true
   },
   "outputs": [
    {
     "data": {
      "text/html": [
       "<div>\n",
       "<style scoped>\n",
       "    .dataframe tbody tr th:only-of-type {\n",
       "        vertical-align: middle;\n",
       "    }\n",
       "\n",
       "    .dataframe tbody tr th {\n",
       "        vertical-align: top;\n",
       "    }\n",
       "\n",
       "    .dataframe thead th {\n",
       "        text-align: right;\n",
       "    }\n",
       "</style>\n",
       "<table border=\"1\" class=\"dataframe\">\n",
       "  <thead>\n",
       "    <tr style=\"text-align: right;\">\n",
       "      <th></th>\n",
       "      <th>Episode</th>\n",
       "      <th>Score</th>\n",
       "      <th>Average Score</th>\n",
       "      <th>Best Score</th>\n",
       "      <th>steps</th>\n",
       "      <th>Model Saved</th>\n",
       "      <th>Epsilon</th>\n",
       "      <th>Dropout</th>\n",
       "      <th>Vehicle Name</th>\n",
       "    </tr>\n",
       "  </thead>\n",
       "  <tbody>\n",
       "    <tr>\n",
       "      <th>0</th>\n",
       "      <td>0</td>\n",
       "      <td>-25879.765418</td>\n",
       "      <td>-25879.765418</td>\n",
       "      <td>-inf</td>\n",
       "      <td>174</td>\n",
       "      <td>False</td>\n",
       "      <td>0.9953</td>\n",
       "      <td>0.001</td>\n",
       "      <td>Drone0</td>\n",
       "    </tr>\n",
       "    <tr>\n",
       "      <th>1</th>\n",
       "      <td>1</td>\n",
       "      <td>-29445.846024</td>\n",
       "      <td>-27662.805721</td>\n",
       "      <td>-inf</td>\n",
       "      <td>284</td>\n",
       "      <td>False</td>\n",
       "      <td>0.9843</td>\n",
       "      <td>0.001</td>\n",
       "      <td>Drone0</td>\n",
       "    </tr>\n",
       "    <tr>\n",
       "      <th>2</th>\n",
       "      <td>2</td>\n",
       "      <td>-13917.372877</td>\n",
       "      <td>-23080.994773</td>\n",
       "      <td>-inf</td>\n",
       "      <td>336</td>\n",
       "      <td>False</td>\n",
       "      <td>0.9791</td>\n",
       "      <td>0.001</td>\n",
       "      <td>Drone0</td>\n",
       "    </tr>\n",
       "    <tr>\n",
       "      <th>3</th>\n",
       "      <td>3</td>\n",
       "      <td>-28397.723362</td>\n",
       "      <td>-24410.176920</td>\n",
       "      <td>-inf</td>\n",
       "      <td>447</td>\n",
       "      <td>False</td>\n",
       "      <td>0.9680</td>\n",
       "      <td>0.001</td>\n",
       "      <td>Drone0</td>\n",
       "    </tr>\n",
       "    <tr>\n",
       "      <th>4</th>\n",
       "      <td>4</td>\n",
       "      <td>-17724.028740</td>\n",
       "      <td>-23072.947284</td>\n",
       "      <td>-inf</td>\n",
       "      <td>507</td>\n",
       "      <td>True</td>\n",
       "      <td>0.9620</td>\n",
       "      <td>0.001</td>\n",
       "      <td>Drone0</td>\n",
       "    </tr>\n",
       "    <tr>\n",
       "      <th>...</th>\n",
       "      <td>...</td>\n",
       "      <td>...</td>\n",
       "      <td>...</td>\n",
       "      <td>...</td>\n",
       "      <td>...</td>\n",
       "      <td>...</td>\n",
       "      <td>...</td>\n",
       "      <td>...</td>\n",
       "      <td>...</td>\n",
       "    </tr>\n",
       "    <tr>\n",
       "      <th>250</th>\n",
       "      <td>250</td>\n",
       "      <td>-4504.949328</td>\n",
       "      <td>-2927.169838</td>\n",
       "      <td>-253.515892</td>\n",
       "      <td>20451</td>\n",
       "      <td>False</td>\n",
       "      <td>0.0999</td>\n",
       "      <td>0.001</td>\n",
       "      <td>Drone0</td>\n",
       "    </tr>\n",
       "    <tr>\n",
       "      <th>251</th>\n",
       "      <td>251</td>\n",
       "      <td>-459.907978</td>\n",
       "      <td>-2648.497492</td>\n",
       "      <td>-253.515892</td>\n",
       "      <td>20542</td>\n",
       "      <td>False</td>\n",
       "      <td>0.0999</td>\n",
       "      <td>0.001</td>\n",
       "      <td>Drone0</td>\n",
       "    </tr>\n",
       "    <tr>\n",
       "      <th>252</th>\n",
       "      <td>252</td>\n",
       "      <td>-4008.213001</td>\n",
       "      <td>-2757.527149</td>\n",
       "      <td>-253.515892</td>\n",
       "      <td>20590</td>\n",
       "      <td>False</td>\n",
       "      <td>0.0999</td>\n",
       "      <td>0.001</td>\n",
       "      <td>Drone0</td>\n",
       "    </tr>\n",
       "    <tr>\n",
       "      <th>253</th>\n",
       "      <td>253</td>\n",
       "      <td>-4275.225836</td>\n",
       "      <td>-2833.176026</td>\n",
       "      <td>-253.515892</td>\n",
       "      <td>20643</td>\n",
       "      <td>False</td>\n",
       "      <td>0.0999</td>\n",
       "      <td>0.001</td>\n",
       "      <td>Drone0</td>\n",
       "    </tr>\n",
       "    <tr>\n",
       "      <th>254</th>\n",
       "      <td>254</td>\n",
       "      <td>-607.403857</td>\n",
       "      <td>-2559.432586</td>\n",
       "      <td>-253.515892</td>\n",
       "      <td>20735</td>\n",
       "      <td>False</td>\n",
       "      <td>0.0999</td>\n",
       "      <td>0.001</td>\n",
       "      <td>Drone0</td>\n",
       "    </tr>\n",
       "  </tbody>\n",
       "</table>\n",
       "<p>255 rows × 9 columns</p>\n",
       "</div>"
      ],
      "text/plain": [
       "     Episode         Score  Average Score  Best Score  steps  Model Saved  \\\n",
       "0          0 -25879.765418  -25879.765418        -inf    174        False   \n",
       "1          1 -29445.846024  -27662.805721        -inf    284        False   \n",
       "2          2 -13917.372877  -23080.994773        -inf    336        False   \n",
       "3          3 -28397.723362  -24410.176920        -inf    447        False   \n",
       "4          4 -17724.028740  -23072.947284        -inf    507         True   \n",
       "..       ...           ...            ...         ...    ...          ...   \n",
       "250      250  -4504.949328   -2927.169838 -253.515892  20451        False   \n",
       "251      251   -459.907978   -2648.497492 -253.515892  20542        False   \n",
       "252      252  -4008.213001   -2757.527149 -253.515892  20590        False   \n",
       "253      253  -4275.225836   -2833.176026 -253.515892  20643        False   \n",
       "254      254   -607.403857   -2559.432586 -253.515892  20735        False   \n",
       "\n",
       "     Epsilon  Dropout Vehicle Name  \n",
       "0     0.9953    0.001       Drone0  \n",
       "1     0.9843    0.001       Drone0  \n",
       "2     0.9791    0.001       Drone0  \n",
       "3     0.9680    0.001       Drone0  \n",
       "4     0.9620    0.001       Drone0  \n",
       "..       ...      ...          ...  \n",
       "250   0.0999    0.001       Drone0  \n",
       "251   0.0999    0.001       Drone0  \n",
       "252   0.0999    0.001       Drone0  \n",
       "253   0.0999    0.001       Drone0  \n",
       "254   0.0999    0.001       Drone0  \n",
       "\n",
       "[255 rows x 9 columns]"
      ]
     },
     "execution_count": 81,
     "metadata": {},
     "output_type": "execute_result"
    }
   ],
   "source": [
    "df_summary"
   ]
  },
  {
   "cell_type": "code",
   "execution_count": 82,
   "id": "959a1a11",
   "metadata": {},
   "outputs": [],
   "source": [
    "#np.mean(df_summary.loc[df_summary.index[:-50], 'Score'])"
   ]
  },
  {
   "cell_type": "code",
   "execution_count": 83,
   "id": "954e8401",
   "metadata": {
    "scrolled": true
   },
   "outputs": [
    {
     "name": "stdout",
     "output_type": "stream",
     "text": [
      "                   250      251      252      253      254\n",
      "Episode            250      251      252      253      254\n",
      "Score         -4504.95 -459.908 -4008.21 -4275.23 -607.404\n",
      "Average Score -2927.17  -2648.5 -2757.53 -2833.18 -2559.43\n",
      "Best Score    -253.516 -253.516 -253.516 -253.516 -253.516\n",
      "steps            20451    20542    20590    20643    20735\n",
      "Model Saved      False    False    False    False    False\n",
      "Epsilon         0.0999   0.0999   0.0999   0.0999   0.0999\n",
      "Dropout          0.001    0.001    0.001    0.001    0.001\n",
      "Vehicle Name    Drone0   Drone0   Drone0   Drone0   Drone0\n"
     ]
    }
   ],
   "source": [
    "print(df_summary.tail().T)"
   ]
  },
  {
   "cell_type": "code",
   "execution_count": 84,
   "id": "1f5884fe",
   "metadata": {},
   "outputs": [],
   "source": [
    "filename='Neighborhood_DDQNAgent_2022-03-14'\n",
    "path='plots'"
   ]
  },
  {
   "cell_type": "code",
   "execution_count": 85,
   "id": "0d73cf45",
   "metadata": {},
   "outputs": [
    {
     "data": {
      "image/png": "[encoded data removed]",
      "text/plain": [
       "<Figure size 1600x960 with 1 Axes>"
      ]
     },
     "metadata": {},
     "output_type": "display_data"
    },
    {
     "data": {
      "text/plain": [
       "<Figure size 432x288 with 0 Axes>"
      ]
     },
     "metadata": {},
     "output_type": "display_data"
    }
   ],
   "source": [
    "plot_Reward(df_summary, path, filename, show=True)"
   ]
  },
  {
   "cell_type": "code",
   "execution_count": 86,
   "id": "af483313",
   "metadata": {
    "scrolled": true
   },
   "outputs": [
    {
     "data": {
      "text/html": [
       "<div>\n",
       "<style scoped>\n",
       "    .dataframe tbody tr th:only-of-type {\n",
       "        vertical-align: middle;\n",
       "    }\n",
       "\n",
       "    .dataframe tbody tr th {\n",
       "        vertical-align: top;\n",
       "    }\n",
       "\n",
       "    .dataframe thead th {\n",
       "        text-align: right;\n",
       "    }\n",
       "</style>\n",
       "<table border=\"1\" class=\"dataframe\">\n",
       "  <thead>\n",
       "    <tr style=\"text-align: right;\">\n",
       "      <th></th>\n",
       "      <th>Episode</th>\n",
       "      <th>Score</th>\n",
       "      <th>Average Score</th>\n",
       "      <th>Best Score</th>\n",
       "      <th>steps</th>\n",
       "      <th>Model Saved</th>\n",
       "      <th>Epsilon</th>\n",
       "      <th>Dropout</th>\n",
       "      <th>Vehicle Name</th>\n",
       "    </tr>\n",
       "  </thead>\n",
       "  <tbody>\n",
       "    <tr>\n",
       "      <th>4</th>\n",
       "      <td>4</td>\n",
       "      <td>-17724.028740</td>\n",
       "      <td>-23072.947284</td>\n",
       "      <td>-inf</td>\n",
       "      <td>507</td>\n",
       "      <td>True</td>\n",
       "      <td>0.9620</td>\n",
       "      <td>0.001</td>\n",
       "      <td>Drone0</td>\n",
       "    </tr>\n",
       "    <tr>\n",
       "      <th>5</th>\n",
       "      <td>5</td>\n",
       "      <td>-8066.190355</td>\n",
       "      <td>-20571.821129</td>\n",
       "      <td>-2.307295e+04</td>\n",
       "      <td>549</td>\n",
       "      <td>True</td>\n",
       "      <td>0.9578</td>\n",
       "      <td>0.001</td>\n",
       "      <td>Drone0</td>\n",
       "    </tr>\n",
       "    <tr>\n",
       "      <th>19</th>\n",
       "      <td>19</td>\n",
       "      <td>-10101.269235</td>\n",
       "      <td>-19458.979927</td>\n",
       "      <td>-2.057182e+04</td>\n",
       "      <td>1816</td>\n",
       "      <td>True</td>\n",
       "      <td>0.8311</td>\n",
       "      <td>0.001</td>\n",
       "      <td>Drone0</td>\n",
       "    </tr>\n",
       "    <tr>\n",
       "      <th>20</th>\n",
       "      <td>20</td>\n",
       "      <td>-10512.396927</td>\n",
       "      <td>-17644.853636</td>\n",
       "      <td>-1.945898e+04</td>\n",
       "      <td>1921</td>\n",
       "      <td>True</td>\n",
       "      <td>0.8206</td>\n",
       "      <td>0.001</td>\n",
       "      <td>Drone0</td>\n",
       "    </tr>\n",
       "    <tr>\n",
       "      <th>21</th>\n",
       "      <td>21</td>\n",
       "      <td>-4912.067244</td>\n",
       "      <td>-11133.245998</td>\n",
       "      <td>-1.764485e+04</td>\n",
       "      <td>1960</td>\n",
       "      <td>True</td>\n",
       "      <td>0.8167</td>\n",
       "      <td>0.001</td>\n",
       "      <td>Drone0</td>\n",
       "    </tr>\n",
       "    <tr>\n",
       "      <th>22</th>\n",
       "      <td>22</td>\n",
       "      <td>-5374.559361</td>\n",
       "      <td>-10057.469697</td>\n",
       "      <td>-1.113325e+04</td>\n",
       "      <td>1994</td>\n",
       "      <td>True</td>\n",
       "      <td>0.8133</td>\n",
       "      <td>0.001</td>\n",
       "      <td>Drone0</td>\n",
       "    </tr>\n",
       "    <tr>\n",
       "      <th>23</th>\n",
       "      <td>23</td>\n",
       "      <td>-14347.040395</td>\n",
       "      <td>-9558.166980</td>\n",
       "      <td>-1.005747e+04</td>\n",
       "      <td>2098</td>\n",
       "      <td>True</td>\n",
       "      <td>0.8029</td>\n",
       "      <td>0.001</td>\n",
       "      <td>Drone0</td>\n",
       "    </tr>\n",
       "    <tr>\n",
       "      <th>24</th>\n",
       "      <td>24</td>\n",
       "      <td>-9906.602065</td>\n",
       "      <td>-9302.870655</td>\n",
       "      <td>-9.558167e+03</td>\n",
       "      <td>2209</td>\n",
       "      <td>True</td>\n",
       "      <td>0.7918</td>\n",
       "      <td>0.001</td>\n",
       "      <td>Drone0</td>\n",
       "    </tr>\n",
       "    <tr>\n",
       "      <th>25</th>\n",
       "      <td>25</td>\n",
       "      <td>-5912.972415</td>\n",
       "      <td>-9297.319359</td>\n",
       "      <td>-9.302871e+03</td>\n",
       "      <td>2245</td>\n",
       "      <td>True</td>\n",
       "      <td>0.7882</td>\n",
       "      <td>0.001</td>\n",
       "      <td>Drone0</td>\n",
       "    </tr>\n",
       "    <tr>\n",
       "      <th>47</th>\n",
       "      <td>47</td>\n",
       "      <td>-2626.848758</td>\n",
       "      <td>-8488.909333</td>\n",
       "      <td>-9.297319e+03</td>\n",
       "      <td>3978</td>\n",
       "      <td>True</td>\n",
       "      <td>0.6149</td>\n",
       "      <td>0.001</td>\n",
       "      <td>Drone0</td>\n",
       "    </tr>\n",
       "    <tr>\n",
       "      <th>48</th>\n",
       "      <td>48</td>\n",
       "      <td>-1513.083244</td>\n",
       "      <td>-8122.030936</td>\n",
       "      <td>-8.488909e+03</td>\n",
       "      <td>4079</td>\n",
       "      <td>True</td>\n",
       "      <td>0.6048</td>\n",
       "      <td>0.001</td>\n",
       "      <td>Drone0</td>\n",
       "    </tr>\n",
       "    <tr>\n",
       "      <th>50</th>\n",
       "      <td>50</td>\n",
       "      <td>-320.611105</td>\n",
       "      <td>-7096.778335</td>\n",
       "      <td>-8.122031e+03</td>\n",
       "      <td>4283</td>\n",
       "      <td>True</td>\n",
       "      <td>0.5844</td>\n",
       "      <td>0.001</td>\n",
       "      <td>Drone0</td>\n",
       "    </tr>\n",
       "    <tr>\n",
       "      <th>51</th>\n",
       "      <td>51</td>\n",
       "      <td>-4322.910581</td>\n",
       "      <td>-5953.068106</td>\n",
       "      <td>-7.096778e+03</td>\n",
       "      <td>4322</td>\n",
       "      <td>True</td>\n",
       "      <td>0.5805</td>\n",
       "      <td>0.001</td>\n",
       "      <td>Drone0</td>\n",
       "    </tr>\n",
       "    <tr>\n",
       "      <th>52</th>\n",
       "      <td>52</td>\n",
       "      <td>-4735.419832</td>\n",
       "      <td>-3401.479418</td>\n",
       "      <td>-5.953068e+03</td>\n",
       "      <td>4400</td>\n",
       "      <td>True</td>\n",
       "      <td>0.5727</td>\n",
       "      <td>0.001</td>\n",
       "      <td>Drone0</td>\n",
       "    </tr>\n",
       "    <tr>\n",
       "      <th>53</th>\n",
       "      <td>53</td>\n",
       "      <td>-1711.643979</td>\n",
       "      <td>-3378.678034</td>\n",
       "      <td>-3.401479e+03</td>\n",
       "      <td>4499</td>\n",
       "      <td>True</td>\n",
       "      <td>0.5628</td>\n",
       "      <td>0.001</td>\n",
       "      <td>Drone0</td>\n",
       "    </tr>\n",
       "    <tr>\n",
       "      <th>54</th>\n",
       "      <td>54</td>\n",
       "      <td>-2826.563819</td>\n",
       "      <td>-3341.411592</td>\n",
       "      <td>-3.378678e+03</td>\n",
       "      <td>4601</td>\n",
       "      <td>True</td>\n",
       "      <td>0.5526</td>\n",
       "      <td>0.001</td>\n",
       "      <td>Drone0</td>\n",
       "    </tr>\n",
       "    <tr>\n",
       "      <th>65</th>\n",
       "      <td>65</td>\n",
       "      <td>-1520.569470</td>\n",
       "      <td>-3029.229869</td>\n",
       "      <td>-3.341412e+03</td>\n",
       "      <td>5646</td>\n",
       "      <td>True</td>\n",
       "      <td>0.4481</td>\n",
       "      <td>0.001</td>\n",
       "      <td>Drone0</td>\n",
       "    </tr>\n",
       "    <tr>\n",
       "      <th>66</th>\n",
       "      <td>66</td>\n",
       "      <td>-705.984727</td>\n",
       "      <td>-2802.130912</td>\n",
       "      <td>-3.029230e+03</td>\n",
       "      <td>5746</td>\n",
       "      <td>True</td>\n",
       "      <td>0.4381</td>\n",
       "      <td>0.001</td>\n",
       "      <td>Drone0</td>\n",
       "    </tr>\n",
       "    <tr>\n",
       "      <th>67</th>\n",
       "      <td>67</td>\n",
       "      <td>-1235.254529</td>\n",
       "      <td>-2603.300669</td>\n",
       "      <td>-2.802131e+03</td>\n",
       "      <td>5840</td>\n",
       "      <td>True</td>\n",
       "      <td>0.4287</td>\n",
       "      <td>0.001</td>\n",
       "      <td>Drone0</td>\n",
       "    </tr>\n",
       "    <tr>\n",
       "      <th>69</th>\n",
       "      <td>69</td>\n",
       "      <td>-1253.951026</td>\n",
       "      <td>-2153.771430</td>\n",
       "      <td>-2.603301e+03</td>\n",
       "      <td>5978</td>\n",
       "      <td>True</td>\n",
       "      <td>0.4149</td>\n",
       "      <td>0.001</td>\n",
       "      <td>Drone0</td>\n",
       "    </tr>\n",
       "    <tr>\n",
       "      <th>70</th>\n",
       "      <td>70</td>\n",
       "      <td>-1033.846655</td>\n",
       "      <td>-1586.276334</td>\n",
       "      <td>-2.153771e+03</td>\n",
       "      <td>6076</td>\n",
       "      <td>True</td>\n",
       "      <td>0.4051</td>\n",
       "      <td>0.001</td>\n",
       "      <td>Drone0</td>\n",
       "    </tr>\n",
       "    <tr>\n",
       "      <th>71</th>\n",
       "      <td>71</td>\n",
       "      <td>297.793836</td>\n",
       "      <td>-1506.885263</td>\n",
       "      <td>-1.586276e+03</td>\n",
       "      <td>6168</td>\n",
       "      <td>True</td>\n",
       "      <td>0.3959</td>\n",
       "      <td>0.001</td>\n",
       "      <td>Drone0</td>\n",
       "    </tr>\n",
       "    <tr>\n",
       "      <th>89</th>\n",
       "      <td>89</td>\n",
       "      <td>157.167159</td>\n",
       "      <td>-832.713242</td>\n",
       "      <td>-1.506885e+03</td>\n",
       "      <td>7754</td>\n",
       "      <td>True</td>\n",
       "      <td>0.2373</td>\n",
       "      <td>0.001</td>\n",
       "      <td>Drone0</td>\n",
       "    </tr>\n",
       "    <tr>\n",
       "      <th>95</th>\n",
       "      <td>95</td>\n",
       "      <td>60.275160</td>\n",
       "      <td>-793.313788</td>\n",
       "      <td>-8.327132e+02</td>\n",
       "      <td>8232</td>\n",
       "      <td>True</td>\n",
       "      <td>0.1895</td>\n",
       "      <td>0.001</td>\n",
       "      <td>Drone0</td>\n",
       "    </tr>\n",
       "    <tr>\n",
       "      <th>97</th>\n",
       "      <td>97</td>\n",
       "      <td>-125.356275</td>\n",
       "      <td>-763.194348</td>\n",
       "      <td>-7.933138e+02</td>\n",
       "      <td>8378</td>\n",
       "      <td>True</td>\n",
       "      <td>0.1749</td>\n",
       "      <td>0.001</td>\n",
       "      <td>Drone0</td>\n",
       "    </tr>\n",
       "    <tr>\n",
       "      <th>98</th>\n",
       "      <td>98</td>\n",
       "      <td>1022.803843</td>\n",
       "      <td>-692.583011</td>\n",
       "      <td>-7.631943e+02</td>\n",
       "      <td>8471</td>\n",
       "      <td>True</td>\n",
       "      <td>0.1656</td>\n",
       "      <td>0.001</td>\n",
       "      <td>Drone0</td>\n",
       "    </tr>\n",
       "    <tr>\n",
       "      <th>102</th>\n",
       "      <td>102</td>\n",
       "      <td>363.921769</td>\n",
       "      <td>-504.920700</td>\n",
       "      <td>-6.925830e+02</td>\n",
       "      <td>8835</td>\n",
       "      <td>True</td>\n",
       "      <td>0.1292</td>\n",
       "      <td>0.001</td>\n",
       "      <td>Drone0</td>\n",
       "    </tr>\n",
       "    <tr>\n",
       "      <th>153</th>\n",
       "      <td>153</td>\n",
       "      <td>501.664828</td>\n",
       "      <td>-263.169568</td>\n",
       "      <td>-5.049207e+02</td>\n",
       "      <td>12752</td>\n",
       "      <td>True</td>\n",
       "      <td>0.0999</td>\n",
       "      <td>0.001</td>\n",
       "      <td>Drone0</td>\n",
       "    </tr>\n",
       "    <tr>\n",
       "      <th>154</th>\n",
       "      <td>154</td>\n",
       "      <td>-2705.647882</td>\n",
       "      <td>-253.515892</td>\n",
       "      <td>-2.631696e+02</td>\n",
       "      <td>12797</td>\n",
       "      <td>True</td>\n",
       "      <td>0.0999</td>\n",
       "      <td>0.001</td>\n",
       "      <td>Drone0</td>\n",
       "    </tr>\n",
       "  </tbody>\n",
       "</table>\n",
       "</div>"
      ],
      "text/plain": [
       "     Episode         Score  Average Score    Best Score  steps  Model Saved  \\\n",
       "4          4 -17724.028740  -23072.947284          -inf    507         True   \n",
       "5          5  -8066.190355  -20571.821129 -2.307295e+04    549         True   \n",
       "19        19 -10101.269235  -19458.979927 -2.057182e+04   1816         True   \n",
       "20        20 -10512.396927  -17644.853636 -1.945898e+04   1921         True   \n",
       "21        21  -4912.067244  -11133.245998 -1.764485e+04   1960         True   \n",
       "22        22  -5374.559361  -10057.469697 -1.113325e+04   1994         True   \n",
       "23        23 -14347.040395   -9558.166980 -1.005747e+04   2098         True   \n",
       "24        24  -9906.602065   -9302.870655 -9.558167e+03   2209         True   \n",
       "25        25  -5912.972415   -9297.319359 -9.302871e+03   2245         True   \n",
       "47        47  -2626.848758   -8488.909333 -9.297319e+03   3978         True   \n",
       "48        48  -1513.083244   -8122.030936 -8.488909e+03   4079         True   \n",
       "50        50   -320.611105   -7096.778335 -8.122031e+03   4283         True   \n",
       "51        51  -4322.910581   -5953.068106 -7.096778e+03   4322         True   \n",
       "52        52  -4735.419832   -3401.479418 -5.953068e+03   4400         True   \n",
       "53        53  -1711.643979   -3378.678034 -3.401479e+03   4499         True   \n",
       "54        54  -2826.563819   -3341.411592 -3.378678e+03   4601         True   \n",
       "65        65  -1520.569470   -3029.229869 -3.341412e+03   5646         True   \n",
       "66        66   -705.984727   -2802.130912 -3.029230e+03   5746         True   \n",
       "67        67  -1235.254529   -2603.300669 -2.802131e+03   5840         True   \n",
       "69        69  -1253.951026   -2153.771430 -2.603301e+03   5978         True   \n",
       "70        70  -1033.846655   -1586.276334 -2.153771e+03   6076         True   \n",
       "71        71    297.793836   -1506.885263 -1.586276e+03   6168         True   \n",
       "89        89    157.167159    -832.713242 -1.506885e+03   7754         True   \n",
       "95        95     60.275160    -793.313788 -8.327132e+02   8232         True   \n",
       "97        97   -125.356275    -763.194348 -7.933138e+02   8378         True   \n",
       "98        98   1022.803843    -692.583011 -7.631943e+02   8471         True   \n",
       "102      102    363.921769    -504.920700 -6.925830e+02   8835         True   \n",
       "153      153    501.664828    -263.169568 -5.049207e+02  12752         True   \n",
       "154      154  -2705.647882    -253.515892 -2.631696e+02  12797         True   \n",
       "\n",
       "     Epsilon  Dropout Vehicle Name  \n",
       "4     0.9620    0.001       Drone0  \n",
       "5     0.9578    0.001       Drone0  \n",
       "19    0.8311    0.001       Drone0  \n",
       "20    0.8206    0.001       Drone0  \n",
       "21    0.8167    0.001       Drone0  \n",
       "22    0.8133    0.001       Drone0  \n",
       "23    0.8029    0.001       Drone0  \n",
       "24    0.7918    0.001       Drone0  \n",
       "25    0.7882    0.001       Drone0  \n",
       "47    0.6149    0.001       Drone0  \n",
       "48    0.6048    0.001       Drone0  \n",
       "50    0.5844    0.001       Drone0  \n",
       "51    0.5805    0.001       Drone0  \n",
       "52    0.5727    0.001       Drone0  \n",
       "53    0.5628    0.001       Drone0  \n",
       "54    0.5526    0.001       Drone0  \n",
       "65    0.4481    0.001       Drone0  \n",
       "66    0.4381    0.001       Drone0  \n",
       "67    0.4287    0.001       Drone0  \n",
       "69    0.4149    0.001       Drone0  \n",
       "70    0.4051    0.001       Drone0  \n",
       "71    0.3959    0.001       Drone0  \n",
       "89    0.2373    0.001       Drone0  \n",
       "95    0.1895    0.001       Drone0  \n",
       "97    0.1749    0.001       Drone0  \n",
       "98    0.1656    0.001       Drone0  \n",
       "102   0.1292    0.001       Drone0  \n",
       "153   0.0999    0.001       Drone0  \n",
       "154   0.0999    0.001       Drone0  "
      ]
     },
     "execution_count": 86,
     "metadata": {},
     "output_type": "execute_result"
    }
   ],
   "source": [
    "df_summary[df_summary['Model Saved']==True]"
   ]
  },
  {
   "cell_type": "code",
   "execution_count": null,
   "id": "fc774fe3",
   "metadata": {},
   "outputs": [],
   "source": []
  },
  {
   "cell_type": "code",
   "execution_count": 87,
   "id": "a755bd61",
   "metadata": {},
   "outputs": [],
   "source": [
    "# export\n",
    "def RoadBelowReward(img, rng=50, reward=100, nonlinear=False):\n",
    "    # input image, 2*rng =center square, \n",
    "    # reward for being over the road is concentrated around the center of the image and dissipates near edges\n",
    "    # OR looks at center of image and gets the percent of pixels that are equal to 1. (road)\n",
    "    # returns reward or road percent * the reward\n",
    "\n",
    "    x,y=img.shape\n",
    "    x=int(x/2)\n",
    "    y=int(y/2)\n",
    "    img_cntr=img[x-rng:x+rng,y-rng:y+rng].copy()\n",
    "    img_cntr=np.ma.masked_where(img_cntr == 1, img_cntr).mask.astype(int)\n",
    "\n",
    "    try:\n",
    "        if nonlinear:\n",
    "            rwd_arr=np.array(list(np.arange(1,rng+1))+list(np.arange(rng,0,-1)))\n",
    "            rwd_mat=rwd_arr*rwd_arr[np.newaxis].T\n",
    "            rwd_mat=rwd_mat/(rwd_mat.max()*1000)\n",
    "            return (img_cntr*rwd_mat*reward).sum()          \n",
    "        \n",
    "        else: return (img_cntr.sum()/(rng*2)**2)*reward\n",
    "    except: return 0"
   ]
  },
  {
   "cell_type": "code",
   "execution_count": 88,
   "id": "98a56213",
   "metadata": {},
   "outputs": [
    {
     "data": {
      "image/png": "[encoded data removed]",
      "text/plain": [
       "<Figure size 432x288 with 1 Axes>"
      ]
     },
     "metadata": {
      "needs_background": "light"
     },
     "output_type": "display_data"
    },
    {
     "data": {
      "text/plain": [
       "61.0"
      ]
     },
     "execution_count": 88,
     "metadata": {},
     "output_type": "execute_result"
    }
   ],
   "source": [
    "arr=np.load('data/Bottom_center_Seg_z30.npy')\n",
    "plt.imshow(arr, cmap='Greys')\n",
    "plt.show()\n",
    "RoadBelowReward(arr, rng=50, reward=100)"
   ]
  },
  {
   "cell_type": "code",
   "execution_count": 96,
   "id": "a915b265",
   "metadata": {},
   "outputs": [
    {
     "data": {
      "text/plain": [
       "<matplotlib.image.AxesImage at 0x7faecbf6ab10>"
      ]
     },
     "execution_count": 96,
     "metadata": {},
     "output_type": "execute_result"
    },
    {
     "data": {
      "image/png": "[encoded data removed]",
      "text/plain": [
       "<Figure size 432x288 with 1 Axes>"
      ]
     },
     "metadata": {
      "needs_background": "light"
     },
     "output_type": "display_data"
    }
   ],
   "source": [
    "plt.imshow(np.ma.masked_where(arr == 1, arr).mask.astype(int), cmap='Greys')\n"
   ]
  },
  {
   "cell_type": "code",
   "execution_count": 36,
   "id": "b8ceac62",
   "metadata": {},
   "outputs": [],
   "source": [
    "# export\n",
    "def initialGPS(x_cntr,y_cntr, sz=(224, 224), df_nofly=None):\n",
    "    #################################### Plotting #########################################################\n",
    "    rad=100\n",
    "    fig, ax = plt.subplots(figsize=(5,5))\n",
    "    ax=plt.gca(); ax.set_axis_off()\n",
    "    ax.add_patch(patches.Rectangle((x_cntr-rad,y_cntr-rad+1), width=rad*2-1, height=rad*2-1, ec='k', facecolor='#b3b3b3'))\n",
    "    ax.add_patch(plt.Circle((x_cntr,y_cntr), rad, ec='k', facecolor='white'))\n",
    "    plt.xlim(x_cntr-rad,x_cntr+rad); plt.ylim(y_cntr-rad,y_cntr+rad) \n",
    "\n",
    "    if df_nofly is not None: # plot the no fly zone\n",
    "        for idx in df_nofly.index:\n",
    "            ax.add_patch(plt.Circle((df_nofly.loc[idx,'x'], df_nofly.loc[idx,'y']), df_nofly.loc[idx,'radius'],\n",
    "                                hatch='xxx',facecolor='grey'))\n",
    "\n",
    "    plt.plot(x_cntr, y_cntr ,marker='P', color='k', lw=6, ms=16, markeredgecolor='white',linestyle='None',markeredgewidth=2)\n",
    "    plt.tight_layout()\n",
    "    fig.canvas.draw()\n",
    "\n",
    "    # plot to image array\n",
    "    arr = np.frombuffer(fig.canvas.tostring_rgb(), dtype=np.uint8)\n",
    "    arr = arr.reshape(fig.canvas.get_width_height()[::-1] + (3,))\n",
    "    arr = cv2.cvtColor(arr, cv2.COLOR_RGB2GRAY)\n",
    "    # this padding only works for 224x224 images\n",
    "    arr=cv2.resize(arr[9:-11, 9:-11], (sz), interpolation=cv2.INTER_CUBIC)\n",
    "    # close the figure\n",
    "    plt.close(fig)\n",
    "    plt.figure().clear()\n",
    "    plt.close()\n",
    "    plt.cla()\n",
    "    plt.clf()\n",
    "\n",
    "    return arr/255"
   ]
  },
  {
   "cell_type": "code",
   "execution_count": 37,
   "id": "e2cd3f73",
   "metadata": {},
   "outputs": [
    {
     "data": {
      "image/png": "[encoded data removed]",
      "text/plain": [
       "<Figure size 432x288 with 1 Axes>"
      ]
     },
     "metadata": {
      "needs_background": "light"
     },
     "output_type": "display_data"
    }
   ],
   "source": [
    "df_nofly=pd.DataFrame([[37.2, 50.9, 15]], columns=['x','y','radius']) #37.2, 50.9, 15]\n",
    "home=(15, -3, -30)\n",
    "x_cntr=home[0]\n",
    "y_cntr=home[1]\n",
    "sz=(224, 224) \n",
    "arr=initialGPS(x_cntr,y_cntr, sz=(224, 224), df_nofly=df_nofly)\n",
    "plt.imshow(arr, cmap='gray')\n",
    "plt.show()"
   ]
  },
  {
   "cell_type": "code",
   "execution_count": 47,
   "id": "029f9372",
   "metadata": {},
   "outputs": [],
   "source": [
    "# export\n",
    "def DistanceSensor2Image(x_cntr,y_cntr, distance_dict,scale=5, sz=(224, 224), df_nofly=None):\n",
    "    front_dist = distance_dict['Front']\n",
    "    back_dist = distance_dict['Back']\n",
    "    left_dist = distance_dict['Left']\n",
    "    right_dist = distance_dict['Right']\n",
    "    z_ht = distance_dict['Z']\n",
    "    rad=100\n",
    "    \n",
    "    #################################### Plotting #########################################################    \n",
    "    fig, ax = plt.subplots(figsize=(5,5))\n",
    "    ax=plt.gca(); ax.set_axis_off()\n",
    "    ax.add_patch(patches.Rectangle((x_cntr-rad,y_cntr-rad+1), width=rad*2-1, height=rad*2-1, ec='k', facecolor='#b3b3b3'))\n",
    "    ax.add_patch(plt.Circle((x_cntr,y_cntr), rad, ec='k', facecolor='white'))\n",
    "    plt.xlim(x_cntr-rad,x_cntr+rad); plt.ylim(y_cntr-rad,y_cntr+rad) \n",
    "\n",
    "    if df_nofly is not None: # plot the no fly zone\n",
    "        for idx in df_nofly.index:\n",
    "            ax.add_patch(plt.Circle((df_nofly.loc[idx,'x'], df_nofly.loc[idx,'y']), df_nofly.loc[idx,'radius'],\n",
    "                                hatch='xxx',facecolor='grey'))\n",
    "\n",
    "    # Front (in image to the right)\n",
    "    plt.plot([x_cntr,x_cntr+front_dist], [y_cntr,y_cntr] ,lw=6, color=Value2Color(z_ht, vmin=-10, vmax=120, palette='Greys', zerocolor='#e3e3e3'))   \n",
    "    if front_dist<scale*1.1: plt.plot(x_cntr+front_dist, y_cntr ,marker='x', color='k', lw=6, ms=16,linestyle='None')\n",
    "    # Back (in image to the left)\n",
    "    plt.plot([x_cntr,x_cntr-back_dist], [y_cntr,y_cntr] ,lw=6, color=Value2Color(z_ht, vmin=-10, vmax=120, palette='Greys', zerocolor='#e3e3e3'))  \n",
    "    if back_dist<scale*1.1: plt.plot(x_cntr-back_dist, y_cntr ,marker='x', color='k', lw=6, ms=16,linestyle='None')\n",
    "    # Left (in image to the top)     \n",
    "    plt.plot([x_cntr,x_cntr], [y_cntr,y_cntr+left_dist] ,lw=6, color=Value2Color(z_ht, vmin=-10, vmax=120, palette='Greys', zerocolor='#e3e3e3')) \n",
    "    if left_dist<scale*1.1: plt.plot(x_cntr, y_cntr+left_dist ,marker='x', color='k', lw=6, ms=16,linestyle='None')\n",
    "    # Reft (in image to the bottom) \n",
    "    plt.plot([x_cntr,x_cntr], [y_cntr,y_cntr-right_dist] ,lw=6, color=Value2Color(z_ht, vmin=-10, vmax=120, palette='Greys', zerocolor='#e3e3e3')) \n",
    "    if right_dist<scale*1.1: plt.plot(x_cntr, y_cntr-right_dist ,marker='x', color='k', lw=6, ms=16,linestyle='None')\n",
    "\n",
    "        # current Location\n",
    "    plt.plot(x_cntr, y_cntr ,marker='P', color='k', lw=6, ms=16, markeredgecolor='white',linestyle='None',markeredgewidth=2)\n",
    "\n",
    "    plt.tight_layout()\n",
    "    fig.canvas.draw()\n",
    "\n",
    "    # plot to image array\n",
    "    arr = np.frombuffer(fig.canvas.tostring_rgb(), dtype=np.uint8)\n",
    "    arr = arr.reshape(fig.canvas.get_width_height()[::-1] + (3,))\n",
    "    arr = cv2.cvtColor(arr, cv2.COLOR_RGB2GRAY)\n",
    "    # this padding only works for 224x224 images\n",
    "    arr=cv2.resize(arr[9:-11, 9:-11], (sz), interpolation=cv2.INTER_CUBIC)\n",
    "\n",
    "    # close the figure\n",
    "    plt.close(fig)\n",
    "    plt.figure().clear()\n",
    "    plt.close()\n",
    "    plt.cla()\n",
    "    plt.clf()\n",
    "\n",
    "    return arr/255"
   ]
  },
  {
   "cell_type": "code",
   "execution_count": 48,
   "id": "c2c6791b",
   "metadata": {},
   "outputs": [
    {
     "data": {
      "image/png": "[encoded data removed]",
      "text/plain": [
       "<Figure size 432x288 with 1 Axes>"
      ]
     },
     "metadata": {
      "needs_background": "light"
     },
     "output_type": "display_data"
    }
   ],
   "source": [
    "home=(15, -3, -30)\n",
    "arr=DistanceSensor2Image(x_cntr=home[0],y_cntr=home[1],scale=5, distance_dict={'Front': 5, 'Back': 10, 'Left':40, 'Right':100, 'Z':10}, \n",
    "                         sz=(224, 224), df_nofly=pd.DataFrame([[37.2, 50.9, 15]], columns=['x','y','radius']))\n",
    "plt.imshow(arr, cmap='gray')\n",
    "plt.show()"
   ]
  },
  {
   "cell_type": "code",
   "execution_count": null,
   "id": "fc987710",
   "metadata": {},
   "outputs": [],
   "source": []
  },
  {
   "cell_type": "code",
   "execution_count": 6,
   "id": "7a0a1ac7",
   "metadata": {},
   "outputs": [
    {
     "data": {
      "text/plain": [
       "-13"
      ]
     },
     "execution_count": 6,
     "metadata": {},
     "output_type": "execute_result"
    }
   ],
   "source": [
    "z_home=np.random.randint(-50, high=-7, size=1, dtype=int)[0];\n",
    "z_home"
   ]
  },
  {
   "cell_type": "code",
   "execution_count": null,
   "id": "4fdd2407",
   "metadata": {},
   "outputs": [],
   "source": [
    "\n",
    "           "
   ]
  },
  {
   "cell_type": "code",
   "execution_count": 20,
   "id": "66d89537",
   "metadata": {},
   "outputs": [],
   "source": [
    "df_home=pd.DataFrame([[15,0],\n",
    "            [73,0],\n",
    "           [110,0],\n",
    "           [0,0],\n",
    "           [0,120],\n",
    "           [0,-120]], columns=['x','y'])\n",
    "df_home['z']=np.random.randint(-60, high=-12, size=len(df_home), dtype=int)\n",
    "df_home=df_home+np.random.random_sample((len(df_home), 3)) *10-5"
   ]
  },
  {
   "cell_type": "code",
   "execution_count": 28,
   "id": "c9145c95",
   "metadata": {},
   "outputs": [
    {
     "data": {
      "text/plain": [
       "[17.96834353291605, -4.670515931479468, -57.89352630231708]"
      ]
     },
     "execution_count": 28,
     "metadata": {},
     "output_type": "execute_result"
    }
   ],
   "source": []
  },
  {
   "cell_type": "code",
   "execution_count": 12,
   "id": "5250bf9a",
   "metadata": {},
   "outputs": [
    {
     "data": {
      "text/plain": [
       "array([-46])"
      ]
     },
     "execution_count": 12,
     "metadata": {},
     "output_type": "execute_result"
    }
   ],
   "source": [
    "np.random.randint(-50, high=-7, size=1, dtype=int)"
   ]
  },
  {
   "cell_type": "code",
   "execution_count": 17,
   "id": "37644b72",
   "metadata": {},
   "outputs": [
    {
     "data": {
      "text/plain": [
       "array([[ 1.95270573, -4.62632505],\n",
       "       [-2.34803503, -3.36084533],\n",
       "       [-4.23370892,  1.86163132],\n",
       "       [ 0.8705697 , -1.25627798],\n",
       "       [-0.99968993,  1.82922926],\n",
       "       [-0.51415017, -4.77441745]])"
      ]
     },
     "execution_count": 17,
     "metadata": {},
     "output_type": "execute_result"
    }
   ],
   "source": [
    "np.random.random_sample((len(df_home), 2)) *10-5"
   ]
  },
  {
   "cell_type": "code",
   "execution_count": 36,
   "id": "0cb77484",
   "metadata": {},
   "outputs": [
    {
     "data": {
      "text/plain": [
       "[69.28075028699006, 3.8061147057708915, 20]"
      ]
     },
     "execution_count": 36,
     "metadata": {},
     "output_type": "execute_result"
    }
   ],
   "source": [
    "list(df_home.loc[df_home[df_home.index!=0].sample().index[0], ['x','y']])+[20]"
   ]
  },
  {
   "cell_type": "code",
   "execution_count": 40,
   "id": "746b6c0e",
   "metadata": {},
   "outputs": [
    {
     "data": {
      "text/html": [
       "<div>\n",
       "<style scoped>\n",
       "    .dataframe tbody tr th:only-of-type {\n",
       "        vertical-align: middle;\n",
       "    }\n",
       "\n",
       "    .dataframe tbody tr th {\n",
       "        vertical-align: top;\n",
       "    }\n",
       "\n",
       "    .dataframe thead th {\n",
       "        text-align: right;\n",
       "    }\n",
       "</style>\n",
       "<table border=\"1\" class=\"dataframe\">\n",
       "  <thead>\n",
       "    <tr style=\"text-align: right;\">\n",
       "      <th></th>\n",
       "      <th>x</th>\n",
       "      <th>y</th>\n",
       "      <th>radius</th>\n",
       "    </tr>\n",
       "  </thead>\n",
       "  <tbody>\n",
       "    <tr>\n",
       "      <th>0</th>\n",
       "      <td>1.832581</td>\n",
       "      <td>-4.621664</td>\n",
       "      <td>20.0</td>\n",
       "    </tr>\n",
       "  </tbody>\n",
       "</table>\n",
       "</div>"
      ],
      "text/plain": [
       "          x         y  radius\n",
       "0  1.832581 -4.621664    20.0"
      ]
     },
     "execution_count": 40,
     "metadata": {},
     "output_type": "execute_result"
    }
   ],
   "source": [
    "df_nofly=pd.DataFrame([], columns=['x','y','radius']) \n",
    "df_nofly.loc[len(df_nofly)]=list(df_home.loc[df_home[df_home.index!=0].sample().index[0], ['x','y']])+[20]\n",
    "df_nofly"
   ]
  },
  {
   "cell_type": "code",
   "execution_count": 41,
   "id": "844ee23c",
   "metadata": {},
   "outputs": [
    {
     "data": {
      "text/plain": [
       "[[114.551837826603, -4.915479828463117, 20],\n",
       " [69.28075028699006, 3.8061147057708915, 20]]"
      ]
     },
     "execution_count": 41,
     "metadata": {},
     "output_type": "execute_result"
    }
   ],
   "source": [
    "[list(df_home.loc[df_home[df_home.index!=0].sample().index[0], ['x','y']])+[20],list(df_home.loc[df_home[df_home.index!=0].sample().index[0], ['x','y']])+[20]]"
   ]
  },
  {
   "cell_type": "code",
   "execution_count": 9,
   "id": "b410a4a3",
   "metadata": {},
   "outputs": [],
   "source": [
    "df_home=pd.DataFrame([[15,0], [73,0], [110,0], [0,0],[0,120],[0,-120]], columns=['x','y'])\n",
    "df_home['z']=np.random.randint(-60, high=-12, size=len(df_home), dtype=int)\n",
    "df_home.loc[df_home[df_home['z'].between(-45,-30)].index,'z']=-75\n",
    "df_home.loc[df_home[df_home['z'].between(-30.1,-18)].index,'z']=-10\n",
    "df_home=df_home+np.random.random_sample((len(df_home), 3)) *10-5\n",
    "df_home.loc[df_home[df_home['z']>-3].index,'z']=-5"
   ]
  },
  {
   "cell_type": "code",
   "execution_count": 10,
   "id": "402a0cb3",
   "metadata": {},
   "outputs": [
    {
     "data": {
      "text/html": [
       "<div>\n",
       "<style scoped>\n",
       "    .dataframe tbody tr th:only-of-type {\n",
       "        vertical-align: middle;\n",
       "    }\n",
       "\n",
       "    .dataframe tbody tr th {\n",
       "        vertical-align: top;\n",
       "    }\n",
       "\n",
       "    .dataframe thead th {\n",
       "        text-align: right;\n",
       "    }\n",
       "</style>\n",
       "<table border=\"1\" class=\"dataframe\">\n",
       "  <thead>\n",
       "    <tr style=\"text-align: right;\">\n",
       "      <th></th>\n",
       "      <th>x</th>\n",
       "      <th>y</th>\n",
       "      <th>z</th>\n",
       "    </tr>\n",
       "  </thead>\n",
       "  <tbody>\n",
       "    <tr>\n",
       "      <th>0</th>\n",
       "      <td>11.560186</td>\n",
       "      <td>-3.440055</td>\n",
       "      <td>-14.419164</td>\n",
       "    </tr>\n",
       "    <tr>\n",
       "      <th>1</th>\n",
       "      <td>76.661761</td>\n",
       "      <td>1.011150</td>\n",
       "      <td>-72.919274</td>\n",
       "    </tr>\n",
       "    <tr>\n",
       "      <th>2</th>\n",
       "      <td>105.205845</td>\n",
       "      <td>4.699099</td>\n",
       "      <td>-42.675574</td>\n",
       "    </tr>\n",
       "    <tr>\n",
       "      <th>3</th>\n",
       "      <td>-2.876609</td>\n",
       "      <td>-3.181750</td>\n",
       "      <td>-13.165955</td>\n",
       "    </tr>\n",
       "    <tr>\n",
       "      <th>4</th>\n",
       "      <td>-1.957578</td>\n",
       "      <td>120.247564</td>\n",
       "      <td>-53.680550</td>\n",
       "    </tr>\n",
       "    <tr>\n",
       "      <th>5</th>\n",
       "      <td>-2.087709</td>\n",
       "      <td>-118.881471</td>\n",
       "      <td>-78.605061</td>\n",
       "    </tr>\n",
       "  </tbody>\n",
       "</table>\n",
       "</div>"
      ],
      "text/plain": [
       "            x           y          z\n",
       "0   11.560186   -3.440055 -14.419164\n",
       "1   76.661761    1.011150 -72.919274\n",
       "2  105.205845    4.699099 -42.675574\n",
       "3   -2.876609   -3.181750 -13.165955\n",
       "4   -1.957578  120.247564 -53.680550\n",
       "5   -2.087709 -118.881471 -78.605061"
      ]
     },
     "execution_count": 10,
     "metadata": {},
     "output_type": "execute_result"
    }
   ],
   "source": [
    "df_home"
   ]
  },
  {
   "cell_type": "code",
   "execution_count": 11,
   "id": "311f0c30",
   "metadata": {},
   "outputs": [],
   "source": [
    "import seaborn as sns"
   ]
  },
  {
   "cell_type": "code",
   "execution_count": 13,
   "id": "fe4d7f53",
   "metadata": {},
   "outputs": [
    {
     "data": {
      "text/plain": [
       "<AxesSubplot:xlabel='z', ylabel='Count'>"
      ]
     },
     "execution_count": 13,
     "metadata": {},
     "output_type": "execute_result"
    },
    {
     "data": {
      "image/png": "[encoded data removed]",
      "text/plain": [
       "<Figure size 432x288 with 1 Axes>"
      ]
     },
     "metadata": {
      "needs_background": "light"
     },
     "output_type": "display_data"
    }
   ],
   "source": [
    "sns.histplot(df_home['z'], binwidth=5)"
   ]
  },
  {
   "cell_type": "code",
   "execution_count": null,
   "id": "ce208bd2",
   "metadata": {},
   "outputs": [],
   "source": []
  },
  {
   "cell_type": "code",
   "execution_count": null,
   "id": "2c83b929",
   "metadata": {},
   "outputs": [],
   "source": []
  },
  {
   "cell_type": "code",
   "execution_count": null,
   "id": "bcc8b056",
   "metadata": {},
   "outputs": [],
   "source": []
  },
  {
   "cell_type": "code",
   "execution_count": null,
   "id": "7d6fcca6",
   "metadata": {},
   "outputs": [],
   "source": []
  },
  {
   "cell_type": "code",
   "execution_count": null,
   "id": "2ab0f402",
   "metadata": {},
   "outputs": [],
   "source": []
  },
  {
   "cell_type": "code",
   "execution_count": 1,
   "id": "39539f10",
   "metadata": {},
   "outputs": [
    {
     "name": "stdout",
     "output_type": "stream",
     "text": [
      "Converted Utilities.ipynb to nb_files/nb_Utilities.py\r\n"
     ]
    }
   ],
   "source": [
    "!python notebook2script.py Utilities.ipynb"
   ]
  },
  {
   "cell_type": "code",
   "execution_count": 2,
   "id": "5768d15f",
   "metadata": {},
   "outputs": [
    {
     "name": "stdout",
     "output_type": "stream",
     "text": [
      "Finished: Friday April 01, 2022 at 15:38\n"
     ]
    }
   ],
   "source": [
    "import datetime as dt\n",
    "end=dt.datetime.now()\n",
    "print(f'Finished: {end.strftime(\"%A %B %d, %Y\")} at {end.strftime(\"%H:%M\")}')"
   ]
  }
 ],
 "metadata": {
  "kernelspec": {
   "display_name": "Python 3 (ipykernel)",
   "language": "python",
   "name": "python3"
  },
  "language_info": {
   "codemirror_mode": {
    "name": "ipython",
    "version": 3
   },
   "file_extension": ".py",
   "mimetype": "text/x-python",
   "name": "python",
   "nbconvert_exporter": "python",
   "pygments_lexer": "ipython3",
   "version": "3.7.11"
  }
 },
 "nbformat": 4,
 "nbformat_minor": 5
}
