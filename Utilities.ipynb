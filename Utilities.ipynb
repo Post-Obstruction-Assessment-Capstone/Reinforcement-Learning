{
 "cells": [
  {
   "cell_type": "code",
   "execution_count": 1,
   "id": "e524e4d3",
   "metadata": {},
   "outputs": [
    {
     "data": {
      "text/html": [
       "<style>.container { width:85% !important; }</style>"
      ],
      "text/plain": [
       "<IPython.core.display.HTML object>"
      ]
     },
     "metadata": {},
     "output_type": "display_data"
    }
   ],
   "source": [
    "# Makes the display take up more of the screen\n",
    "from IPython.core.display import display, HTML\n",
    "display(HTML(\"<style>.container { width:85% !important; }</style>\"))"
   ]
  },
  {
   "cell_type": "code",
   "execution_count": 3,
   "id": "c9b096f0",
   "metadata": {},
   "outputs": [],
   "source": [
    "# export\n",
    "import torch as T\n",
    "import numpy as np"
   ]
  },
  {
   "cell_type": "code",
   "execution_count": 2,
   "id": "8e9fd0c6",
   "metadata": {},
   "outputs": [],
   "source": [
    "# export\n",
    "def set_seed(x):\n",
    "    np.random.seed(x)\n",
    "    T.manual_seed(x)\n",
    "    T.backends.cudnn.deterministic = True\n",
    "    T.backends.cudnn.benchmark  = False\n",
    "    if T.cuda.is_available(): T.cuda.manual_seed_all(x)"
   ]
  },
  {
   "cell_type": "code",
   "execution_count": 4,
   "id": "45aeb383",
   "metadata": {},
   "outputs": [],
   "source": [
    "set_seed(42)"
   ]
  },
  {
   "cell_type": "code",
   "execution_count": 5,
   "id": "c152386d",
   "metadata": {},
   "outputs": [],
   "source": [
    "# export \n",
    "def byte2np_RGB(response):\n",
    "    img1d = np.fromstring(response.image_data_uint8, dtype=np.uint8)\n",
    "    # reshape array to 4 channel image array H X W X 4\n",
    "    img_rgb = img1d.reshape(response.height, response.width, 3)\n",
    "    # original image is fliped vertica\n",
    "    img_rgb = np.flipud(img_rgb)\n",
    "    return img_rgb"
   ]
  },
  {
   "cell_type": "code",
   "execution_count": null,
   "id": "fcff8531",
   "metadata": {},
   "outputs": [],
   "source": []
  },
  {
   "cell_type": "code",
   "execution_count": null,
   "id": "26a8ba8f",
   "metadata": {},
   "outputs": [],
   "source": []
  },
  {
   "cell_type": "code",
   "execution_count": 7,
   "id": "e3edf7f6",
   "metadata": {},
   "outputs": [
    {
     "data": {
      "text/plain": [
       "900"
      ]
     },
     "execution_count": 7,
     "metadata": {},
     "output_type": "execute_result"
    }
   ],
   "source": [
    "15*60"
   ]
  },
  {
   "cell_type": "code",
   "execution_count": null,
   "id": "65730aa6",
   "metadata": {},
   "outputs": [],
   "source": []
  },
  {
   "cell_type": "code",
   "execution_count": 6,
   "id": "55f02af5",
   "metadata": {},
   "outputs": [
    {
     "name": "stdout",
     "output_type": "stream",
     "text": [
      "Converted Utilities.ipynb to nb_files/nb_Utilities.py\r\n"
     ]
    }
   ],
   "source": [
    "!python notebook2script.py Utilities.ipynb"
   ]
  },
  {
   "cell_type": "code",
   "execution_count": null,
   "id": "9d3ec58b",
   "metadata": {},
   "outputs": [],
   "source": [
    "import datetime as dt\n",
    "end=dt.datetime.now()\n",
    "print(f'Finished: {end.strftime(\"%A %B %d, %Y\")} at {end.strftime(\"%H:%M\")}')"
   ]
  }
 ],
 "metadata": {
  "kernelspec": {
   "display_name": "Python 3 (ipykernel)",
   "language": "python",
   "name": "python3"
  },
  "language_info": {
   "codemirror_mode": {
    "name": "ipython",
    "version": 3
   },
   "file_extension": ".py",
   "mimetype": "text/x-python",
   "name": "python",
   "nbconvert_exporter": "python",
   "pygments_lexer": "ipython3",
   "version": "3.7.11"
  }
 },
 "nbformat": 4,
 "nbformat_minor": 5
}
