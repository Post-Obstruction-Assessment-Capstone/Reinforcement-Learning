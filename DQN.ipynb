{
 "cells": [
  {
   "cell_type": "code",
   "execution_count": 2,
   "id": "c7c51201",
   "metadata": {},
   "outputs": [
    {
     "data": {
      "text/html": [
       "<style>.container { width:90% !important; }</style>"
      ],
      "text/plain": [
       "<IPython.core.display.HTML object>"
      ]
     },
     "metadata": {},
     "output_type": "display_data"
    }
   ],
   "source": [
    "# Makes the display take up more of the screen\n",
    "from IPython.core.display import display, HTML\n",
    "display(HTML(\"<style>.container { width:90% !important; }</style>\"))"
   ]
  },
  {
   "cell_type": "code",
   "execution_count": 3,
   "id": "e3642315",
   "metadata": {},
   "outputs": [],
   "source": [
    "# Export\n",
    "import os\n",
    "import torch as T\n",
    "import torch.nn as nn\n",
    "import torch.nn.functional as F\n",
    "import torch.optim as optim\n",
    "import numpy as np"
   ]
  },
  {
   "cell_type": "code",
   "execution_count": 4,
   "id": "defdbe7a",
   "metadata": {},
   "outputs": [],
   "source": [
    "# Export\n",
    "from nb_files.nb_NeuralNetwork import ModelMaker"
   ]
  },
  {
   "cell_type": "code",
   "execution_count": 5,
   "id": "44936774",
   "metadata": {},
   "outputs": [],
   "source": [
    "# Export\n",
    "class DQN(nn.Module):\n",
    "    def __init__(self, lr, n_actions, name, input_dims, chkpt_dir, dropout):\n",
    "        super(DQN, self).__init__()\n",
    "        self.checkpoint_dir = chkpt_dir\n",
    "        self.checkpoint_file = os.path.join(self.checkpoint_dir, name)\n",
    "        #self.dropout = dropout\n",
    "        #self.model = ModelMaker(arch='tf_mobilenetv3_small_075',\n",
    "        #                        input_channels=input_dims[0],\n",
    "        #                        num_outputs=n_actions, dropout=self.dropout)        \n",
    "\n",
    "        self.conv1 = nn.Conv2d(input_dims[0], 32, 8, stride=4)\n",
    "        self.conv2 = nn.Conv2d(32, 64, 4, stride=2)\n",
    "        self.conv3 = nn.Conv2d(64, 64, 3, stride=1)\n",
    "\n",
    "        fc_input_dims = self.calculate_conv_output_dims(input_dims)\n",
    "\n",
    "        self.fc1 = nn.Linear(fc_input_dims, 512)\n",
    "        self.fc2 = nn.Linear(512, n_actions)\n",
    "        \n",
    "        \n",
    "        self.optimizer = optim.Adam(self.parameters(), lr=lr, weight_decay=0.01)\n",
    "        self.loss = nn.MSELoss()\n",
    "        self.device = T.device('cuda:0' if T.cuda.is_available() else 'cpu')\n",
    "        self.to(self.device)\n",
    "    \n",
    "    def calculate_conv_output_dims(self, input_dims):\n",
    "        state = T.zeros(1, *input_dims)\n",
    "        dims = self.conv1(state)\n",
    "        dims = self.conv2(dims)\n",
    "        dims = self.conv3(dims)\n",
    "        return int(np.prod(dims.size()))\n",
    "        \n",
    "    def forward(self, state):        \n",
    "        #actions = self.model(state)\n",
    "        conv1 = F.relu(self.conv1(state))\n",
    "        conv2 = F.relu(self.conv2(conv1))\n",
    "        conv3 = F.relu(self.conv3(conv2))\n",
    "        conv_state = conv3.view(conv3.size()[0], -1)\n",
    "\n",
    "        flat1 = F.relu(self.fc1(conv_state))\n",
    "        actions = self.fc2(flat1)\n",
    "        \n",
    "        return actions\n",
    "\n",
    "    def save_checkpoint(self):\n",
    "        print('... saving checkpoint ...')\n",
    "        T.save(self.state_dict(), self.checkpoint_file)\n",
    "\n",
    "    def load_checkpoint(self):\n",
    "        print('... loading checkpoint ...')\n",
    "        self.load_state_dict(T.load(self.checkpoint_file))"
   ]
  },
  {
   "cell_type": "code",
   "execution_count": null,
   "id": "cdacd716",
   "metadata": {},
   "outputs": [],
   "source": []
  },
  {
   "cell_type": "code",
   "execution_count": 6,
   "id": "57aade06",
   "metadata": {},
   "outputs": [],
   "source": [
    "Q=DQN(lr=0.001, n_actions=7,  input_dims=(4, 84, 84),\n",
    "        name='Test', chkpt_dir='models/', dropout=0.001)\n"
   ]
  },
  {
   "cell_type": "code",
   "execution_count": 8,
   "id": "67779b09",
   "metadata": {},
   "outputs": [],
   "source": [
    "#Q.model"
   ]
  },
  {
   "cell_type": "code",
   "execution_count": null,
   "id": "541a3296",
   "metadata": {},
   "outputs": [],
   "source": []
  },
  {
   "cell_type": "code",
   "execution_count": null,
   "id": "46f2d2ca",
   "metadata": {},
   "outputs": [],
   "source": []
  },
  {
   "cell_type": "code",
   "execution_count": null,
   "id": "7242a59c",
   "metadata": {},
   "outputs": [],
   "source": []
  },
  {
   "cell_type": "code",
   "execution_count": 11,
   "id": "5cbb052e",
   "metadata": {},
   "outputs": [
    {
     "name": "stdout",
     "output_type": "stream",
     "text": [
      "Converted DQN.ipynb to nb_files/nb_DQN.py\r\n"
     ]
    }
   ],
   "source": [
    "!python notebook2script.py DQN.ipynb"
   ]
  },
  {
   "cell_type": "code",
   "execution_count": 10,
   "id": "668d9bd8",
   "metadata": {},
   "outputs": [
    {
     "name": "stdout",
     "output_type": "stream",
     "text": [
      "Finished: Monday March 07, 2022 at 20:22\n"
     ]
    }
   ],
   "source": [
    "import datetime as dt\n",
    "end=dt.datetime.now()\n",
    "print(f'Finished: {end.strftime(\"%A %B %d, %Y\")} at {end.strftime(\"%H:%M\")}')"
   ]
  }
 ],
 "metadata": {
  "kernelspec": {
   "display_name": "Python 3 (ipykernel)",
   "language": "python",
   "name": "python3"
  },
  "language_info": {
   "codemirror_mode": {
    "name": "ipython",
    "version": 3
   },
   "file_extension": ".py",
   "mimetype": "text/x-python",
   "name": "python",
   "nbconvert_exporter": "python",
   "pygments_lexer": "ipython3",
   "version": "3.7.11"
  }
 },
 "nbformat": 4,
 "nbformat_minor": 5
}
