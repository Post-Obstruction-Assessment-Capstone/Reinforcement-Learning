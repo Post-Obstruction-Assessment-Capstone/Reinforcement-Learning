{
 "cells": [
  {
   "cell_type": "code",
   "execution_count": 1,
   "id": "66228dab",
   "metadata": {},
   "outputs": [
    {
     "data": {
      "text/html": [
       "<style>.container { width:90% !important; }</style>"
      ],
      "text/plain": [
       "<IPython.core.display.HTML object>"
      ]
     },
     "metadata": {},
     "output_type": "display_data"
    }
   ],
   "source": [
    "# Makes the display take up more of the screen\n",
    "from IPython.core.display import display, HTML\n",
    "display(HTML(\"<style>.container { width:90% !important; }</style>\"))"
   ]
  },
  {
   "cell_type": "code",
   "execution_count": 2,
   "id": "654ca2d2",
   "metadata": {},
   "outputs": [],
   "source": [
    "import os\n",
    "import torch as T\n",
    "import numpy as np\n",
    "import math\n",
    "import pandas as pd\n",
    "import cv2\n",
    "import math\n",
    "import matplotlib\n",
    "import matplotlib.pyplot as plt\n",
    "import matplotlib.patches as patches\n",
    "import itertools\n",
    "import nb_files.nb_Utilities as util"
   ]
  },
  {
   "cell_type": "code",
   "execution_count": 3,
   "id": "7cb47f47",
   "metadata": {},
   "outputs": [],
   "source": [
    "util.set_seed(42)"
   ]
  },
  {
   "cell_type": "code",
   "execution_count": 4,
   "id": "eb35be7f",
   "metadata": {},
   "outputs": [],
   "source": [
    "#./AirSimNH.sh  -ResX=640 -ResY=480 -windowed"
   ]
  },
  {
   "cell_type": "code",
   "execution_count": 5,
   "id": "f23814f4",
   "metadata": {},
   "outputs": [],
   "source": [
    "# turn off rewards except height"
   ]
  },
  {
   "cell_type": "markdown",
   "id": "6089aaf0",
   "metadata": {},
   "source": [
    "# train drone to get to correct height"
   ]
  },
  {
   "cell_type": "code",
   "execution_count": 6,
   "id": "a87f4182",
   "metadata": {},
   "outputs": [],
   "source": [
    "i_lst=[]\n",
    "Z_lst=[]\n",
    "min_z=3; Z=30; Z_dec=0.99\n",
    "for episode in range(300):\n",
    "    if Z>min_z:\n",
    "        Z=Z*Z_dec\n",
    "    else:\n",
    "        Z=min_z\n",
    "    Z_lst.append(Z)\n",
    "    i_lst.append(episode)\n",
    "        "
   ]
  },
  {
   "cell_type": "code",
   "execution_count": 7,
   "id": "8da9ba84",
   "metadata": {},
   "outputs": [
    {
     "data": {
      "image/png": "[encoded data removed]",
      "text/plain": [
       "<Figure size 432x288 with 1 Axes>"
      ]
     },
     "metadata": {
      "needs_background": "light"
     },
     "output_type": "display_data"
    }
   ],
   "source": [
    "plt.plot(i_lst, Z_lst, 'o', alpha=0.25,)\n",
    "plt.xlabel('Episode Number')\n",
    "plt.ylabel('Starting Home Z height (meters)')\n",
    "plt.show()"
   ]
  },
  {
   "cell_type": "code",
   "execution_count": 8,
   "id": "f8cfb85a",
   "metadata": {},
   "outputs": [],
   "source": [
    "# turn off gps saving train for 301 episodes \n",
    "# eps_dec=1e-3\n",
    "# min_z=3; Z=30; Z_dec=0.99\n",
    "#if Z>min_z: Z=Z*Z_dec\n",
    "#else: Z=min_z\n",
    "#env.Newhome([0,0,-1*Z])"
   ]
  },
  {
   "cell_type": "code",
   "execution_count": 9,
   "id": "a05ea734",
   "metadata": {},
   "outputs": [],
   "source": [
    "# Neighborhood_DDQNAgent_Just_Z-Reward_Low Successfully learned to go up. when it is too low.\n",
    "# Trained for 32 episodes at 10 seconds a piece \n",
    "# behaving properly an episode score of -7 is expected"
   ]
  },
  {
   "cell_type": "code",
   "execution_count": null,
   "id": "bc7aa723",
   "metadata": {},
   "outputs": [],
   "source": [
    "# add test results here:"
   ]
  },
  {
   "cell_type": "code",
   "execution_count": 10,
   "id": "36552528",
   "metadata": {},
   "outputs": [],
   "source": [
    "# restart epsilon at 0.75 with z low model as base\n",
    "# then slowly increase the height of home"
   ]
  },
  {
   "cell_type": "code",
   "execution_count": 11,
   "id": "44388f11",
   "metadata": {},
   "outputs": [],
   "source": [
    "i_lst=[]\n",
    "Z_lst=[]\n",
    "max_z=120; Z=30; Z_dec=1.01\n",
    "for episode in range(300):\n",
    "    high=np.random.choice([0,1], p=[0.1, 0.9])\n",
    "    if high==1:\n",
    "        if Z<max_z:\n",
    "            Z=Z*Z_dec\n",
    "        else:\n",
    "            Z=max_z\n",
    "        Z_lst.append(Z)\n",
    "    else: Z_lst.append(7)\n",
    "    i_lst.append(episode)"
   ]
  },
  {
   "cell_type": "code",
   "execution_count": 12,
   "id": "b30cc77b",
   "metadata": {},
   "outputs": [
    {
     "data": {
      "image/png": "[encoded data removed]",
      "text/plain": [
       "<Figure size 432x288 with 1 Axes>"
      ]
     },
     "metadata": {
      "needs_background": "light"
     },
     "output_type": "display_data"
    }
   ],
   "source": [
    "plt.plot(i_lst, Z_lst, 'o', alpha=0.25,)\n",
    "plt.xlabel('Episode Number')\n",
    "plt.ylabel('Starting Home Z height (meters)')\n",
    "plt.show()"
   ]
  },
  {
   "cell_type": "markdown",
   "id": "65fb03ff",
   "metadata": {},
   "source": [
    "### Honey I'm home, x=0.0 y=0.0 z-5.0\n",
    "\n",
    "action, reward, info:\n",
    "\n",
    "* 6 -14.90  Height Penalty: -14.9 Z: 7.3(m), Distance From Home: 3.2 (m),\n",
    "* 6 -5.71  Height Penalty: -5.7 Z: 13.3(m), Distance From Home: 9.2 (m),\n",
    "* 6 -2.69  Height Penalty: -2.7 Z: 19.4(m), Distance From Home: 15.3 (m),\n",
    "* 6 -1.43  Height Penalty: -1.4 Z: 25.4(m), Distance From Home: 21.3 (m),\n",
    "* 0 -1.29  Height Penalty: -1.3 Z: 26.4(m), Distance From Home: 21.5 (m),\n",
    "* 3 -2.20  Height Penalty: -2.2 Z: 21.2(m), Distance From Home: 15.6 (m),\n",
    "* 6 -1.39  Height Penalty: -1.4 Z: 25.7(m), Distance From Home: 21.6 (m),\n",
    "* 2 -1.27  Height Penalty: -1.3 Z: 26.6(m), Distance From Home: 22.7 (m),\n",
    "* 2 -1.54  Height Penalty: -1.5 Z: 24.6(m), Distance From Home: 25.0 (m),\n",
    "* 6 -0.92  Height Penalty: -0.9 Z: 31.6(m), Distance From Home: 30.5 (m),\n",
    "* 2 -0.98  Height Penalty: -1.0 Z: 32.3(m), Distance From Home: 33.2 (m),\n",
    "* 2 -1.01  Height Penalty: -1.0 Z: 32.7(m), Distance From Home: 36.8 (m),\n",
    "* 2 -1.02  Height Penalty: -1.0 Z: 32.8(m), Distance From Home: 40.9 (m),\n",
    "* 2 -1.00  Height Penalty: -1.0 Z: 32.5(m), Distance From Home: 45.4 (m),\n",
    "* 2 -1.03  Height Penalty: -1.0 Z: 32.8(m), Distance From Home: 50.1 (m),\n",
    "* 2 -1.03  Height Penalty: -1.0 Z: 32.9(m), Distance From Home: 55.1 (m),\n",
    "\n",
    "tic toc ... time is up (30 seconds)\n",
    "\n",
    "\n",
    "### Honey I'm home, x=0.0 y=0.0 z-65.0\n",
    "* 3 -7.88  Height Penalty: -7.9 Z: 60.3(m), Distance From Home: 4.9 (m),\n",
    "* 3 -5.44  Height Penalty: -5.4 Z: 54.7(m), Distance From Home: 10.9 (m),\n",
    "* 3 -3.60  Height Penalty: -3.6 Z: 48.8(m), Distance From Home: 16.8 (m),\n",
    "* 3 -2.31  Height Penalty: -2.3 Z: 42.8(m), Distance From Home: 22.8 (m),\n",
    "* 3 -1.45  Height Penalty: -1.4 Z: 36.9(m), Distance From Home: 28.7 (m),\n",
    "* 3 -0.84  Height Penalty: -0.8 Z: 31.0(m), Distance From Home: 34.6 (m),\n",
    "* 0 -0.92  Height Penalty: -0.9 Z: 30.0(m), Distance From Home: 34.9 (m),\n",
    "* 2 -0.96  Height Penalty: -1.0 Z: 29.6(m), Distance From Home: 35.4 (m),\n",
    "* 2 -1.03  Height Penalty: -1.0 Z: 28.8(m), Distance From Home: 36.8 (m),\n",
    "* 2 -0.92  Height Penalty: -0.9 Z: 30.0(m), Distance From Home: 39.0 (m),\n",
    "* 2 -0.92  Height Penalty: -0.9 Z: 30.1(m), Distance From Home: 41.9 (m),\n",
    "* 2 -0.91  Height Penalty: -0.9 Z: 30.1(m), Distance From Home: 45.4 (m),\n",
    "* 2 -0.92  Height Penalty: -0.9 Z: 30.1(m), Distance From Home: 49.4 (m),\n",
    "* 2 -0.90  Height Penalty: -0.9 Z: 30.2(m), Distance From Home: 53.7 (m),\n",
    "* 2 -0.90  Height Penalty: -0.9 Z: 30.3(m), Distance From Home: 58.3 (m),\n",
    "* 2 -0.90  Height Penalty: -0.9 Z: 30.2(m), Distance From Home: 63.0 (m),\n",
    "\n",
    "tic toc ... time is up (30 seconds)"
   ]
  },
  {
   "cell_type": "code",
   "execution_count": 25,
   "id": "c9dbe1bf",
   "metadata": {},
   "outputs": [],
   "source": [
    "df_road=pd.read_csv('data/intersection_positions.csv', header=None)\n",
    "df_road.columns=['x','y','z']\n",
    "df_road.loc[len(df_road)]=[0,0,0]"
   ]
  },
  {
   "cell_type": "code",
   "execution_count": 33,
   "id": "52bcc7d3",
   "metadata": {},
   "outputs": [
    {
     "data": {
      "image/png": "[encoded data removed]",
      "text/plain": [
       "<Figure size 504x504 with 1 Axes>"
      ]
     },
     "metadata": {
      "needs_background": "light"
     },
     "output_type": "display_data"
    }
   ],
   "source": [
    "fig, ax = plt.subplots(1,1, figsize=(7,7))\n",
    "plt.plot(df_road['x'], df_road['y'], 'o', alpha=0.25,)\n",
    "plt.xlabel('x-axis (meters)')\n",
    "plt.ylabel('y-axis (meters)')\n",
    "#plt.gca().invert_xaxis()\n",
    "plt.gca().invert_yaxis()\n",
    "plt.show()"
   ]
  },
  {
   "cell_type": "code",
   "execution_count": 39,
   "id": "042a449f",
   "metadata": {},
   "outputs": [
    {
     "data": {
      "text/plain": [
       "20"
      ]
     },
     "execution_count": 39,
     "metadata": {},
     "output_type": "execute_result"
    }
   ],
   "source": [
    "np.random.choice([5,75,40,20,30], p=[0.1,0.1, 0.3, 0.3,0.2])"
   ]
  },
  {
   "cell_type": "code",
   "execution_count": 40,
   "id": "f7190a65",
   "metadata": {},
   "outputs": [
    {
     "data": {
      "text/html": [
       "<div>\n",
       "<style scoped>\n",
       "    .dataframe tbody tr th:only-of-type {\n",
       "        vertical-align: middle;\n",
       "    }\n",
       "\n",
       "    .dataframe tbody tr th {\n",
       "        vertical-align: top;\n",
       "    }\n",
       "\n",
       "    .dataframe thead th {\n",
       "        text-align: right;\n",
       "    }\n",
       "</style>\n",
       "<table border=\"1\" class=\"dataframe\">\n",
       "  <thead>\n",
       "    <tr style=\"text-align: right;\">\n",
       "      <th></th>\n",
       "      <th>x</th>\n",
       "      <th>y</th>\n",
       "      <th>z</th>\n",
       "    </tr>\n",
       "  </thead>\n",
       "  <tbody>\n",
       "    <tr>\n",
       "      <th>0</th>\n",
       "      <td>70.000000</td>\n",
       "      <td>0.000000</td>\n",
       "      <td>-7.336302</td>\n",
       "    </tr>\n",
       "    <tr>\n",
       "      <th>3</th>\n",
       "      <td>75.394096</td>\n",
       "      <td>-10.000000</td>\n",
       "      <td>-7.177466</td>\n",
       "    </tr>\n",
       "    <tr>\n",
       "      <th>4</th>\n",
       "      <td>75.393738</td>\n",
       "      <td>-0.320083</td>\n",
       "      <td>-7.063250</td>\n",
       "    </tr>\n",
       "  </tbody>\n",
       "</table>\n",
       "</div>"
      ],
      "text/plain": [
       "           x          y         z\n",
       "0  70.000000   0.000000 -7.336302\n",
       "3  75.394096 -10.000000 -7.177466\n",
       "4  75.393738  -0.320083 -7.063250"
      ]
     },
     "execution_count": 40,
     "metadata": {},
     "output_type": "execute_result"
    }
   ],
   "source": [
    "df_road[(df_road['x'].between(50,101))&(df_road['y'].between(-20,0))]"
   ]
  },
  {
   "cell_type": "code",
   "execution_count": 42,
   "id": "8bb914d7",
   "metadata": {},
   "outputs": [
    {
     "data": {
      "text/html": [
       "<div>\n",
       "<style scoped>\n",
       "    .dataframe tbody tr th:only-of-type {\n",
       "        vertical-align: middle;\n",
       "    }\n",
       "\n",
       "    .dataframe tbody tr th {\n",
       "        vertical-align: top;\n",
       "    }\n",
       "\n",
       "    .dataframe thead th {\n",
       "        text-align: right;\n",
       "    }\n",
       "</style>\n",
       "<table border=\"1\" class=\"dataframe\">\n",
       "  <thead>\n",
       "    <tr style=\"text-align: right;\">\n",
       "      <th></th>\n",
       "      <th>x</th>\n",
       "      <th>y</th>\n",
       "    </tr>\n",
       "  </thead>\n",
       "  <tbody>\n",
       "    <tr>\n",
       "      <th>0</th>\n",
       "      <td>100</td>\n",
       "      <td>0</td>\n",
       "    </tr>\n",
       "    <tr>\n",
       "      <th>1</th>\n",
       "      <td>75</td>\n",
       "      <td>-15</td>\n",
       "    </tr>\n",
       "    <tr>\n",
       "      <th>2</th>\n",
       "      <td>0</td>\n",
       "      <td>-100</td>\n",
       "    </tr>\n",
       "    <tr>\n",
       "      <th>3</th>\n",
       "      <td>0</td>\n",
       "      <td>100</td>\n",
       "    </tr>\n",
       "    <tr>\n",
       "      <th>4</th>\n",
       "      <td>-100</td>\n",
       "      <td>0</td>\n",
       "    </tr>\n",
       "  </tbody>\n",
       "</table>\n",
       "</div>"
      ],
      "text/plain": [
       "     x    y\n",
       "0  100    0\n",
       "1   75  -15\n",
       "2    0 -100\n",
       "3    0  100\n",
       "4 -100    0"
      ]
     },
     "execution_count": 42,
     "metadata": {},
     "output_type": "execute_result"
    }
   ],
   "source": [
    "\n",
    "df_home=pd.DataFrame([[100,0], [75,-15], [0,-100], [0,100], [-100,0]], columns=['x','y'])\n",
    "df_home"
   ]
  },
  {
   "cell_type": "code",
   "execution_count": 47,
   "id": "d09cfc1d",
   "metadata": {},
   "outputs": [
    {
     "data": {
      "text/plain": [
       "1"
      ]
     },
     "execution_count": 47,
     "metadata": {},
     "output_type": "execute_result"
    }
   ],
   "source": [
    "idx=df_home.sample().index[0]; idx"
   ]
  },
  {
   "cell_type": "code",
   "execution_count": 49,
   "id": "dbc8ff33",
   "metadata": {},
   "outputs": [
    {
     "data": {
      "text/plain": [
       "[75, -15, 30]"
      ]
     },
     "execution_count": 49,
     "metadata": {},
     "output_type": "execute_result"
    }
   ],
   "source": [
    "list(df_home.loc[idx])+[np.random.choice([5,75,40,20,30], p=[0.1,0.1, 0.3, 0.3,0.2])]"
   ]
  },
  {
   "cell_type": "code",
   "execution_count": 46,
   "id": "783763de",
   "metadata": {},
   "outputs": [
    {
     "data": {
      "text/html": [
       "<div>\n",
       "<style scoped>\n",
       "    .dataframe tbody tr th:only-of-type {\n",
       "        vertical-align: middle;\n",
       "    }\n",
       "\n",
       "    .dataframe tbody tr th {\n",
       "        vertical-align: top;\n",
       "    }\n",
       "\n",
       "    .dataframe thead th {\n",
       "        text-align: right;\n",
       "    }\n",
       "</style>\n",
       "<table border=\"1\" class=\"dataframe\">\n",
       "  <thead>\n",
       "    <tr style=\"text-align: right;\">\n",
       "      <th></th>\n",
       "      <th>x</th>\n",
       "      <th>y</th>\n",
       "      <th>radius</th>\n",
       "    </tr>\n",
       "  </thead>\n",
       "  <tbody>\n",
       "    <tr>\n",
       "      <th>0</th>\n",
       "      <td>75</td>\n",
       "      <td>0</td>\n",
       "      <td>20</td>\n",
       "    </tr>\n",
       "    <tr>\n",
       "      <th>1</th>\n",
       "      <td>75</td>\n",
       "      <td>-40</td>\n",
       "      <td>20</td>\n",
       "    </tr>\n",
       "    <tr>\n",
       "      <th>2</th>\n",
       "      <td>0</td>\n",
       "      <td>-75</td>\n",
       "      <td>20</td>\n",
       "    </tr>\n",
       "    <tr>\n",
       "      <th>3</th>\n",
       "      <td>0</td>\n",
       "      <td>75</td>\n",
       "      <td>20</td>\n",
       "    </tr>\n",
       "    <tr>\n",
       "      <th>4</th>\n",
       "      <td>-75</td>\n",
       "      <td>0</td>\n",
       "      <td>20</td>\n",
       "    </tr>\n",
       "  </tbody>\n",
       "</table>\n",
       "</div>"
      ],
      "text/plain": [
       "    x   y  radius\n",
       "0  75   0      20\n",
       "1  75 -40      20\n",
       "2   0 -75      20\n",
       "3   0  75      20\n",
       "4 -75   0      20"
      ]
     },
     "execution_count": 46,
     "metadata": {},
     "output_type": "execute_result"
    }
   ],
   "source": [
    "df_nofly=pd.DataFrame([[75,0, 20],[75,-40,20],[0,-75,20],[0,75,20],[-75,0, 20]], columns=['x','y','radius'])\n",
    "df_nofly"
   ]
  },
  {
   "cell_type": "code",
   "execution_count": 51,
   "id": "468b6c75",
   "metadata": {},
   "outputs": [
    {
     "data": {
      "text/plain": [
       "[[75, -40, 20]]"
      ]
     },
     "execution_count": 51,
     "metadata": {},
     "output_type": "execute_result"
    }
   ],
   "source": [
    "[list(df_nofly.loc[idx])]"
   ]
  },
  {
   "cell_type": "code",
   "execution_count": null,
   "id": "6ce2ceea",
   "metadata": {},
   "outputs": [],
   "source": []
  },
  {
   "cell_type": "code",
   "execution_count": null,
   "id": "2b1e0326",
   "metadata": {},
   "outputs": [],
   "source": []
  },
  {
   "cell_type": "code",
   "execution_count": null,
   "id": "4020a0bc",
   "metadata": {},
   "outputs": [],
   "source": []
  },
  {
   "cell_type": "code",
   "execution_count": 19,
   "id": "93d92b16",
   "metadata": {},
   "outputs": [],
   "source": [
    "# start at 85(m) z drone failed to drop to correct height\n",
    "# Neighborhood_DDQNAgent_Just_Z-Reward_Low&High&ReallyHigh"
   ]
  },
  {
   "cell_type": "code",
   "execution_count": 18,
   "id": "29a6cb55",
   "metadata": {},
   "outputs": [
    {
     "data": {
      "image/png": "[encoded data removed]",
      "text/plain": [
       "<Figure size 432x288 with 1 Axes>"
      ]
     },
     "metadata": {
      "needs_background": "light"
     },
     "output_type": "display_data"
    }
   ],
   "source": [
    "i_lst=[]\n",
    "Z_lst=[]\n",
    "max_z=120; Z=70; Z_dec=1.003\n",
    "for episode in range(300):\n",
    "    high=np.random.choice([0,1,2], p=[0.1,0.1, 0.8])\n",
    "    if high==2:\n",
    "        if Z<max_z: Z=Z*Z_dec\n",
    "        else: Z=max_z\n",
    "        Z_lst.append(Z)\n",
    "    elif high==1: Z_lst.append(60)\n",
    "    else: Z_lst.append(7)\n",
    "    i_lst.append(episode)\n",
    "    \n",
    "plt.plot(i_lst, Z_lst, 'o', alpha=0.25,)\n",
    "plt.xlabel('Episode Number')\n",
    "plt.ylabel('Starting Home Z height (meters)')\n",
    "plt.show()"
   ]
  },
  {
   "cell_type": "code",
   "execution_count": null,
   "id": "7bdbbd56",
   "metadata": {},
   "outputs": [],
   "source": [
    "# add test results here:"
   ]
  },
  {
   "cell_type": "code",
   "execution_count": null,
   "id": "f11651a1",
   "metadata": {},
   "outputs": [],
   "source": [
    "Honey I'm home, x=0.0 y=0.0 z-85.0\n",
    "\n",
    "action, total reward, info:\n",
    "\n",
    "* 3 -26.46  Height Penalty: -26.5 Z: 80.6(m), Distance From Home: 4.7 (m),\n",
    "* 3 -19.13  Height Penalty: -19.1 Z: 74.9(m), Distance From Home: 10.6 (m),\n",
    "* 3 -13.24  Height Penalty: -13.2 Z: 68.7(m), Distance From Home: 16.5 (m),\n",
    "* 3 -9.35  Height Penalty: -9.3 Z: 63.0(m), Distance From Home: 22.5 (m),\n",
    "* 3 -6.40  Height Penalty: -6.4 Z: 57.2(m), Distance From Home: 28.5 (m),\n",
    "* 3 -4.25  Height Penalty: -4.2 Z: 51.1(m), Distance From Home: 34.5 (m),\n",
    "* 3 -2.77  Height Penalty: -2.8 Z: 45.2(m), Distance From Home: 40.4 (m),\n",
    "* 3 -1.74  Height Penalty: -1.7 Z: 39.2(m), Distance From Home: 46.5 (m),\n",
    "* 3 -1.06  Height Penalty: -1.1 Z: 33.2(m), Distance From Home: 52.4 (m),\n",
    "* 3 -1.18  Height Penalty: -1.2 Z: 27.4(m), Distance From Home: 58.3 (m),\n",
    "* 3 -2.14  Height Penalty: -2.1 Z: 21.5(m), Distance From Home: 64.2 (m),\n",
    "* 6 -1.36  Height Penalty: -1.4 Z: 25.9(m), Distance From Home: 58.1 (m),\n",
    "* 6 -0.95  Height Penalty: -1.0 Z: 32.0(m), Distance From Home: 52.1 (m),\n",
    "* 3 -1.15  Height Penalty: -1.2 Z: 27.6(m), Distance From Home: 58.1 (m),\n",
    "* 3 -2.12  Height Penalty: -2.1 Z: 21.6(m), Distance From Home: 64.1 (m),\n",
    "* 6 -1.34  Height Penalty: -1.3 Z: 26.1(m), Distance From Home: 58.0 (m),\n",
    "* 2 -1.22  Height Penalty: -1.2 Z: 27.0(m), Distance From Home: 58.1 (m),\n",
    "* 2 -1.50  Height Penalty: -1.5 Z: 24.9(m), Distance From Home: 58.9 (m),\n",
    "            \n",
    "tic toc ... time is up"
   ]
  },
  {
   "cell_type": "code",
   "execution_count": null,
   "id": "de49d8c2",
   "metadata": {},
   "outputs": [],
   "source": []
  },
  {
   "cell_type": "code",
   "execution_count": null,
   "id": "1d25ebee",
   "metadata": {},
   "outputs": [],
   "source": []
  },
  {
   "cell_type": "code",
   "execution_count": null,
   "id": "3b33ca2a",
   "metadata": {},
   "outputs": [],
   "source": []
  },
  {
   "cell_type": "code",
   "execution_count": null,
   "id": "923f7b1b",
   "metadata": {},
   "outputs": [],
   "source": []
  },
  {
   "cell_type": "code",
   "execution_count": null,
   "id": "43613b80",
   "metadata": {},
   "outputs": [],
   "source": []
  }
 ],
 "metadata": {
  "kernelspec": {
   "display_name": "Python 3 (ipykernel)",
   "language": "python",
   "name": "python3"
  },
  "language_info": {
   "codemirror_mode": {
    "name": "ipython",
    "version": 3
   },
   "file_extension": ".py",
   "mimetype": "text/x-python",
   "name": "python",
   "nbconvert_exporter": "python",
   "pygments_lexer": "ipython3",
   "version": "3.7.11"
  }
 },
 "nbformat": 4,
 "nbformat_minor": 5
}
