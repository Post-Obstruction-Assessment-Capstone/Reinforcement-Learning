{
 "cells": [
  {
   "cell_type": "code",
   "execution_count": 2,
   "id": "66228dab",
   "metadata": {},
   "outputs": [
    {
     "data": {
      "text/html": [
       "<style>.container { width:90% !important; }</style>"
      ],
      "text/plain": [
       "<IPython.core.display.HTML object>"
      ]
     },
     "metadata": {},
     "output_type": "display_data"
    }
   ],
   "source": [
    "# Makes the display take up more of the screen\n",
    "from IPython.core.display import display, HTML\n",
    "display(HTML(\"<style>.container { width:90% !important; }</style>\"))"
   ]
  },
  {
   "cell_type": "code",
   "execution_count": 3,
   "id": "654ca2d2",
   "metadata": {},
   "outputs": [],
   "source": [
    "import os\n",
    "import torch as T\n",
    "import numpy as np\n",
    "import math\n",
    "import pandas as pd\n",
    "import cv2\n",
    "import math\n",
    "import matplotlib\n",
    "import matplotlib.pyplot as plt\n",
    "import matplotlib.patches as patches\n",
    "import itertools\n",
    "import nb_files.nb_Utilities as util"
   ]
  },
  {
   "cell_type": "code",
   "execution_count": 4,
   "id": "1c966e74",
   "metadata": {},
   "outputs": [],
   "source": [
    "util.set_seed(42)"
   ]
  },
  {
   "cell_type": "code",
   "execution_count": 5,
   "id": "eb35be7f",
   "metadata": {},
   "outputs": [],
   "source": [
    "#./AirSimNH.sh  -ResX=640 -ResY=480 -windowed"
   ]
  },
  {
   "cell_type": "code",
   "execution_count": 6,
   "id": "f23814f4",
   "metadata": {},
   "outputs": [],
   "source": [
    "# turn off rewards except height"
   ]
  },
  {
   "cell_type": "code",
   "execution_count": null,
   "id": "bfe57eb3",
   "metadata": {},
   "outputs": [],
   "source": [
    "# start at 0,0 learn to go to correct height 10secs just height reward\n",
    "# start at 0,0 learn to sit at ~30m just height reward 15 seconds\n",
    "# start at position 0 with no fly zone 0 fly episodes 30 seconds epsilon =1\n",
    "# increase episode time to 40 seconds epsilon = 0.1\n",
    "# increase episode time to 50 seconds epsilon = 0.1\n",
    "# training on 60 second episodes was not working. \n",
    "# Changed to road follow to nonlinear reward reset epsilon to 0.5 "
   ]
  },
  {
   "cell_type": "markdown",
   "id": "6089aaf0",
   "metadata": {},
   "source": [
    "# train drone to get to correct height"
   ]
  },
  {
   "cell_type": "code",
   "execution_count": 7,
   "id": "a87f4182",
   "metadata": {},
   "outputs": [],
   "source": [
    "i_lst=[]\n",
    "Z_lst=[]\n",
    "min_z=3; Z=30; Z_dec=0.99\n",
    "for episode in range(300):\n",
    "    if Z>min_z:\n",
    "        Z=Z*Z_dec\n",
    "    else:\n",
    "        Z=min_z\n",
    "    Z_lst.append(Z)\n",
    "    i_lst.append(episode)\n",
    "        "
   ]
  },
  {
   "cell_type": "code",
   "execution_count": 8,
   "id": "8da9ba84",
   "metadata": {},
   "outputs": [
    {
     "data": {
      "image/png": "[encoded data removed]",
      "text/plain": [
       "<Figure size 432x288 with 1 Axes>"
      ]
     },
     "metadata": {
      "needs_background": "light"
     },
     "output_type": "display_data"
    }
   ],
   "source": [
    "plt.plot(i_lst, Z_lst, 'o', alpha=0.25,)\n",
    "plt.xlabel('Episode Number')\n",
    "plt.ylabel('Starting Home Z height (meters)')\n",
    "plt.show()"
   ]
  },
  {
   "cell_type": "code",
   "execution_count": 9,
   "id": "f8cfb85a",
   "metadata": {},
   "outputs": [],
   "source": [
    "# turn off gps saving train for 301 episodes \n",
    "# eps_dec=1e-3\n",
    "# min_z=3; Z=30; Z_dec=0.99\n",
    "#if Z>min_z: Z=Z*Z_dec\n",
    "#else: Z=min_z\n",
    "#env.Newhome([0,0,-1*Z])"
   ]
  },
  {
   "cell_type": "code",
   "execution_count": 10,
   "id": "a05ea734",
   "metadata": {},
   "outputs": [],
   "source": [
    "# Neighborhood_DDQNAgent_Just_Z-Reward_Low Successfully learned to go up. when it is too low.\n",
    "# Trained for 32 episodes at 10 seconds a piece \n",
    "# behaving properly an episode score of -7 is expected"
   ]
  },
  {
   "cell_type": "code",
   "execution_count": 11,
   "id": "cb47d5c0",
   "metadata": {},
   "outputs": [],
   "source": [
    "# add test results here:"
   ]
  },
  {
   "cell_type": "code",
   "execution_count": 12,
   "id": "36552528",
   "metadata": {},
   "outputs": [],
   "source": [
    "# restart epsilon at 0.75 with z low model as base\n",
    "# then slowly increase the height of home\n",
    "# lr=0.0001,"
   ]
  },
  {
   "cell_type": "code",
   "execution_count": 13,
   "id": "44388f11",
   "metadata": {},
   "outputs": [],
   "source": [
    "i_lst=[]\n",
    "Z_lst=[]\n",
    "max_z=120; Z=30; Z_dec=1.01\n",
    "for episode in range(300):\n",
    "    high=np.random.choice([0,1], p=[0.1, 0.9])\n",
    "    if high==1:\n",
    "        if Z<max_z:\n",
    "            Z=Z*Z_dec\n",
    "        else:\n",
    "            Z=max_z\n",
    "        Z_lst.append(Z)\n",
    "    else: Z_lst.append(7)\n",
    "    i_lst.append(episode)"
   ]
  },
  {
   "cell_type": "code",
   "execution_count": 14,
   "id": "b30cc77b",
   "metadata": {},
   "outputs": [
    {
     "data": {
      "image/png": "[encoded data removed]",
      "text/plain": [
       "<Figure size 432x288 with 1 Axes>"
      ]
     },
     "metadata": {
      "needs_background": "light"
     },
     "output_type": "display_data"
    }
   ],
   "source": [
    "plt.plot(i_lst, Z_lst, 'o', alpha=0.25,)\n",
    "plt.xlabel('Episode Number')\n",
    "plt.ylabel('Starting Home Z height (meters)')\n",
    "plt.show()"
   ]
  },
  {
   "cell_type": "markdown",
   "id": "b78e68ad",
   "metadata": {},
   "source": [
    "### Honey I'm home, x=0.0 y=0.0 z-5.0\n",
    "\n",
    "action, reward, info:\n",
    "\n",
    "* 6 -14.90  Height Penalty: -14.9 Z: 7.3(m), Distance From Home: 3.2 (m),\n",
    "* 6 -5.71  Height Penalty: -5.7 Z: 13.3(m), Distance From Home: 9.2 (m),\n",
    "* 6 -2.69  Height Penalty: -2.7 Z: 19.4(m), Distance From Home: 15.3 (m),\n",
    "* 6 -1.43  Height Penalty: -1.4 Z: 25.4(m), Distance From Home: 21.3 (m),\n",
    "* 0 -1.29  Height Penalty: -1.3 Z: 26.4(m), Distance From Home: 21.5 (m),\n",
    "* 3 -2.20  Height Penalty: -2.2 Z: 21.2(m), Distance From Home: 15.6 (m),\n",
    "* 6 -1.39  Height Penalty: -1.4 Z: 25.7(m), Distance From Home: 21.6 (m),\n",
    "* 2 -1.27  Height Penalty: -1.3 Z: 26.6(m), Distance From Home: 22.7 (m),\n",
    "* 2 -1.54  Height Penalty: -1.5 Z: 24.6(m), Distance From Home: 25.0 (m),\n",
    "* 6 -0.92  Height Penalty: -0.9 Z: 31.6(m), Distance From Home: 30.5 (m),\n",
    "* 2 -0.98  Height Penalty: -1.0 Z: 32.3(m), Distance From Home: 33.2 (m),\n",
    "* 2 -1.01  Height Penalty: -1.0 Z: 32.7(m), Distance From Home: 36.8 (m),\n",
    "* 2 -1.02  Height Penalty: -1.0 Z: 32.8(m), Distance From Home: 40.9 (m),\n",
    "* 2 -1.00  Height Penalty: -1.0 Z: 32.5(m), Distance From Home: 45.4 (m),\n",
    "* 2 -1.03  Height Penalty: -1.0 Z: 32.8(m), Distance From Home: 50.1 (m),\n",
    "* 2 -1.03  Height Penalty: -1.0 Z: 32.9(m), Distance From Home: 55.1 (m),\n",
    "\n",
    "tic toc ... time is up (30 seconds)\n",
    "\n",
    "\n",
    "### Honey I'm home, x=0.0 y=0.0 z-65.0\n",
    "* 3 -7.88  Height Penalty: -7.9 Z: 60.3(m), Distance From Home: 4.9 (m),\n",
    "* 3 -5.44  Height Penalty: -5.4 Z: 54.7(m), Distance From Home: 10.9 (m),\n",
    "* 3 -3.60  Height Penalty: -3.6 Z: 48.8(m), Distance From Home: 16.8 (m),\n",
    "* 3 -2.31  Height Penalty: -2.3 Z: 42.8(m), Distance From Home: 22.8 (m),\n",
    "* 3 -1.45  Height Penalty: -1.4 Z: 36.9(m), Distance From Home: 28.7 (m),\n",
    "* 3 -0.84  Height Penalty: -0.8 Z: 31.0(m), Distance From Home: 34.6 (m),\n",
    "* 0 -0.92  Height Penalty: -0.9 Z: 30.0(m), Distance From Home: 34.9 (m),\n",
    "* 2 -0.96  Height Penalty: -1.0 Z: 29.6(m), Distance From Home: 35.4 (m),\n",
    "* 2 -1.03  Height Penalty: -1.0 Z: 28.8(m), Distance From Home: 36.8 (m),\n",
    "* 2 -0.92  Height Penalty: -0.9 Z: 30.0(m), Distance From Home: 39.0 (m),\n",
    "* 2 -0.92  Height Penalty: -0.9 Z: 30.1(m), Distance From Home: 41.9 (m),\n",
    "* 2 -0.91  Height Penalty: -0.9 Z: 30.1(m), Distance From Home: 45.4 (m),\n",
    "* 2 -0.92  Height Penalty: -0.9 Z: 30.1(m), Distance From Home: 49.4 (m),\n",
    "* 2 -0.90  Height Penalty: -0.9 Z: 30.2(m), Distance From Home: 53.7 (m),\n",
    "* 2 -0.90  Height Penalty: -0.9 Z: 30.3(m), Distance From Home: 58.3 (m),\n",
    "* 2 -0.90  Height Penalty: -0.9 Z: 30.2(m), Distance From Home: 63.0 (m),\n",
    "\n",
    "tic toc ... time is up (30 seconds)"
   ]
  },
  {
   "cell_type": "code",
   "execution_count": 15,
   "id": "4b974158",
   "metadata": {},
   "outputs": [],
   "source": [
    "df_road=pd.read_csv('data/intersection_positions.csv', header=None)\n",
    "df_road.columns=['x','y','z']\n",
    "df_road.loc[len(df_road)]=[0,0,0]"
   ]
  },
  {
   "cell_type": "code",
   "execution_count": 16,
   "id": "6f028588",
   "metadata": {},
   "outputs": [
    {
     "data": {
      "image/png": "[encoded data removed]",
      "text/plain": [
       "<Figure size 504x504 with 1 Axes>"
      ]
     },
     "metadata": {
      "needs_background": "light"
     },
     "output_type": "display_data"
    }
   ],
   "source": [
    "fig, ax = plt.subplots(1,1, figsize=(7,7))\n",
    "plt.plot(df_road['x'], df_road['y'], 'o', alpha=0.25,)\n",
    "plt.xlabel('x-axis (meters)')\n",
    "plt.ylabel('y-axis (meters)')\n",
    "#plt.gca().invert_xaxis()\n",
    "plt.gca().invert_yaxis()\n",
    "plt.show()"
   ]
  },
  {
   "cell_type": "code",
   "execution_count": null,
   "id": "f96c4b2f",
   "metadata": {},
   "outputs": [],
   "source": []
  },
  {
   "cell_type": "code",
   "execution_count": 17,
   "id": "b415790c",
   "metadata": {},
   "outputs": [
    {
     "data": {
      "text/plain": [
       "5"
      ]
     },
     "execution_count": 17,
     "metadata": {},
     "output_type": "execute_result"
    }
   ],
   "source": [
    "np.random.choice([5,75,40,20,30], p=[0.1,0.1, 0.3, 0.3,0.2])"
   ]
  },
  {
   "cell_type": "markdown",
   "id": "361b7de5",
   "metadata": {},
   "source": [
    "# Neighborhood_DDQNAgent__Z-Reward_&_Road_Follow"
   ]
  },
  {
   "cell_type": "code",
   "execution_count": 18,
   "id": "5cd9eb70",
   "metadata": {},
   "outputs": [
    {
     "data": {
      "text/html": [
       "<div>\n",
       "<style scoped>\n",
       "    .dataframe tbody tr th:only-of-type {\n",
       "        vertical-align: middle;\n",
       "    }\n",
       "\n",
       "    .dataframe tbody tr th {\n",
       "        vertical-align: top;\n",
       "    }\n",
       "\n",
       "    .dataframe thead th {\n",
       "        text-align: right;\n",
       "    }\n",
       "</style>\n",
       "<table border=\"1\" class=\"dataframe\">\n",
       "  <thead>\n",
       "    <tr style=\"text-align: right;\">\n",
       "      <th></th>\n",
       "      <th>x</th>\n",
       "      <th>y</th>\n",
       "      <th>z</th>\n",
       "    </tr>\n",
       "  </thead>\n",
       "  <tbody>\n",
       "    <tr>\n",
       "      <th>0</th>\n",
       "      <td>70.000000</td>\n",
       "      <td>0.000000</td>\n",
       "      <td>-7.336302</td>\n",
       "    </tr>\n",
       "    <tr>\n",
       "      <th>3</th>\n",
       "      <td>75.394096</td>\n",
       "      <td>-10.000000</td>\n",
       "      <td>-7.177466</td>\n",
       "    </tr>\n",
       "    <tr>\n",
       "      <th>4</th>\n",
       "      <td>75.393738</td>\n",
       "      <td>-0.320083</td>\n",
       "      <td>-7.063250</td>\n",
       "    </tr>\n",
       "  </tbody>\n",
       "</table>\n",
       "</div>"
      ],
      "text/plain": [
       "           x          y         z\n",
       "0  70.000000   0.000000 -7.336302\n",
       "3  75.394096 -10.000000 -7.177466\n",
       "4  75.393738  -0.320083 -7.063250"
      ]
     },
     "execution_count": 18,
     "metadata": {},
     "output_type": "execute_result"
    }
   ],
   "source": [
    "df_road[(df_road['x'].between(50,101))&(df_road['y'].between(-20,0))]"
   ]
  },
  {
   "cell_type": "code",
   "execution_count": 19,
   "id": "2ac6d5df",
   "metadata": {},
   "outputs": [
    {
     "data": {
      "text/html": [
       "<div>\n",
       "<style scoped>\n",
       "    .dataframe tbody tr th:only-of-type {\n",
       "        vertical-align: middle;\n",
       "    }\n",
       "\n",
       "    .dataframe tbody tr th {\n",
       "        vertical-align: top;\n",
       "    }\n",
       "\n",
       "    .dataframe thead th {\n",
       "        text-align: right;\n",
       "    }\n",
       "</style>\n",
       "<table border=\"1\" class=\"dataframe\">\n",
       "  <thead>\n",
       "    <tr style=\"text-align: right;\">\n",
       "      <th></th>\n",
       "      <th>x</th>\n",
       "      <th>y</th>\n",
       "    </tr>\n",
       "  </thead>\n",
       "  <tbody>\n",
       "    <tr>\n",
       "      <th>0</th>\n",
       "      <td>100</td>\n",
       "      <td>0</td>\n",
       "    </tr>\n",
       "    <tr>\n",
       "      <th>1</th>\n",
       "      <td>75</td>\n",
       "      <td>-15</td>\n",
       "    </tr>\n",
       "    <tr>\n",
       "      <th>2</th>\n",
       "      <td>0</td>\n",
       "      <td>-100</td>\n",
       "    </tr>\n",
       "    <tr>\n",
       "      <th>3</th>\n",
       "      <td>0</td>\n",
       "      <td>100</td>\n",
       "    </tr>\n",
       "    <tr>\n",
       "      <th>4</th>\n",
       "      <td>-100</td>\n",
       "      <td>0</td>\n",
       "    </tr>\n",
       "  </tbody>\n",
       "</table>\n",
       "</div>"
      ],
      "text/plain": [
       "     x    y\n",
       "0  100    0\n",
       "1   75  -15\n",
       "2    0 -100\n",
       "3    0  100\n",
       "4 -100    0"
      ]
     },
     "execution_count": 19,
     "metadata": {},
     "output_type": "execute_result"
    }
   ],
   "source": [
    "\n",
    "df_home=pd.DataFrame([[100,0], [75,-15], [0,-100], [0,100], [-100,0]], columns=['x','y'])\n",
    "df_home"
   ]
  },
  {
   "cell_type": "code",
   "execution_count": 20,
   "id": "7f6295aa",
   "metadata": {},
   "outputs": [
    {
     "data": {
      "text/html": [
       "<div>\n",
       "<style scoped>\n",
       "    .dataframe tbody tr th:only-of-type {\n",
       "        vertical-align: middle;\n",
       "    }\n",
       "\n",
       "    .dataframe tbody tr th {\n",
       "        vertical-align: top;\n",
       "    }\n",
       "\n",
       "    .dataframe thead th {\n",
       "        text-align: right;\n",
       "    }\n",
       "</style>\n",
       "<table border=\"1\" class=\"dataframe\">\n",
       "  <thead>\n",
       "    <tr style=\"text-align: right;\">\n",
       "      <th></th>\n",
       "      <th>x</th>\n",
       "      <th>y</th>\n",
       "      <th>radius</th>\n",
       "    </tr>\n",
       "  </thead>\n",
       "  <tbody>\n",
       "    <tr>\n",
       "      <th>0</th>\n",
       "      <td>75</td>\n",
       "      <td>0</td>\n",
       "      <td>20</td>\n",
       "    </tr>\n",
       "    <tr>\n",
       "      <th>1</th>\n",
       "      <td>75</td>\n",
       "      <td>-40</td>\n",
       "      <td>20</td>\n",
       "    </tr>\n",
       "    <tr>\n",
       "      <th>2</th>\n",
       "      <td>0</td>\n",
       "      <td>-75</td>\n",
       "      <td>20</td>\n",
       "    </tr>\n",
       "    <tr>\n",
       "      <th>3</th>\n",
       "      <td>0</td>\n",
       "      <td>75</td>\n",
       "      <td>20</td>\n",
       "    </tr>\n",
       "    <tr>\n",
       "      <th>4</th>\n",
       "      <td>-75</td>\n",
       "      <td>0</td>\n",
       "      <td>20</td>\n",
       "    </tr>\n",
       "  </tbody>\n",
       "</table>\n",
       "</div>"
      ],
      "text/plain": [
       "    x   y  radius\n",
       "0  75   0      20\n",
       "1  75 -40      20\n",
       "2   0 -75      20\n",
       "3   0  75      20\n",
       "4 -75   0      20"
      ]
     },
     "execution_count": 20,
     "metadata": {},
     "output_type": "execute_result"
    }
   ],
   "source": [
    "df_nofly=pd.DataFrame([[75,0, 20],[75,-40,20],[0,-75,20],[0,75,20],[-75,0, 20]], columns=['x','y','radius'])\n",
    "df_nofly"
   ]
  },
  {
   "cell_type": "code",
   "execution_count": 21,
   "id": "fb179aa6",
   "metadata": {},
   "outputs": [
    {
     "data": {
      "text/plain": [
       "[-100, 0, 20]"
      ]
     },
     "execution_count": 21,
     "metadata": {},
     "output_type": "execute_result"
    }
   ],
   "source": [
    "idx=df_home.sample().index[0]; idx\n",
    "list(df_home.loc[idx])+[np.random.choice([5,75,40,20,30], p=[0.1,0.1, 0.3, 0.3,0.2])]"
   ]
  },
  {
   "cell_type": "code",
   "execution_count": 22,
   "id": "421dae8e",
   "metadata": {},
   "outputs": [
    {
     "data": {
      "text/plain": [
       "[[-75, 0, 20]]"
      ]
     },
     "execution_count": 22,
     "metadata": {},
     "output_type": "execute_result"
    }
   ],
   "source": [
    "[list(df_nofly.loc[idx])]"
   ]
  },
  {
   "cell_type": "code",
   "execution_count": 23,
   "id": "a1d59807",
   "metadata": {},
   "outputs": [],
   "source": [
    "df_summary=pd.read_csv('data/Neighborhood_DDQNAgent_Z_&_Road_Follow-Reward_w_BackTrack_Penalty35.csv')"
   ]
  },
  {
   "cell_type": "code",
   "execution_count": 24,
   "id": "72e98bbc",
   "metadata": {},
   "outputs": [
    {
     "data": {
      "text/html": [
       "<div>\n",
       "<style scoped>\n",
       "    .dataframe tbody tr th:only-of-type {\n",
       "        vertical-align: middle;\n",
       "    }\n",
       "\n",
       "    .dataframe tbody tr th {\n",
       "        vertical-align: top;\n",
       "    }\n",
       "\n",
       "    .dataframe thead th {\n",
       "        text-align: right;\n",
       "    }\n",
       "</style>\n",
       "<table border=\"1\" class=\"dataframe\">\n",
       "  <thead>\n",
       "    <tr style=\"text-align: right;\">\n",
       "      <th></th>\n",
       "      <th>Episode</th>\n",
       "      <th>Score</th>\n",
       "      <th>Average Score</th>\n",
       "      <th>Best Score</th>\n",
       "      <th>steps</th>\n",
       "      <th>Model Saved</th>\n",
       "      <th>Epsilon</th>\n",
       "      <th>Dropout</th>\n",
       "      <th>Vehicle Name</th>\n",
       "    </tr>\n",
       "  </thead>\n",
       "  <tbody>\n",
       "    <tr>\n",
       "      <th>88</th>\n",
       "      <td>88</td>\n",
       "      <td>-369.209740</td>\n",
       "      <td>-1015.879489</td>\n",
       "      <td>-1399.470892</td>\n",
       "      <td>586</td>\n",
       "      <td>True</td>\n",
       "      <td>0.9890</td>\n",
       "      <td>0.001</td>\n",
       "      <td>Drone0</td>\n",
       "    </tr>\n",
       "    <tr>\n",
       "      <th>230</th>\n",
       "      <td>230</td>\n",
       "      <td>437.914609</td>\n",
       "      <td>-866.395339</td>\n",
       "      <td>-1015.879489</td>\n",
       "      <td>1962</td>\n",
       "      <td>True</td>\n",
       "      <td>0.3010</td>\n",
       "      <td>0.001</td>\n",
       "      <td>Drone0</td>\n",
       "    </tr>\n",
       "    <tr>\n",
       "      <th>231</th>\n",
       "      <td>231</td>\n",
       "      <td>405.459021</td>\n",
       "      <td>-854.558132</td>\n",
       "      <td>-866.395339</td>\n",
       "      <td>1972</td>\n",
       "      <td>True</td>\n",
       "      <td>0.2960</td>\n",
       "      <td>0.001</td>\n",
       "      <td>Drone0</td>\n",
       "    </tr>\n",
       "    <tr>\n",
       "      <th>244</th>\n",
       "      <td>244</td>\n",
       "      <td>32.158955</td>\n",
       "      <td>-194.856068</td>\n",
       "      <td>-854.558132</td>\n",
       "      <td>2102</td>\n",
       "      <td>True</td>\n",
       "      <td>0.2310</td>\n",
       "      <td>0.001</td>\n",
       "      <td>Drone0</td>\n",
       "    </tr>\n",
       "    <tr>\n",
       "      <th>245</th>\n",
       "      <td>245</td>\n",
       "      <td>45.574839</td>\n",
       "      <td>-140.251571</td>\n",
       "      <td>-194.856068</td>\n",
       "      <td>2111</td>\n",
       "      <td>True</td>\n",
       "      <td>0.2265</td>\n",
       "      <td>0.001</td>\n",
       "      <td>Drone0</td>\n",
       "    </tr>\n",
       "  </tbody>\n",
       "</table>\n",
       "</div>"
      ],
      "text/plain": [
       "     Episode       Score  Average Score   Best Score  steps  Model Saved  \\\n",
       "88        88 -369.209740   -1015.879489 -1399.470892    586         True   \n",
       "230      230  437.914609    -866.395339 -1015.879489   1962         True   \n",
       "231      231  405.459021    -854.558132  -866.395339   1972         True   \n",
       "244      244   32.158955    -194.856068  -854.558132   2102         True   \n",
       "245      245   45.574839    -140.251571  -194.856068   2111         True   \n",
       "\n",
       "     Epsilon  Dropout Vehicle Name  \n",
       "88    0.9890    0.001       Drone0  \n",
       "230   0.3010    0.001       Drone0  \n",
       "231   0.2960    0.001       Drone0  \n",
       "244   0.2310    0.001       Drone0  \n",
       "245   0.2265    0.001       Drone0  "
      ]
     },
     "execution_count": 24,
     "metadata": {},
     "output_type": "execute_result"
    }
   ],
   "source": [
    "df_summary[df_summary['Model Saved']==True].tail()"
   ]
  },
  {
   "cell_type": "code",
   "execution_count": 25,
   "id": "7fb6d724",
   "metadata": {},
   "outputs": [
    {
     "data": {
      "image/png": "[encoded data removed]",
      "text/plain": [
       "<Figure size 1600x960 with 1 Axes>"
      ]
     },
     "metadata": {},
     "output_type": "display_data"
    }
   ],
   "source": [
    "fig=plt.figure(figsize=(20, 12), dpi=80, facecolor='w', edgecolor='k')\n",
    "#filename = os.path.join(path, f'{filename}.png')\n",
    "plt.scatter(df_summary['Episode'], df_summary['Score'], alpha=0.5, label='Episode Score')\n",
    "plt.plot(df_summary['Episode'], df_summary['Average Score'], color='orange', label='Running Average')\n",
    "plt.ylabel('Reward')\n",
    "plt.xlabel('Episodes')\n",
    "plt.legend(loc=2)\n",
    "\n",
    "#plt.ylim(-1000,10)\n",
    "plt.grid()\n",
    "\n",
    "\n",
    "#plt.savefig(filename)\n",
    "#if show: \n",
    "plt.show()"
   ]
  },
  {
   "cell_type": "code",
   "execution_count": null,
   "id": "37415b48",
   "metadata": {},
   "outputs": [],
   "source": [
    "100 episodes at position 1.  30 seconds. epislon 0.75 then\n",
    "100 episodes at position 0. 35 seconds. epsilon 0.75 and learning rate lr=0.00001"
   ]
  },
  {
   "cell_type": "code",
   "execution_count": null,
   "id": "c3348587",
   "metadata": {},
   "outputs": [],
   "source": [
    "Honey I'm home, x=75.0 y=-15.0 z-20.0\n",
    "1 59.81  Road Reward: 76.5, Height Penalty: -2.5 Z: 20.1(m), No Fly Zone Distance: 5.4, Distance From Home: 7.5 (m), Tue Mar 29, 22 at 19:04\n",
    "4 37.22  Road Reward: 64.5, Height Penalty: -2.6 Z: 19.8(m), No Fly Zone Distance: 4.1, Distance From Home: 1.9 (m), Tue Mar 29, 22 at 19:04\n",
    "6 44.11  Road Reward: 70.1, Height Penalty: -1.5 Z: 24.9(m), No Fly Zone Distance: 4.1, Distance From Home: 5.9 (m), Tue Mar 29, 22 at 19:04\n",
    "2 77.26  Road Reward: 81.3, Height Penalty: -1.5 Z: 25.0(m), No Fly Zone Distance: 9.8, Distance From Home: 7.2 (m), Tue Mar 29, 22 at 19:04\n",
    "1 75.17  Road Reward: 78.9, Height Penalty: -1.5 Z: 25.1(m), No Fly Zone Distance: 10.3, Distance From Home: 9.6 (m), Tue Mar 29, 22 at 19:04\n",
    "2 84.42  Road Reward: 86.3, Height Penalty: -1.5 Z: 25.1(m), No Fly Zone Distance: 15.9, Distance From Home: 13.3 (m), Tue Mar 29, 22 at 19:04\n",
    "6 74.91  Road Reward: 76.2, Height Penalty: -0.9 Z: 30.1(m), No Fly Zone Distance: 16.1, Distance From Home: 16.6 (m), Tue Mar 29, 22 at 19:04\n",
    "2 53.97  Road Reward: 55.0, Height Penalty: -0.9 Z: 29.9(m), No Fly Zone Distance: 22.0, Distance From Home: 20.6 (m), Tue Mar 29, 22 at 19:04\n",
    "5 76.23  Road Reward: 77.4, Height Penalty: -0.9 Z: 30.3(m), No Fly Zone Distance: 16.8, Distance From Home: 16.8 (m), Tue Mar 29, 22 at 19:04\n",
    "tic toc ... time is up\n",
    "\n"
   ]
  },
  {
   "cell_type": "code",
   "execution_count": null,
   "id": "5d4b7391",
   "metadata": {},
   "outputs": [],
   "source": [
    "if action == 0: # rotate drone to see left and right\n",
    "    self.quad_offset = (0, 0, 0)\n",
    "    self.client.rotateToYawAsync(90, 1,2, vehicle_name=self.vehicle_name).join()\n",
    "elif action == 1: self.quad_offset = (scale, 0, 0)\n",
    "elif action == 2: self.quad_offset = (0, scale, 0)\n",
    "elif action == 3: self.quad_offset = (0, 0, scale) # up\n",
    "elif action == 4: self.quad_offset = (-scale, 0, 0)\n",
    "elif action == 5: self.quad_offset = (0, -scale, 0)\n",
    "elif action == 6: self.quad_offset = (0, 0, -scale)\n"
   ]
  },
  {
   "cell_type": "code",
   "execution_count": null,
   "id": "7d9d9a2b",
   "metadata": {},
   "outputs": [],
   "source": []
  },
  {
   "cell_type": "code",
   "execution_count": null,
   "id": "b2b6f9b1",
   "metadata": {},
   "outputs": [],
   "source": [
    "Honey I'm home, x=75.0 y=-15.0 z-15.0\n",
    "1 67.37  Road Reward: 85.7, Height Penalty: -4.5 Z: 15.1(m), Backtrack Penalty: 0.0, No Fly Zone Distance: 5.5, Distance From Home: 7.5 (m),\n",
    "1 31.17  Road Reward: 40.8, Height Penalty: -4.5 Z: 15.1(m), Backtrack Penalty: 0.0, No Fly Zone Distance: 8.0, Distance From Home: 13.4 (m),\n",
    "1 -7.56  Road Reward: 0.5, Height Penalty: -6.4 Z: 12.5(m), Backtrack Penalty: 0.0, No Fly Zone Distance: 11.2, Distance From Home: 19.3 (m),\n",
    "1 -5.46  Road Reward: 2.0, Height Penalty: -7.0 Z: 11.9(m), Backtrack Penalty: 0.0, No Fly Zone Distance: 15.1, Distance From Home: 25.2 (m),\n",
    "1 -4.28  Road Reward: 2.5, Height Penalty: -6.7 Z: 12.2(m), Backtrack Penalty: 0.0, No Fly Zone Distance: 19.6, Distance From Home: 31.1 (m),\n",
    "1 -1.65  Road Reward: 2.8, Height Penalty: -4.4 Z: 15.4(m), Backtrack Penalty: 0.0, No Fly Zone Distance: 24.4, Distance From Home: 37.0 (m),\n",
    "2 41.98  Road Reward: 56.3, Height Penalty: -4.3 Z: 15.5(m), Backtrack Penalty: -10.0, No Fly Zone Distance: 28.6, Distance From Home: 38.5 (m),\n",
    "1 64.86  Road Reward: 79.2, Height Penalty: -4.4 Z: 15.4(m), Backtrack Penalty: -10.0, No Fly Zone Distance: 33.4, Distance From Home: 44.3 (m),\n",
    "1 75.34  Road Reward: 89.5, Height Penalty: -4.2 Z: 15.7(m), Backtrack Penalty: -10.0, No Fly Zone Distance: 37.9, Distance From Home: 50.0 (m),\n",
    "1 70.43  Road Reward: 84.7, Height Penalty: -4.2 Z: 15.6(m), Backtrack Penalty: -10.0, No Fly Zone Distance: 43.2, Distance From Home: 55.8 (m),\n",
    "1 35.96  Road Reward: 40.6, Height Penalty: -4.7 Z: 14.8(m), Backtrack Penalty: 0.0, No Fly Zone Distance: 48.3, Distance From Home: 61.7 (m),\n",
    "2 9.25  Road Reward: 23.5, Height Penalty: -4.2 Z: 15.6(m), Backtrack Penalty: -10.0, No Fly Zone Distance: 52.1, Distance From Home: 63.7 (m),\n",
    "2 45.76  Road Reward: 60.2, Height Penalty: -4.5 Z: 15.2(m), Backtrack Penalty: -10.0, No Fly Zone Distance: 54.4, Distance From Home: 64.1 (m),\n",
    "2 10.62  Road Reward: 25.2, Height Penalty: -4.6 Z: 15.0(m), Backtrack Penalty: -10.0, No Fly Zone Distance: 58.2, Distance From Home: 66.3 (m),\n",
    "2 -23.15  Road Reward: 14.8, Height Penalty: -38.0 Z: 3.1(m), Backtrack Penalty: 0.0, No Fly Zone Distance: 61.7, Distance From Home: 68.2 (m),\n",
    "2 21.61  Road Reward: 29.1, Height Penalty: -7.5 Z: 11.4(m), Backtrack Penalty: 0.0, No Fly Zone Distance: 65.8, Distance From Home: 71.0 (m),\n",
    "2 38.95  Road Reward: 43.1, Height Penalty: -4.2 Z: 15.8(m), Backtrack Penalty: 0.0, No Fly Zone Distance: 69.9, Distance From Home: 74.0 (m),\n",
    "1 -14.15  Road Reward: 0.2, Height Penalty: -4.4 Z: 15.4(m), Backtrack Penalty: -10.0, No Fly Zone Distance: 74.8, Distance From Home: 79.4 (m),\n",
    "tic toc ... time is up\n",
    "Finished at Wed Mar 30, 22 at 18:24\n",
    "\n"
   ]
  },
  {
   "cell_type": "code",
   "execution_count": null,
   "id": "0767b1f1",
   "metadata": {},
   "outputs": [],
   "source": []
  },
  {
   "cell_type": "code",
   "execution_count": null,
   "id": "a896e157",
   "metadata": {},
   "outputs": [],
   "source": []
  },
  {
   "cell_type": "code",
   "execution_count": null,
   "id": "e29f6b26",
   "metadata": {},
   "outputs": [],
   "source": []
  },
  {
   "cell_type": "code",
   "execution_count": 19,
   "id": "93d92b16",
   "metadata": {},
   "outputs": [],
   "source": [
    "# start at 85(m) z drone failed to drop to correct height\n",
    "# Neighborhood_DDQNAgent_Just_Z-Reward_Low&High&ReallyHigh"
   ]
  },
  {
   "cell_type": "code",
   "execution_count": 18,
   "id": "29a6cb55",
   "metadata": {},
   "outputs": [
    {
     "data": {
      "image/png": "[encoded data removed]",
      "text/plain": [
       "<Figure size 432x288 with 1 Axes>"
      ]
     },
     "metadata": {
      "needs_background": "light"
     },
     "output_type": "display_data"
    }
   ],
   "source": [
    "i_lst=[]\n",
    "Z_lst=[]\n",
    "max_z=120; Z=70; Z_dec=1.003\n",
    "for episode in range(300):\n",
    "    high=np.random.choice([0,1,2], p=[0.1,0.1, 0.8])\n",
    "    if high==2:\n",
    "        if Z<max_z: Z=Z*Z_dec\n",
    "        else: Z=max_z\n",
    "        Z_lst.append(Z)\n",
    "    elif high==1: Z_lst.append(60)\n",
    "    else: Z_lst.append(7)\n",
    "    i_lst.append(episode)\n",
    "    \n",
    "plt.plot(i_lst, Z_lst, 'o', alpha=0.25,)\n",
    "plt.xlabel('Episode Number')\n",
    "plt.ylabel('Starting Home Z height (meters)')\n",
    "plt.show()"
   ]
  },
  {
   "cell_type": "code",
   "execution_count": null,
   "id": "7bdbbd56",
   "metadata": {},
   "outputs": [],
   "source": [
    "# add test results here:"
   ]
  },
  {
   "cell_type": "code",
   "execution_count": null,
   "id": "c4fd3015",
   "metadata": {},
   "outputs": [],
   "source": [
    "Honey I'm home, x=0.0 y=0.0 z-85.0\n",
    "\n",
    "action, total reward, info:\n",
    "\n",
    "* 3 -26.46  Height Penalty: -26.5 Z: 80.6(m), Distance From Home: 4.7 (m),\n",
    "* 3 -19.13  Height Penalty: -19.1 Z: 74.9(m), Distance From Home: 10.6 (m),\n",
    "* 3 -13.24  Height Penalty: -13.2 Z: 68.7(m), Distance From Home: 16.5 (m),\n",
    "* 3 -9.35  Height Penalty: -9.3 Z: 63.0(m), Distance From Home: 22.5 (m),\n",
    "* 3 -6.40  Height Penalty: -6.4 Z: 57.2(m), Distance From Home: 28.5 (m),\n",
    "* 3 -4.25  Height Penalty: -4.2 Z: 51.1(m), Distance From Home: 34.5 (m),\n",
    "* 3 -2.77  Height Penalty: -2.8 Z: 45.2(m), Distance From Home: 40.4 (m),\n",
    "* 3 -1.74  Height Penalty: -1.7 Z: 39.2(m), Distance From Home: 46.5 (m),\n",
    "* 3 -1.06  Height Penalty: -1.1 Z: 33.2(m), Distance From Home: 52.4 (m),\n",
    "* 3 -1.18  Height Penalty: -1.2 Z: 27.4(m), Distance From Home: 58.3 (m),\n",
    "* 3 -2.14  Height Penalty: -2.1 Z: 21.5(m), Distance From Home: 64.2 (m),\n",
    "* 6 -1.36  Height Penalty: -1.4 Z: 25.9(m), Distance From Home: 58.1 (m),\n",
    "* 6 -0.95  Height Penalty: -1.0 Z: 32.0(m), Distance From Home: 52.1 (m),\n",
    "* 3 -1.15  Height Penalty: -1.2 Z: 27.6(m), Distance From Home: 58.1 (m),\n",
    "* 3 -2.12  Height Penalty: -2.1 Z: 21.6(m), Distance From Home: 64.1 (m),\n",
    "* 6 -1.34  Height Penalty: -1.3 Z: 26.1(m), Distance From Home: 58.0 (m),\n",
    "* 2 -1.22  Height Penalty: -1.2 Z: 27.0(m), Distance From Home: 58.1 (m),\n",
    "* 2 -1.50  Height Penalty: -1.5 Z: 24.9(m), Distance From Home: 58.9 (m),\n",
    "            \n",
    "tic toc ... time is up"
   ]
  },
  {
   "cell_type": "code",
   "execution_count": null,
   "id": "d4d32680",
   "metadata": {},
   "outputs": [],
   "source": []
  },
  {
   "cell_type": "code",
   "execution_count": null,
   "id": "0f411f14",
   "metadata": {},
   "outputs": [],
   "source": []
  },
  {
   "cell_type": "code",
   "execution_count": null,
   "id": "d9d3456e",
   "metadata": {},
   "outputs": [],
   "source": []
  },
  {
   "cell_type": "code",
   "execution_count": null,
   "id": "9258eeeb",
   "metadata": {},
   "outputs": [],
   "source": []
  },
  {
   "cell_type": "code",
   "execution_count": null,
   "id": "43613b80",
   "metadata": {},
   "outputs": [],
   "source": []
  }
 ],
 "metadata": {
  "kernelspec": {
   "display_name": "Python 3 (ipykernel)",
   "language": "python",
   "name": "python3"
  },
  "language_info": {
   "codemirror_mode": {
    "name": "ipython",
    "version": 3
   },
   "file_extension": ".py",
   "mimetype": "text/x-python",
   "name": "python",
   "nbconvert_exporter": "python",
   "pygments_lexer": "ipython3",
   "version": "3.7.11"
  }
 },
 "nbformat": 4,
 "nbformat_minor": 5
}
